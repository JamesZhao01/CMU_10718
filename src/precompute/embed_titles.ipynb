{
 "cells": [
  {
   "cell_type": "code",
   "execution_count": 1,
   "metadata": {},
   "outputs": [
    {
     "name": "stderr",
     "output_type": "stream",
     "text": [
      "c:\\Users\\James\\miniconda3\\envs\\cmu_10718\\Lib\\site-packages\\tqdm\\auto.py:21: TqdmWarning: IProgress not found. Please update jupyter and ipywidgets. See https://ipywidgets.readthedocs.io/en/stable/user_install.html\n",
      "  from .autonotebook import tqdm as notebook_tqdm\n"
     ]
    }
   ],
   "source": [
    "from transformers import AutoModel, AutoTokenizer\n",
    "from torch import Tensor\n",
    "import torch\n",
    "\n",
    "model = AutoModel.from_pretrained(\"thenlper/gte-base\").to(\"cuda\")\n",
    "tokenizer = AutoTokenizer.from_pretrained(\"thenlper/gte-base\")\n",
    "\n",
    "\n",
    "def average_pool(last_hidden_states: Tensor, attention_mask: Tensor) -> Tensor:\n",
    "    last_hidden = last_hidden_states.masked_fill(~attention_mask[..., None].bool(), 0.0)\n",
    "    return last_hidden.sum(dim=1) / attention_mask.sum(dim=1)[..., None]\n",
    "\n",
    "\n",
    "def process_batch(batch_of_text):\n",
    "    model.eval()\n",
    "    with torch.no_grad():\n",
    "        batch_dict = tokenizer(\n",
    "            batch_of_text,\n",
    "            max_length=512,\n",
    "            padding=True,\n",
    "            truncation=True,\n",
    "            return_tensors=\"pt\",\n",
    "        )\n",
    "        batch_dict = {k: v.to(\"cuda\") for k, v in batch_dict.items()}\n",
    "        outputs = model(**batch_dict)\n",
    "        embeddings = average_pool(\n",
    "            outputs.last_hidden_state, batch_dict[\"attention_mask\"]\n",
    "        )\n",
    "        return embeddings"
   ]
  },
  {
   "cell_type": "code",
   "execution_count": 2,
   "metadata": {},
   "outputs": [
    {
     "name": "stderr",
     "output_type": "stream",
     "text": [
      "Parsing animes...: 100%|██████████| 12294/12294 [00:01<00:00, 11621.06it/s]\n",
      "Parsing users...: 100%|██████████| 73515/73515 [00:39<00:00, 1842.06it/s]\n",
      "Resetting Train to k=0 ...: 100%|██████████| 48669/48669 [00:13<00:00, 3740.22it/s]\n"
     ]
    },
    {
     "name": "stdout",
     "output_type": "stream",
     "text": [
      "Number of Users: 54077, Hash[:8]: 9f0cd3, Hash: 9f0cd3119bd9ee7279856737c33aebb8\n",
      "Total Animes: 12294, Total Users: 54077\n"
     ]
    }
   ],
   "source": [
    "import os, json\n",
    "\n",
    "from utils.data.data_module import DataModule\n",
    "\n",
    "if os.getcwd().endswith(\"src\"):\n",
    "    os.chdir(\"..\")\n",
    "\n",
    "dataset_config = {}\n",
    "with open(\"configs/datasets/id_dataset.json\", \"r\") as f:\n",
    "    dataset_config_2 = json.load(f)\n",
    "    dataset_config.update(dataset_config_2)\n",
    "datamodule = DataModule(**dataset_config)"
   ]
  },
  {
   "cell_type": "code",
   "execution_count": 3,
   "metadata": {},
   "outputs": [
    {
     "name": "stderr",
     "output_type": "stream",
     "text": [
      "100%|██████████| 193/193 [00:15<00:00, 12.58it/s]\n"
     ]
    }
   ],
   "source": [
    "import tqdm\n",
    "\n",
    "all_embeddings = []\n",
    "n_anime = datamodule.max_anime_count\n",
    "for i in tqdm.tqdm(range(0, n_anime, 64)):\n",
    "    samples = [\n",
    "        datamodule.canonical_anime_mapping[i + j].name\n",
    "        for j in range(64)\n",
    "        if i + j < n_anime\n",
    "    ]\n",
    "    all_embeddings.append(process_batch(samples).detach().cpu().numpy())"
   ]
  },
  {
   "cell_type": "code",
   "execution_count": 4,
   "metadata": {},
   "outputs": [
    {
     "name": "stdout",
     "output_type": "stream",
     "text": [
      "(12294, 768)\n",
      "float32\n"
     ]
    }
   ],
   "source": [
    "import numpy as np\n",
    "\n",
    "stacked_embeddings = np.vstack(all_embeddings)\n",
    "os.makedirs(\"data/embeddings\", exist_ok=True)\n",
    "np.save(\"data/embeddings/gte-base_titles.npy\", stacked_embeddings)\n",
    "\n",
    "print(stacked_embeddings.shape)\n",
    "print(stacked_embeddings.dtype)"
   ]
  }
 ],
 "metadata": {
  "kernelspec": {
   "display_name": "cmu_10718",
   "language": "python",
   "name": "python3"
  },
  "language_info": {
   "codemirror_mode": {
    "name": "ipython",
    "version": 3
   },
   "file_extension": ".py",
   "mimetype": "text/x-python",
   "name": "python",
   "nbconvert_exporter": "python",
   "pygments_lexer": "ipython3",
   "version": "3.11.0"
  }
 },
 "nbformat": 4,
 "nbformat_minor": 2
}
