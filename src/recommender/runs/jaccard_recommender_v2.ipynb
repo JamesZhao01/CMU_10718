{
 "cells": [
  {
   "cell_type": "code",
   "execution_count": 1,
   "metadata": {},
   "outputs": [],
   "source": [
    "%load_ext autoreload\n",
    "%autoreload 2"
   ]
  },
  {
   "cell_type": "code",
   "execution_count": 2,
   "metadata": {},
   "outputs": [
    {
     "name": "stdout",
     "output_type": "stream",
     "text": [
      "jumping out of src\n"
     ]
    }
   ],
   "source": [
    "import os, json\n",
    "import numpy as np\n",
    "\n",
    "if not os.getcwd().endswith(\"src\"):\n",
    "    os.chdir(\"src\")\n",
    "    print(\"jumping into src\")\n",
    "\n",
    "from utils.data.data_module import DataModule\n",
    "from utils.data.testbench import TestBench\n",
    "from recommender.sweep_pipeline import Models\n",
    "\n",
    "if os.getcwd().endswith(\"src\"):\n",
    "    os.chdir(\"..\")\n",
    "    print(\"jumping out of src\")\n",
    "\n",
    "args = {\n",
    "    \"output_dir\": \"models/jaccard\",\n",
    "    \"dataset_config\": \"configs/datasets/masked_is_negative.json\",\n",
    "    \"model_config\": \"configs/jaccard/rownormalized.json\",\n",
    "    \"model\": \"jaccard\",\n",
    "    \"should_return_ids\": False,\n",
    "}\n",
    "dataset_config = {}\n",
    "model_config = {}\n",
    "output_dir = args[\"output_dir\"]\n",
    "if args[\"dataset_config\"]:\n",
    "    with open(args[\"dataset_config\"], \"r\") as f:\n",
    "        dataset_config_2 = json.load(f)\n",
    "        dataset_config.update(dataset_config_2)\n",
    "if args[\"model_config\"]:\n",
    "    with open(args[\"model_config\"], \"r\") as f:\n",
    "        model_config = json.load(f)\n",
    "\n",
    "os.makedirs(output_dir, exist_ok=True)\n",
    "os.environ[\"CUDA_LAUNCH_BLOCKING\"] = \"1\"\n",
    "os.environ[\"TORCH_USE_CUDA_DSA\"] = \"1\""
   ]
  },
  {
   "cell_type": "code",
   "execution_count": 3,
   "metadata": {},
   "outputs": [],
   "source": [
    "datamodule = DataModule(**dataset_config)\n",
    "testbench = TestBench(\n",
    "    datamodule,\n",
    "    should_return_ids=False,\n",
    "    sigmoid_scores=False,\n",
    ")"
   ]
  },
  {
   "cell_type": "code",
   "execution_count": 8,
   "metadata": {},
   "outputs": [
    {
     "name": "stderr",
     "output_type": "stream",
     "text": [
      "Building interaction matrix...: 100%|██████████| 54077/54077 [00:05<00:00, 9343.36it/s] \n",
      "Preserved Features: 100%|██████████| 5408/5408 [00:00<00:00, 26125.96it/s]\n"
     ]
    },
    {
     "name": "stdout",
     "output_type": "stream",
     "text": [
      "Start Time: 2024-11-19 22:11:05\n",
      "End Time: 2024-11-19 22:11:16\n"
     ]
    },
    {
     "name": "stderr",
     "output_type": "stream",
     "text": [
      "c:\\dev\\projects\\cmu\\CMU_10718\\src\\utils\\data\\testbench.py:218: RuntimeWarning: invalid value encountered in cast\n",
      "  predicted_probabilities = np.array(scores.flatten())\n"
     ]
    },
    {
     "name": "stdout",
     "output_type": "stream",
     "text": [
      "-2147483648 5\n"
     ]
    },
    {
     "ename": "TypeError",
     "evalue": "Cannot cast array data from dtype('float64') to dtype('int64') according to the rule 'safe'",
     "output_type": "error",
     "traceback": [
      "\u001b[1;31m---------------------------------------------------------------------------\u001b[0m",
      "\u001b[1;31mTypeError\u001b[0m                                 Traceback (most recent call last)",
      "Cell \u001b[1;32mIn[8], line 10\u001b[0m\n\u001b[0;32m      6\u001b[0m model \u001b[38;5;241m=\u001b[39m Models\u001b[38;5;241m.\u001b[39mfrom_string(args[\u001b[38;5;124m\"\u001b[39m\u001b[38;5;124mmodel\u001b[39m\u001b[38;5;124m\"\u001b[39m]\u001b[38;5;241m.\u001b[39mupper())(datamodule\u001b[38;5;241m=\u001b[39mdatamodule, \u001b[38;5;241m*\u001b[39m\u001b[38;5;241m*\u001b[39mmodel_config)\n\u001b[0;32m      8\u001b[0m model\u001b[38;5;241m.\u001b[39mtrain()\n\u001b[1;32m---> 10\u001b[0m metrics \u001b[38;5;241m=\u001b[39m \u001b[43mtestbench\u001b[49m\u001b[38;5;241;43m.\u001b[39;49m\u001b[43mfull_evaluation\u001b[49m\u001b[43m(\u001b[49m\u001b[43mmodel\u001b[49m\u001b[43m)\u001b[49m\n\u001b[0;32m     11\u001b[0m \u001b[38;5;28;01mwith\u001b[39;00m \u001b[38;5;28mopen\u001b[39m(os\u001b[38;5;241m.\u001b[39mpath\u001b[38;5;241m.\u001b[39mjoin(output_dir, \u001b[38;5;124m\"\u001b[39m\u001b[38;5;124moutput.txt\u001b[39m\u001b[38;5;124m\"\u001b[39m), \u001b[38;5;124m\"\u001b[39m\u001b[38;5;124mw\u001b[39m\u001b[38;5;124m\"\u001b[39m) \u001b[38;5;28;01mas\u001b[39;00m f:\n\u001b[0;32m     12\u001b[0m     \u001b[38;5;28;01mfor\u001b[39;00m k, v \u001b[38;5;129;01min\u001b[39;00m metrics\u001b[38;5;241m.\u001b[39mitems():\n",
      "File \u001b[1;32mc:\\dev\\projects\\cmu\\CMU_10718\\src\\utils\\data\\testbench.py:302\u001b[0m, in \u001b[0;36mTestBench.full_evaluation\u001b[1;34m(self, recommender, return_scores)\u001b[0m\n\u001b[0;32m    300\u001b[0m scores, k_recommended_shows \u001b[38;5;241m=\u001b[39m recommender\u001b[38;5;241m.\u001b[39minfer(preserved_features, k)\n\u001b[0;32m    301\u001b[0m \u001b[38;5;28;01massert\u001b[39;00m k_recommended_shows\u001b[38;5;241m.\u001b[39mshape \u001b[38;5;241m==\u001b[39m (\u001b[38;5;28mself\u001b[39m\u001b[38;5;241m.\u001b[39mn_test, k)\n\u001b[1;32m--> 302\u001b[0m results \u001b[38;5;241m=\u001b[39m \u001b[38;5;28;43mself\u001b[39;49m\u001b[38;5;241;43m.\u001b[39;49m\u001b[43mend_eval_test_set\u001b[49m\u001b[43m(\u001b[49m\u001b[43mscores\u001b[49m\u001b[43m,\u001b[49m\u001b[43m \u001b[49m\u001b[43mk_recommended_shows\u001b[49m\u001b[43m)\u001b[49m\n\u001b[0;32m    303\u001b[0m auxiliary_results \u001b[38;5;241m=\u001b[39m (\n\u001b[0;32m    304\u001b[0m     {\n\u001b[0;32m    305\u001b[0m         \u001b[38;5;124m\"\u001b[39m\u001b[38;5;124mk_recommended_shows\u001b[39m\u001b[38;5;124m\"\u001b[39m: k_recommended_shows,\n\u001b[1;32m   (...)\u001b[0m\n\u001b[0;32m    310\u001b[0m     \u001b[38;5;28;01melse\u001b[39;00m {}\n\u001b[0;32m    311\u001b[0m )\n\u001b[0;32m    312\u001b[0m \u001b[38;5;28;01mreturn\u001b[39;00m results \u001b[38;5;241m|\u001b[39m auxiliary_results\n",
      "File \u001b[1;32mc:\\dev\\projects\\cmu\\CMU_10718\\src\\utils\\data\\testbench.py:274\u001b[0m, in \u001b[0;36mTestBench.end_eval_test_set\u001b[1;34m(self, scores, k_recommended_shows)\u001b[0m\n\u001b[0;32m    270\u001b[0m diversity_score \u001b[38;5;241m=\u001b[39m \u001b[38;5;28mself\u001b[39m\u001b[38;5;241m.\u001b[39mcalculate_diversity_by_community_count(\n\u001b[0;32m    271\u001b[0m     k_recommended_shows\n\u001b[0;32m    272\u001b[0m )\n\u001b[0;32m    273\u001b[0m pseudo_iou \u001b[38;5;241m=\u001b[39m \u001b[38;5;28mself\u001b[39m\u001b[38;5;241m.\u001b[39mpseudo_iou(k_recommended_shows)\n\u001b[1;32m--> 274\u001b[0m calibration_scores \u001b[38;5;241m=\u001b[39m \u001b[38;5;28;43mself\u001b[39;49m\u001b[38;5;241;43m.\u001b[39;49m\u001b[43mbinary_calibration\u001b[49m\u001b[43m(\u001b[49m\u001b[43mscores\u001b[49m\u001b[43m,\u001b[49m\u001b[43m \u001b[49m\u001b[38;5;28;43mself\u001b[39;49m\u001b[38;5;241;43m.\u001b[39;49m\u001b[43mcalibration_buckets\u001b[49m\u001b[43m)\u001b[49m\n\u001b[0;32m    276\u001b[0m \u001b[38;5;28mprint\u001b[39m(\u001b[38;5;124mf\u001b[39m\u001b[38;5;124m\"\u001b[39m\u001b[38;5;124mThis model took \u001b[39m\u001b[38;5;132;01m{\u001b[39;00mtotal_runtime\u001b[38;5;132;01m:\u001b[39;00m\u001b[38;5;124m0.4f\u001b[39m\u001b[38;5;132;01m}\u001b[39;00m\u001b[38;5;124m seconds.\u001b[39m\u001b[38;5;124m\"\u001b[39m)\n\u001b[0;32m    277\u001b[0m \u001b[38;5;28mprint\u001b[39m(\u001b[38;5;124mf\u001b[39m\u001b[38;5;124m\"\u001b[39m\u001b[38;5;124mOut of an optimal score of 1.0, you scored \u001b[39m\u001b[38;5;132;01m{\u001b[39;00mndcg_score\u001b[38;5;132;01m:\u001b[39;00m\u001b[38;5;124m0.4f\u001b[39m\u001b[38;5;132;01m}\u001b[39;00m\u001b[38;5;124m.\u001b[39m\u001b[38;5;124m\"\u001b[39m)\n",
      "File \u001b[1;32mc:\\dev\\projects\\cmu\\CMU_10718\\src\\utils\\data\\testbench.py:224\u001b[0m, in \u001b[0;36mTestBench.binary_calibration\u001b[1;34m(self, scores, buckets)\u001b[0m\n\u001b[0;32m    222\u001b[0m \u001b[38;5;28mprint\u001b[39m(np\u001b[38;5;241m.\u001b[39mmin(predicted_probabilities), np\u001b[38;5;241m.\u001b[39mmax(predicted_probabilities))\n\u001b[0;32m    223\u001b[0m bucket_idx \u001b[38;5;241m=\u001b[39m np\u001b[38;5;241m.\u001b[39mfloor(predicted_probabilities \u001b[38;5;241m/\u001b[39m buckets)\n\u001b[1;32m--> 224\u001b[0m bucket_frequencies \u001b[38;5;241m=\u001b[39m \u001b[43mnp\u001b[49m\u001b[38;5;241;43m.\u001b[39;49m\u001b[43mbincount\u001b[49m\u001b[43m(\u001b[49m\u001b[43mbucket_idx\u001b[49m\u001b[43m)\u001b[49m\n\u001b[0;32m    225\u001b[0m bucket_n_success \u001b[38;5;241m=\u001b[39m np\u001b[38;5;241m.\u001b[39marray(\n\u001b[0;32m    226\u001b[0m     [\u001b[38;5;28mlen\u001b[39m(masked_interaction_matrix[bucket_idx \u001b[38;5;241m==\u001b[39m i]) \u001b[38;5;28;01mfor\u001b[39;00m i \u001b[38;5;129;01min\u001b[39;00m \u001b[38;5;28mrange\u001b[39m(buckets)]\n\u001b[0;32m    227\u001b[0m )\n\u001b[0;32m    228\u001b[0m bucket_accuracies \u001b[38;5;241m=\u001b[39m bucket_n_success \u001b[38;5;241m/\u001b[39m bucket_frequencies\n",
      "\u001b[1;31mTypeError\u001b[0m: Cannot cast array data from dtype('float64') to dtype('int64') according to the rule 'safe'"
     ]
    }
   ],
   "source": [
    "auxiliary_args = {\n",
    "    \"n_users\": datamodule.max_user_count,\n",
    "    \"n_anime\": datamodule.max_anime_count,\n",
    "}\n",
    "model_config = model_config | auxiliary_args\n",
    "model = Models.from_string(args[\"model\"].upper())(datamodule=datamodule, **model_config)\n",
    "\n",
    "model.train()\n",
    "\n",
    "metrics = testbench.full_evaluation(model)\n",
    "with open(os.path.join(output_dir, \"output.txt\"), \"w\") as f:\n",
    "    for k, v in metrics.items():\n",
    "        if type(v) == np.ndarray:\n",
    "            continue\n",
    "        f.write(f\"{k}: {v}\\n\")"
   ]
  }
 ],
 "metadata": {
  "kernelspec": {
   "display_name": "cmu_10718",
   "language": "python",
   "name": "python3"
  },
  "language_info": {
   "codemirror_mode": {
    "name": "ipython",
    "version": 3
   },
   "file_extension": ".py",
   "mimetype": "text/x-python",
   "name": "python",
   "nbconvert_exporter": "python",
   "pygments_lexer": "ipython3",
   "version": "3.11.0"
  }
 },
 "nbformat": 4,
 "nbformat_minor": 2
}
