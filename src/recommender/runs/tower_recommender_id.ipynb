{
 "cells": [
  {
   "cell_type": "code",
   "execution_count": 1,
   "metadata": {},
   "outputs": [],
   "source": [
    "%load_ext autoreload\n",
    "%autoreload 2"
   ]
  },
  {
   "cell_type": "code",
   "execution_count": 2,
   "metadata": {},
   "outputs": [
    {
     "name": "stdout",
     "output_type": "stream",
     "text": [
      "jumping out of src\n"
     ]
    }
   ],
   "source": [
    "import os, json\n",
    "import numpy as np\n",
    "\n",
    "if not os.getcwd().endswith(\"src\"):\n",
    "    os.chdir(\"src\")\n",
    "    print(\"jumping into src\")\n",
    "\n",
    "from utils.data.data_module import DataModule\n",
    "from utils.data.testbench import TestBench\n",
    "from recommender.run_pipeline import Models\n",
    "\n",
    "if os.getcwd().endswith(\"src\"):\n",
    "    os.chdir(\"..\")\n",
    "    print(\"jumping out of src\")\n",
    "\n",
    "args = {\n",
    "    \"output_dir\": \"models/popularity\",\n",
    "    \"dataset_config\": \"configs/datasets/id_dataset.json\",\n",
    "    \"model_config\": \"configs/twotower/user_embedder.json\",\n",
    "    \"model\": \"tower\",\n",
    "    \"should_return_ids\": True,\n",
    "}\n",
    "dataset_config = {}\n",
    "model_config = {}\n",
    "output_dir = args[\"output_dir\"]\n",
    "if args[\"dataset_config\"]:\n",
    "    with open(args[\"dataset_config\"], \"r\") as f:\n",
    "        dataset_config_2 = json.load(f)\n",
    "        dataset_config.update(dataset_config_2)\n",
    "if args[\"model_config\"]:\n",
    "    with open(args[\"model_config\"], \"r\") as f:\n",
    "        model_config = json.load(f)\n",
    "\n",
    "os.makedirs(output_dir, exist_ok=True)"
   ]
  },
  {
   "cell_type": "code",
   "execution_count": 3,
   "metadata": {},
   "outputs": [
    {
     "name": "stderr",
     "output_type": "stream",
     "text": [
      "Parsing animes...: 100%|██████████| 12294/12294 [00:00<00:00, 12430.83it/s]\n",
      "Parsing users...: 100%|██████████| 73515/73515 [00:30<00:00, 2440.99it/s]\n",
      "Resetting Train to k=0 ...: 100%|██████████| 48669/48669 [00:06<00:00, 7127.03it/s]"
     ]
    },
    {
     "name": "stdout",
     "output_type": "stream",
     "text": [
      "Number of Users: 54077, Hash[:8]: 9f0cd3, Hash: 9f0cd3119bd9ee7279856737c33aebb8\n",
      "Total Animes: 12294, Total Users: 54077\n"
     ]
    },
    {
     "name": "stderr",
     "output_type": "stream",
     "text": [
      "\n"
     ]
    }
   ],
   "source": [
    "datamodule = DataModule(**dataset_config)\n",
    "testbench = TestBench(\n",
    "    datamodule, should_return_ids=args.get(\"should_return_ids\", False)\n",
    ")"
   ]
  },
  {
   "cell_type": "code",
   "execution_count": 10,
   "metadata": {},
   "outputs": [
    {
     "name": "stdout",
     "output_type": "stream",
     "text": [
      "Epoch 1 / 10\n"
     ]
    },
    {
     "name": "stderr",
     "output_type": "stream",
     "text": [
      "  0%|          | 0/423 [00:00<?, ?it/s]"
     ]
    },
    {
     "name": "stdout",
     "output_type": "stream",
     "text": [
      "pos_term.mean().item()=10.00718879699707 / pos_term.mean().item()=10.00718879699707\n"
     ]
    },
    {
     "name": "stderr",
     "output_type": "stream",
     "text": [
      "Loss: 0.1387:   0%|          | 1/423 [00:00<01:31,  4.60it/s]"
     ]
    },
    {
     "name": "stdout",
     "output_type": "stream",
     "text": [
      "pos_term.mean().item()=10.010344505310059 / pos_term.mean().item()=10.010344505310059"
     ]
    },
    {
     "name": "stderr",
     "output_type": "stream",
     "text": [
      "Loss: 0.5479:   2%|▏         | 7/423 [00:00<00:20, 20.11it/s]"
     ]
    },
    {
     "name": "stdout",
     "output_type": "stream",
     "text": [
      "\n",
      "pos_term.mean().item()=10.01815128326416 / pos_term.mean().item()=10.01815128326416\n",
      "pos_term.mean().item()=9.989887237548828 / pos_term.mean().item()=9.989887237548828\n",
      "pos_term.mean().item()=10.016139030456543 / pos_term.mean().item()=10.016139030456543\n",
      "pos_term.mean().item()=10.021147727966309 / pos_term.mean().item()=10.021147727966309\n",
      "pos_term.mean().item()=10.0082368850708 / pos_term.mean().item()=10.0082368850708\n",
      "pos_term.mean().item()=10.004059791564941 / pos_term.mean().item()=10.004059791564941\n"
     ]
    },
    {
     "name": "stderr",
     "output_type": "stream",
     "text": [
      "Loss: 0.6628:   3%|▎         | 11/423 [00:00<00:17, 24.16it/s]"
     ]
    },
    {
     "name": "stdout",
     "output_type": "stream",
     "text": [
      "pos_term.mean().item()=10.000162124633789 / pos_term.mean().item()=10.000162124633789\n",
      "pos_term.mean().item()=10.006064414978027 / pos_term.mean().item()=10.006064414978027\n",
      "pos_term.mean().item()=10.025362014770508 / pos_term.mean().item()=10.025362014770508\n",
      "pos_term.mean().item()=9.999189376831055 / pos_term.mean().item()=9.999189376831055\n",
      "pos_term.mean().item()=10.016256332397461 / pos_term.mean().item()=10.016256332397461\n",
      "pos_term.mean().item()=10.011252403259277 / pos_term.mean().item()=10.011252403259277\n",
      "pos_term.mean().item()=10.005069732666016 / pos_term.mean().item()=10.005069732666016\n"
     ]
    },
    {
     "name": "stderr",
     "output_type": "stream",
     "text": [
      "Loss: 0.6879:   4%|▍         | 19/423 [00:00<00:14, 28.55it/s]"
     ]
    },
    {
     "name": "stdout",
     "output_type": "stream",
     "text": [
      "pos_term.mean().item()=10.011177062988281 / pos_term.mean().item()=10.011177062988281\n",
      "pos_term.mean().item()=10.012451171875 / pos_term.mean().item()=10.012451171875\n",
      "pos_term.mean().item()=10.010265350341797 / pos_term.mean().item()=10.010265350341797\n",
      "pos_term.mean().item()=10.006869316101074 / pos_term.mean().item()=10.006869316101074\n",
      "pos_term.mean().item()=10.024036407470703 / pos_term.mean().item()=10.024036407470703\n",
      "pos_term.mean().item()=10.00461196899414 / pos_term.mean().item()=10.00461196899414\n",
      "pos_term.mean().item()=10.0297269821167 / pos_term.mean().item()=10.0297269821167\n"
     ]
    },
    {
     "name": "stderr",
     "output_type": "stream",
     "text": [
      "Loss: 0.6920:   6%|▋         | 27/423 [00:01<00:13, 29.96it/s]"
     ]
    },
    {
     "name": "stdout",
     "output_type": "stream",
     "text": [
      "pos_term.mean().item()=10.02492904663086 / pos_term.mean().item()=10.02492904663086\n",
      "pos_term.mean().item()=10.0075101852417 / pos_term.mean().item()=10.0075101852417\n",
      "pos_term.mean().item()=9.986042022705078 / pos_term.mean().item()=9.986042022705078\n",
      "pos_term.mean().item()=9.990091323852539 / pos_term.mean().item()=9.990091323852539\n",
      "pos_term.mean().item()=10.006975173950195 / pos_term.mean().item()=10.006975173950195\n",
      "pos_term.mean().item()=10.020221710205078 / pos_term.mean().item()=10.020221710205078\n",
      "pos_term.mean().item()=9.995869636535645 / pos_term.mean().item()=9.995869636535645\n"
     ]
    },
    {
     "name": "stderr",
     "output_type": "stream",
     "text": [
      "Loss: 0.6928:   8%|▊         | 35/423 [00:01<00:12, 30.99it/s]"
     ]
    },
    {
     "name": "stdout",
     "output_type": "stream",
     "text": [
      "pos_term.mean().item()=10.014374732971191 / pos_term.mean().item()=10.014374732971191\n",
      "pos_term.mean().item()=10.00207805633545 / pos_term.mean().item()=10.00207805633545\n",
      "pos_term.mean().item()=10.027819633483887 / pos_term.mean().item()=10.027819633483887\n",
      "pos_term.mean().item()=10.009074211120605 / pos_term.mean().item()=10.009074211120605\n",
      "pos_term.mean().item()=9.998817443847656 / pos_term.mean().item()=9.998817443847656\n",
      "pos_term.mean().item()=10.02901840209961 / pos_term.mean().item()=10.02901840209961\n"
     ]
    },
    {
     "name": "stderr",
     "output_type": "stream",
     "text": [
      "Loss: 0.6936:   9%|▉         | 39/423 [00:01<00:12, 30.85it/s]"
     ]
    },
    {
     "name": "stdout",
     "output_type": "stream",
     "text": [
      "pos_term.mean().item()=10.001358032226562 / pos_term.mean().item()=10.001358032226562\n",
      "pos_term.mean().item()=10.012954711914062 / pos_term.mean().item()=10.012954711914062\n",
      "pos_term.mean().item()=9.992938995361328 / pos_term.mean().item()=9.992938995361328\n",
      "pos_term.mean().item()=10.01875114440918 / pos_term.mean().item()=10.01875114440918\n",
      "pos_term.mean().item()=9.975576400756836 / pos_term.mean().item()=9.975576400756836\n",
      "pos_term.mean().item()=10.002030372619629 / pos_term.mean().item()=10.002030372619629\n",
      "pos_term.mean().item()=9.999521255493164 / pos_term.mean().item()=9.999521255493164\n"
     ]
    },
    {
     "name": "stderr",
     "output_type": "stream",
     "text": [
      "Loss: 0.6932:  11%|█         | 47/423 [00:01<00:11, 31.34it/s]"
     ]
    },
    {
     "name": "stdout",
     "output_type": "stream",
     "text": [
      "pos_term.mean().item()=10.014076232910156 / pos_term.mean().item()=10.014076232910156\n",
      "pos_term.mean().item()=10.027029037475586 / pos_term.mean().item()=10.027029037475586\n",
      "pos_term.mean().item()=10.013138771057129 / pos_term.mean().item()=10.013138771057129\n",
      "pos_term.mean().item()=10.012592315673828 / pos_term.mean().item()=10.012592315673828\n",
      "pos_term.mean().item()=10.022040367126465 / pos_term.mean().item()=10.022040367126465\n",
      "pos_term.mean().item()=10.005117416381836 / pos_term.mean().item()=10.005117416381836\n",
      "pos_term.mean().item()=10.019115447998047 / pos_term.mean().item()=10.019115447998047\n"
     ]
    },
    {
     "name": "stderr",
     "output_type": "stream",
     "text": [
      "Loss: 0.6933:  13%|█▎        | 55/423 [00:01<00:11, 31.90it/s]"
     ]
    },
    {
     "name": "stdout",
     "output_type": "stream",
     "text": [
      "pos_term.mean().item()=10.02390193939209 / pos_term.mean().item()=10.02390193939209\n",
      "pos_term.mean().item()=9.994568824768066 / pos_term.mean().item()=9.994568824768066\n",
      "pos_term.mean().item()=10.020357131958008 / pos_term.mean().item()=10.020357131958008\n",
      "pos_term.mean().item()=9.995344161987305 / pos_term.mean().item()=9.995344161987305\n",
      "pos_term.mean().item()=10.012849807739258 / pos_term.mean().item()=10.012849807739258\n",
      "pos_term.mean().item()=10.008089065551758 / pos_term.mean().item()=10.008089065551758\n",
      "pos_term.mean().item()=10.017070770263672 / pos_term.mean().item()=10.017070770263672\n"
     ]
    },
    {
     "name": "stderr",
     "output_type": "stream",
     "text": [
      "Loss: 0.6933:  14%|█▍        | 59/423 [00:02<00:11, 32.08it/s]"
     ]
    },
    {
     "name": "stdout",
     "output_type": "stream",
     "text": [
      "pos_term.mean().item()=9.983993530273438 / pos_term.mean().item()=9.983993530273438\n",
      "pos_term.mean().item()=10.019317626953125 / pos_term.mean().item()=10.019317626953125\n",
      "pos_term.mean().item()=9.982233047485352 / pos_term.mean().item()=9.982233047485352\n",
      "pos_term.mean().item()=10.004935264587402 / pos_term.mean().item()=10.004935264587402\n",
      "pos_term.mean().item()=9.979934692382812 / pos_term.mean().item()=9.979934692382812\n",
      "pos_term.mean().item()=10.009591102600098 / pos_term.mean().item()=10.009591102600098\n",
      "pos_term.mean().item()=10.013801574707031 / pos_term.mean().item()=10.013801574707031\n"
     ]
    },
    {
     "name": "stderr",
     "output_type": "stream",
     "text": [
      "Loss: 0.6938:  16%|█▌        | 67/423 [00:02<00:11, 32.16it/s]"
     ]
    },
    {
     "name": "stdout",
     "output_type": "stream",
     "text": [
      "pos_term.mean().item()=10.008298873901367 / pos_term.mean().item()=10.008298873901367\n",
      "pos_term.mean().item()=10.000672340393066 / pos_term.mean().item()=10.000672340393066\n",
      "pos_term.mean().item()=9.983898162841797 / pos_term.mean().item()=9.983898162841797\n",
      "pos_term.mean().item()=9.987946510314941 / pos_term.mean().item()=9.987946510314941\n",
      "pos_term.mean().item()=10.021966934204102 / pos_term.mean().item()=10.021966934204102\n",
      "pos_term.mean().item()=9.980655670166016 / pos_term.mean().item()=9.980655670166016\n",
      "pos_term.mean().item()=10.009913444519043 / pos_term.mean().item()=10.009913444519043\n"
     ]
    },
    {
     "name": "stderr",
     "output_type": "stream",
     "text": [
      "Loss: 0.6932:  18%|█▊        | 75/423 [00:02<00:10, 32.21it/s]"
     ]
    },
    {
     "name": "stdout",
     "output_type": "stream",
     "text": [
      "pos_term.mean().item()=9.997502326965332 / pos_term.mean().item()=9.997502326965332\n",
      "pos_term.mean().item()=10.022661209106445 / pos_term.mean().item()=10.022661209106445\n",
      "pos_term.mean().item()=10.020736694335938 / pos_term.mean().item()=10.020736694335938\n",
      "pos_term.mean().item()=10.03060245513916 / pos_term.mean().item()=10.03060245513916\n",
      "pos_term.mean().item()=10.00732135772705 / pos_term.mean().item()=10.00732135772705\n",
      "pos_term.mean().item()=9.995014190673828 / pos_term.mean().item()=9.995014190673828\n",
      "pos_term.mean().item()=10.02221393585205 / pos_term.mean().item()=10.02221393585205\n"
     ]
    },
    {
     "name": "stderr",
     "output_type": "stream",
     "text": [
      "Loss: 0.6933:  20%|█▉        | 83/423 [00:02<00:10, 32.26it/s]"
     ]
    },
    {
     "name": "stdout",
     "output_type": "stream",
     "text": [
      "pos_term.mean().item()=10.013761520385742 / pos_term.mean().item()=10.013761520385742\n",
      "pos_term.mean().item()=10.021693229675293 / pos_term.mean().item()=10.021693229675293\n",
      "pos_term.mean().item()=9.995912551879883 / pos_term.mean().item()=9.995912551879883\n",
      "pos_term.mean().item()=10.020744323730469 / pos_term.mean().item()=10.020744323730469\n",
      "pos_term.mean().item()=10.008991241455078 / pos_term.mean().item()=10.008991241455078\n",
      "pos_term.mean().item()=10.022174835205078 / pos_term.mean().item()=10.022174835205078\n",
      "pos_term.mean().item()=10.008119583129883 / pos_term.mean().item()=10.008119583129883\n"
     ]
    },
    {
     "name": "stderr",
     "output_type": "stream",
     "text": [
      "Loss: 0.6933:  21%|██        | 87/423 [00:03<00:10, 32.18it/s]"
     ]
    },
    {
     "name": "stdout",
     "output_type": "stream",
     "text": [
      "pos_term.mean().item()=10.015018463134766 / pos_term.mean().item()=10.015018463134766\n",
      "pos_term.mean().item()=10.004852294921875 / pos_term.mean().item()=10.004852294921875\n",
      "pos_term.mean().item()=10.024949073791504 / pos_term.mean().item()=10.024949073791504\n",
      "pos_term.mean().item()=10.008230209350586 / pos_term.mean().item()=10.008230209350586\n",
      "pos_term.mean().item()=9.999597549438477 / pos_term.mean().item()=9.999597549438477\n",
      "pos_term.mean().item()=10.021560668945312 / pos_term.mean().item()=10.021560668945312\n",
      "pos_term.mean().item()=9.997316360473633 / pos_term.mean().item()=9.997316360473633\n"
     ]
    },
    {
     "name": "stderr",
     "output_type": "stream",
     "text": [
      "Loss: 0.6934:  22%|██▏       | 95/423 [00:03<00:10, 31.94it/s]"
     ]
    },
    {
     "name": "stdout",
     "output_type": "stream",
     "text": [
      "pos_term.mean().item()=10.033479690551758 / pos_term.mean().item()=10.033479690551758\n",
      "pos_term.mean().item()=10.01984691619873 / pos_term.mean().item()=10.01984691619873\n",
      "pos_term.mean().item()=10.001320838928223 / pos_term.mean().item()=10.001320838928223\n",
      "pos_term.mean().item()=10.002946853637695 / pos_term.mean().item()=10.002946853637695\n",
      "pos_term.mean().item()=10.013753890991211 / pos_term.mean().item()=10.013753890991211\n",
      "pos_term.mean().item()=10.015957832336426 / pos_term.mean().item()=10.015957832336426\n",
      "pos_term.mean().item()=10.01395320892334 / pos_term.mean().item()=10.01395320892334\n"
     ]
    },
    {
     "name": "stderr",
     "output_type": "stream",
     "text": [
      "Loss: 0.6931:  24%|██▍       | 103/423 [00:03<00:10, 31.74it/s]"
     ]
    },
    {
     "name": "stdout",
     "output_type": "stream",
     "text": [
      "pos_term.mean().item()=9.999614715576172 / pos_term.mean().item()=9.999614715576172\n",
      "pos_term.mean().item()=10.003143310546875 / pos_term.mean().item()=10.003143310546875\n",
      "pos_term.mean().item()=10.025447845458984 / pos_term.mean().item()=10.025447845458984\n",
      "pos_term.mean().item()=10.004636764526367 / pos_term.mean().item()=10.004636764526367\n",
      "pos_term.mean().item()=10.019203186035156 / pos_term.mean().item()=10.019203186035156\n",
      "pos_term.mean().item()=10.011049270629883 / pos_term.mean().item()=10.011049270629883\n"
     ]
    },
    {
     "name": "stderr",
     "output_type": "stream",
     "text": [
      "Loss: 0.6930:  25%|██▌       | 107/423 [00:03<00:09, 31.79it/s]"
     ]
    },
    {
     "name": "stdout",
     "output_type": "stream",
     "text": [
      "pos_term.mean().item()=10.028324127197266 / pos_term.mean().item()=10.028324127197266\n",
      "pos_term.mean().item()=9.998544692993164 / pos_term.mean().item()=9.998544692993164\n",
      "pos_term.mean().item()=10.011354446411133 / pos_term.mean().item()=10.011354446411133\n",
      "pos_term.mean().item()=10.00723648071289 / pos_term.mean().item()=10.00723648071289\n",
      "pos_term.mean().item()=10.014854431152344 / pos_term.mean().item()=10.014854431152344\n",
      "pos_term.mean().item()=10.002754211425781 / pos_term.mean().item()=10.002754211425781\n",
      "pos_term.mean().item()=10.000810623168945 / pos_term.mean().item()=10.000810623168945\n"
     ]
    },
    {
     "name": "stderr",
     "output_type": "stream",
     "text": [
      "Loss: 0.6930:  27%|██▋       | 115/423 [00:03<00:09, 32.12it/s]"
     ]
    },
    {
     "name": "stdout",
     "output_type": "stream",
     "text": [
      "pos_term.mean().item()=10.00647258758545 / pos_term.mean().item()=10.00647258758545\n",
      "pos_term.mean().item()=10.018150329589844 / pos_term.mean().item()=10.018150329589844\n",
      "pos_term.mean().item()=10.00947380065918 / pos_term.mean().item()=10.00947380065918\n",
      "pos_term.mean().item()=9.995218276977539 / pos_term.mean().item()=9.995218276977539\n",
      "pos_term.mean().item()=9.994668960571289 / pos_term.mean().item()=9.994668960571289\n",
      "pos_term.mean().item()=10.014528274536133 / pos_term.mean().item()=10.014528274536133\n",
      "pos_term.mean().item()=10.010558128356934 / pos_term.mean().item()=10.010558128356934\n"
     ]
    },
    {
     "name": "stderr",
     "output_type": "stream",
     "text": [
      "Loss: 0.6931:  29%|██▉       | 123/423 [00:04<00:09, 32.27it/s]"
     ]
    },
    {
     "name": "stdout",
     "output_type": "stream",
     "text": [
      "pos_term.mean().item()=10.003641128540039 / pos_term.mean().item()=10.003641128540039\n",
      "pos_term.mean().item()=10.013967514038086 / pos_term.mean().item()=10.013967514038086\n",
      "pos_term.mean().item()=10.005643844604492 / pos_term.mean().item()=10.005643844604492\n",
      "pos_term.mean().item()=10.010775566101074 / pos_term.mean().item()=10.010775566101074\n",
      "pos_term.mean().item()=9.994948387145996 / pos_term.mean().item()=9.994948387145996\n",
      "pos_term.mean().item()=10.010799407958984 / pos_term.mean().item()=10.010799407958984\n",
      "pos_term.mean().item()=9.990150451660156 / pos_term.mean().item()=9.990150451660156\n"
     ]
    },
    {
     "name": "stderr",
     "output_type": "stream",
     "text": [
      "Loss: 0.6934:  31%|███       | 131/423 [00:04<00:09, 32.36it/s]"
     ]
    },
    {
     "name": "stdout",
     "output_type": "stream",
     "text": [
      "pos_term.mean().item()=10.02585220336914 / pos_term.mean().item()=10.02585220336914\n",
      "pos_term.mean().item()=10.005382537841797 / pos_term.mean().item()=10.005382537841797\n",
      "pos_term.mean().item()=10.028532028198242 / pos_term.mean().item()=10.028532028198242\n",
      "pos_term.mean().item()=9.99551773071289 / pos_term.mean().item()=9.99551773071289\n",
      "pos_term.mean().item()=9.988162994384766 / pos_term.mean().item()=9.988162994384766\n",
      "pos_term.mean().item()=10.015676498413086 / pos_term.mean().item()=10.015676498413086\n",
      "pos_term.mean().item()=10.010357856750488 / pos_term.mean().item()=10.010357856750488\n"
     ]
    },
    {
     "name": "stderr",
     "output_type": "stream",
     "text": [
      "Loss: 0.6933:  32%|███▏      | 135/423 [00:04<00:08, 32.33it/s]"
     ]
    },
    {
     "name": "stdout",
     "output_type": "stream",
     "text": [
      "pos_term.mean().item()=10.022310256958008 / pos_term.mean().item()=10.022310256958008\n",
      "pos_term.mean().item()=10.012950897216797 / pos_term.mean().item()=10.012950897216797\n",
      "pos_term.mean().item()=9.990964889526367 / pos_term.mean().item()=9.990964889526367\n",
      "pos_term.mean().item()=9.989959716796875 / pos_term.mean().item()=9.989959716796875\n",
      "pos_term.mean().item()=10.016361236572266 / pos_term.mean().item()=10.016361236572266\n",
      "pos_term.mean().item()=10.002004623413086 / pos_term.mean().item()=10.002004623413086\n",
      "pos_term.mean().item()=10.014726638793945 / pos_term.mean().item()=10.014726638793945\n"
     ]
    },
    {
     "name": "stderr",
     "output_type": "stream",
     "text": [
      "Loss: 0.6931:  34%|███▍      | 143/423 [00:04<00:08, 31.48it/s]"
     ]
    },
    {
     "name": "stdout",
     "output_type": "stream",
     "text": [
      "pos_term.mean().item()=10.000076293945312 / pos_term.mean().item()=10.000076293945312\n",
      "pos_term.mean().item()=10.01453971862793 / pos_term.mean().item()=10.01453971862793\n",
      "pos_term.mean().item()=9.996378898620605 / pos_term.mean().item()=9.996378898620605\n",
      "pos_term.mean().item()=10.02615737915039 / pos_term.mean().item()=10.02615737915039\n",
      "pos_term.mean().item()=10.009895324707031 / pos_term.mean().item()=10.009895324707031\n",
      "pos_term.mean().item()=9.989496231079102 / pos_term.mean().item()=9.989496231079102\n",
      "pos_term.mean().item()=10.003747940063477 / pos_term.mean().item()=10.003747940063477\n"
     ]
    },
    {
     "name": "stderr",
     "output_type": "stream",
     "text": [
      "Loss: 0.6935:  35%|███▌      | 150/423 [00:04<00:08, 30.52it/s]\n"
     ]
    },
    {
     "name": "stdout",
     "output_type": "stream",
     "text": [
      "pos_term.mean().item()=9.996270179748535 / pos_term.mean().item()=9.996270179748535\n",
      "pos_term.mean().item()=10.009757995605469 / pos_term.mean().item()=10.009757995605469\n",
      "pos_term.mean().item()=10.001925468444824 / pos_term.mean().item()=10.001925468444824\n",
      "pos_term.mean().item()=9.991941452026367 / pos_term.mean().item()=9.991941452026367\n"
     ]
    },
    {
     "ename": "KeyboardInterrupt",
     "evalue": "",
     "output_type": "error",
     "traceback": [
      "\u001b[1;31m---------------------------------------------------------------------------\u001b[0m",
      "\u001b[1;31mKeyboardInterrupt\u001b[0m                         Traceback (most recent call last)",
      "Cell \u001b[1;32mIn[10], line 8\u001b[0m\n\u001b[0;32m      5\u001b[0m model_config \u001b[38;5;241m=\u001b[39m model_config \u001b[38;5;241m|\u001b[39m auxiliary_args\n\u001b[0;32m      6\u001b[0m model \u001b[38;5;241m=\u001b[39m Models\u001b[38;5;241m.\u001b[39mfrom_string(args[\u001b[38;5;124m\"\u001b[39m\u001b[38;5;124mmodel\u001b[39m\u001b[38;5;124m\"\u001b[39m]\u001b[38;5;241m.\u001b[39mupper())(datamodule\u001b[38;5;241m=\u001b[39mdatamodule, \u001b[38;5;241m*\u001b[39m\u001b[38;5;241m*\u001b[39mmodel_config)\n\u001b[1;32m----> 8\u001b[0m \u001b[43mmodel\u001b[49m\u001b[38;5;241;43m.\u001b[39;49m\u001b[43mtrain\u001b[49m\u001b[43m(\u001b[49m\u001b[43m)\u001b[49m\n\u001b[0;32m     10\u001b[0m metrics \u001b[38;5;241m=\u001b[39m testbench\u001b[38;5;241m.\u001b[39mfull_evaluation(model)\n\u001b[0;32m     11\u001b[0m \u001b[38;5;28;01mwith\u001b[39;00m \u001b[38;5;28mopen\u001b[39m(os\u001b[38;5;241m.\u001b[39mpath\u001b[38;5;241m.\u001b[39mjoin(output_dir, \u001b[38;5;124m\"\u001b[39m\u001b[38;5;124moutput.txt\u001b[39m\u001b[38;5;124m\"\u001b[39m), \u001b[38;5;124m\"\u001b[39m\u001b[38;5;124mw\u001b[39m\u001b[38;5;124m\"\u001b[39m) \u001b[38;5;28;01mas\u001b[39;00m f:\n",
      "File \u001b[1;32mc:\\dev\\projects\\cmu\\CMU_10718\\src\\recommender\\tower_recommender.py:118\u001b[0m, in \u001b[0;36mTowerRecommender.train\u001b[1;34m(self, *args, **kwargs)\u001b[0m\n\u001b[0;32m    112\u001b[0m batch_iterator \u001b[38;5;241m=\u001b[39m tqdm\u001b[38;5;241m.\u001b[39mtqdm(\n\u001b[0;32m    113\u001b[0m     \u001b[38;5;28menumerate\u001b[39m(\u001b[38;5;28mself\u001b[39m\u001b[38;5;241m.\u001b[39mdataloader),\n\u001b[0;32m    114\u001b[0m     total\u001b[38;5;241m=\u001b[39m(\u001b[38;5;28mlen\u001b[39m(\u001b[38;5;28mself\u001b[39m\u001b[38;5;241m.\u001b[39mdataloader\u001b[38;5;241m.\u001b[39mdataset) \u001b[38;5;241m+\u001b[39m \u001b[38;5;28mself\u001b[39m\u001b[38;5;241m.\u001b[39mbatch_size \u001b[38;5;241m-\u001b[39m \u001b[38;5;241m1\u001b[39m)\n\u001b[0;32m    115\u001b[0m     \u001b[38;5;241m/\u001b[39m\u001b[38;5;241m/\u001b[39m \u001b[38;5;28mself\u001b[39m\u001b[38;5;241m.\u001b[39mbatch_size,\n\u001b[0;32m    116\u001b[0m )\n\u001b[0;32m    117\u001b[0m epoch_loss, n \u001b[38;5;241m=\u001b[39m \u001b[38;5;241m0\u001b[39m, \u001b[38;5;241m0\u001b[39m\n\u001b[1;32m--> 118\u001b[0m \u001b[43m\u001b[49m\u001b[38;5;28;43;01mfor\u001b[39;49;00m\u001b[43m \u001b[49m\u001b[43mbatch_idx\u001b[49m\u001b[43m,\u001b[49m\u001b[43m \u001b[49m\u001b[43m(\u001b[49m\u001b[43muser\u001b[49m\u001b[43m,\u001b[49m\u001b[43m \u001b[49m\u001b[43mpositive\u001b[49m\u001b[43m,\u001b[49m\u001b[43m \u001b[49m\u001b[43mnegative\u001b[49m\u001b[43m)\u001b[49m\u001b[43m \u001b[49m\u001b[38;5;129;43;01min\u001b[39;49;00m\u001b[43m \u001b[49m\u001b[43mbatch_iterator\u001b[49m\u001b[43m:\u001b[49m\n\u001b[0;32m    119\u001b[0m \u001b[43m    \u001b[49m\u001b[43mbatch_size\u001b[49m\u001b[43m \u001b[49m\u001b[38;5;241;43m=\u001b[39;49m\u001b[43m \u001b[49m\u001b[38;5;28;43mlen\u001b[39;49m\u001b[43m(\u001b[49m\u001b[43muser\u001b[49m\u001b[43m)\u001b[49m\n\u001b[0;32m    120\u001b[0m \u001b[43m    \u001b[49m\u001b[43muser\u001b[49m\u001b[43m \u001b[49m\u001b[38;5;241;43m=\u001b[39;49m\u001b[43m \u001b[49m\u001b[43m[\u001b[49m\u001b[43mu\u001b[49m\u001b[38;5;241;43m.\u001b[39;49m\u001b[43mto\u001b[49m\u001b[43m(\u001b[49m\u001b[38;5;28;43mself\u001b[39;49m\u001b[38;5;241;43m.\u001b[39;49m\u001b[43mdevice\u001b[49m\u001b[43m)\u001b[49m\u001b[43m \u001b[49m\u001b[38;5;28;43;01mfor\u001b[39;49;00m\u001b[43m \u001b[49m\u001b[43mu\u001b[49m\u001b[43m \u001b[49m\u001b[38;5;129;43;01min\u001b[39;49;00m\u001b[43m \u001b[49m\u001b[43muser\u001b[49m\u001b[43m]\u001b[49m\n",
      "File \u001b[1;32mc:\\Users\\James\\miniconda3\\envs\\cmu_10718\\Lib\\site-packages\\tqdm\\std.py:1181\u001b[0m, in \u001b[0;36mtqdm.__iter__\u001b[1;34m(self)\u001b[0m\n\u001b[0;32m   1178\u001b[0m time \u001b[38;5;241m=\u001b[39m \u001b[38;5;28mself\u001b[39m\u001b[38;5;241m.\u001b[39m_time\n\u001b[0;32m   1180\u001b[0m \u001b[38;5;28;01mtry\u001b[39;00m:\n\u001b[1;32m-> 1181\u001b[0m \u001b[43m    \u001b[49m\u001b[38;5;28;43;01mfor\u001b[39;49;00m\u001b[43m \u001b[49m\u001b[43mobj\u001b[49m\u001b[43m \u001b[49m\u001b[38;5;129;43;01min\u001b[39;49;00m\u001b[43m \u001b[49m\u001b[43miterable\u001b[49m\u001b[43m:\u001b[49m\n\u001b[0;32m   1182\u001b[0m \u001b[43m        \u001b[49m\u001b[38;5;28;43;01myield\u001b[39;49;00m\u001b[43m \u001b[49m\u001b[43mobj\u001b[49m\n\u001b[0;32m   1183\u001b[0m \u001b[43m        \u001b[49m\u001b[38;5;66;43;03m# Update and possibly print the progressbar.\u001b[39;49;00m\n\u001b[0;32m   1184\u001b[0m \u001b[43m        \u001b[49m\u001b[38;5;66;43;03m# Note: does not call self.update(1) for speed optimisation.\u001b[39;49;00m\n",
      "File \u001b[1;32mc:\\Users\\James\\miniconda3\\envs\\cmu_10718\\Lib\\site-packages\\torch\\utils\\data\\dataloader.py:701\u001b[0m, in \u001b[0;36m_BaseDataLoaderIter.__next__\u001b[1;34m(self)\u001b[0m\n\u001b[0;32m    698\u001b[0m \u001b[38;5;28;01mif\u001b[39;00m \u001b[38;5;28mself\u001b[39m\u001b[38;5;241m.\u001b[39m_sampler_iter \u001b[38;5;129;01mis\u001b[39;00m \u001b[38;5;28;01mNone\u001b[39;00m:\n\u001b[0;32m    699\u001b[0m     \u001b[38;5;66;03m# TODO(https://github.com/pytorch/pytorch/issues/76750)\u001b[39;00m\n\u001b[0;32m    700\u001b[0m     \u001b[38;5;28mself\u001b[39m\u001b[38;5;241m.\u001b[39m_reset()  \u001b[38;5;66;03m# type: ignore[call-arg]\u001b[39;00m\n\u001b[1;32m--> 701\u001b[0m data \u001b[38;5;241m=\u001b[39m \u001b[38;5;28;43mself\u001b[39;49m\u001b[38;5;241;43m.\u001b[39;49m\u001b[43m_next_data\u001b[49m\u001b[43m(\u001b[49m\u001b[43m)\u001b[49m\n\u001b[0;32m    702\u001b[0m \u001b[38;5;28mself\u001b[39m\u001b[38;5;241m.\u001b[39m_num_yielded \u001b[38;5;241m+\u001b[39m\u001b[38;5;241m=\u001b[39m \u001b[38;5;241m1\u001b[39m\n\u001b[0;32m    703\u001b[0m \u001b[38;5;28;01mif\u001b[39;00m (\n\u001b[0;32m    704\u001b[0m     \u001b[38;5;28mself\u001b[39m\u001b[38;5;241m.\u001b[39m_dataset_kind \u001b[38;5;241m==\u001b[39m _DatasetKind\u001b[38;5;241m.\u001b[39mIterable\n\u001b[0;32m    705\u001b[0m     \u001b[38;5;129;01mand\u001b[39;00m \u001b[38;5;28mself\u001b[39m\u001b[38;5;241m.\u001b[39m_IterableDataset_len_called \u001b[38;5;129;01mis\u001b[39;00m \u001b[38;5;129;01mnot\u001b[39;00m \u001b[38;5;28;01mNone\u001b[39;00m\n\u001b[0;32m    706\u001b[0m     \u001b[38;5;129;01mand\u001b[39;00m \u001b[38;5;28mself\u001b[39m\u001b[38;5;241m.\u001b[39m_num_yielded \u001b[38;5;241m>\u001b[39m \u001b[38;5;28mself\u001b[39m\u001b[38;5;241m.\u001b[39m_IterableDataset_len_called\n\u001b[0;32m    707\u001b[0m ):\n",
      "File \u001b[1;32mc:\\Users\\James\\miniconda3\\envs\\cmu_10718\\Lib\\site-packages\\torch\\utils\\data\\dataloader.py:757\u001b[0m, in \u001b[0;36m_SingleProcessDataLoaderIter._next_data\u001b[1;34m(self)\u001b[0m\n\u001b[0;32m    755\u001b[0m \u001b[38;5;28;01mdef\u001b[39;00m \u001b[38;5;21m_next_data\u001b[39m(\u001b[38;5;28mself\u001b[39m):\n\u001b[0;32m    756\u001b[0m     index \u001b[38;5;241m=\u001b[39m \u001b[38;5;28mself\u001b[39m\u001b[38;5;241m.\u001b[39m_next_index()  \u001b[38;5;66;03m# may raise StopIteration\u001b[39;00m\n\u001b[1;32m--> 757\u001b[0m     data \u001b[38;5;241m=\u001b[39m \u001b[38;5;28;43mself\u001b[39;49m\u001b[38;5;241;43m.\u001b[39;49m\u001b[43m_dataset_fetcher\u001b[49m\u001b[38;5;241;43m.\u001b[39;49m\u001b[43mfetch\u001b[49m\u001b[43m(\u001b[49m\u001b[43mindex\u001b[49m\u001b[43m)\u001b[49m  \u001b[38;5;66;03m# may raise StopIteration\u001b[39;00m\n\u001b[0;32m    758\u001b[0m     \u001b[38;5;28;01mif\u001b[39;00m \u001b[38;5;28mself\u001b[39m\u001b[38;5;241m.\u001b[39m_pin_memory:\n\u001b[0;32m    759\u001b[0m         data \u001b[38;5;241m=\u001b[39m _utils\u001b[38;5;241m.\u001b[39mpin_memory\u001b[38;5;241m.\u001b[39mpin_memory(data, \u001b[38;5;28mself\u001b[39m\u001b[38;5;241m.\u001b[39m_pin_memory_device)\n",
      "File \u001b[1;32mc:\\Users\\James\\miniconda3\\envs\\cmu_10718\\Lib\\site-packages\\torch\\utils\\data\\_utils\\fetch.py:52\u001b[0m, in \u001b[0;36m_MapDatasetFetcher.fetch\u001b[1;34m(self, possibly_batched_index)\u001b[0m\n\u001b[0;32m     50\u001b[0m         data \u001b[38;5;241m=\u001b[39m \u001b[38;5;28mself\u001b[39m\u001b[38;5;241m.\u001b[39mdataset\u001b[38;5;241m.\u001b[39m__getitems__(possibly_batched_index)\n\u001b[0;32m     51\u001b[0m     \u001b[38;5;28;01melse\u001b[39;00m:\n\u001b[1;32m---> 52\u001b[0m         data \u001b[38;5;241m=\u001b[39m \u001b[43m[\u001b[49m\u001b[38;5;28;43mself\u001b[39;49m\u001b[38;5;241;43m.\u001b[39;49m\u001b[43mdataset\u001b[49m\u001b[43m[\u001b[49m\u001b[43midx\u001b[49m\u001b[43m]\u001b[49m\u001b[43m \u001b[49m\u001b[38;5;28;43;01mfor\u001b[39;49;00m\u001b[43m \u001b[49m\u001b[43midx\u001b[49m\u001b[43m \u001b[49m\u001b[38;5;129;43;01min\u001b[39;49;00m\u001b[43m \u001b[49m\u001b[43mpossibly_batched_index\u001b[49m\u001b[43m]\u001b[49m\n\u001b[0;32m     53\u001b[0m \u001b[38;5;28;01melse\u001b[39;00m:\n\u001b[0;32m     54\u001b[0m     data \u001b[38;5;241m=\u001b[39m \u001b[38;5;28mself\u001b[39m\u001b[38;5;241m.\u001b[39mdataset[possibly_batched_index]\n",
      "File \u001b[1;32mc:\\Users\\James\\miniconda3\\envs\\cmu_10718\\Lib\\site-packages\\torch\\utils\\data\\_utils\\fetch.py:52\u001b[0m, in \u001b[0;36m<listcomp>\u001b[1;34m(.0)\u001b[0m\n\u001b[0;32m     50\u001b[0m         data \u001b[38;5;241m=\u001b[39m \u001b[38;5;28mself\u001b[39m\u001b[38;5;241m.\u001b[39mdataset\u001b[38;5;241m.\u001b[39m__getitems__(possibly_batched_index)\n\u001b[0;32m     51\u001b[0m     \u001b[38;5;28;01melse\u001b[39;00m:\n\u001b[1;32m---> 52\u001b[0m         data \u001b[38;5;241m=\u001b[39m [\u001b[38;5;28;43mself\u001b[39;49m\u001b[38;5;241;43m.\u001b[39;49m\u001b[43mdataset\u001b[49m\u001b[43m[\u001b[49m\u001b[43midx\u001b[49m\u001b[43m]\u001b[49m \u001b[38;5;28;01mfor\u001b[39;00m idx \u001b[38;5;129;01min\u001b[39;00m possibly_batched_index]\n\u001b[0;32m     53\u001b[0m \u001b[38;5;28;01melse\u001b[39;00m:\n\u001b[0;32m     54\u001b[0m     data \u001b[38;5;241m=\u001b[39m \u001b[38;5;28mself\u001b[39m\u001b[38;5;241m.\u001b[39mdataset[possibly_batched_index]\n",
      "File \u001b[1;32mc:\\dev\\projects\\cmu\\CMU_10718\\src\\recommender\\tower_recommender.py:246\u001b[0m, in \u001b[0;36mDatasetWrapper.__getitem__\u001b[1;34m(self, idx)\u001b[0m\n\u001b[0;32m    244\u001b[0m \u001b[38;5;28;01mdef\u001b[39;00m \u001b[38;5;21m__getitem__\u001b[39m(\u001b[38;5;28mself\u001b[39m, idx):\n\u001b[0;32m    245\u001b[0m     user \u001b[38;5;241m=\u001b[39m \u001b[38;5;28mself\u001b[39m\u001b[38;5;241m.\u001b[39mdatamodule\u001b[38;5;241m.\u001b[39mcanonical_user_mapping[idx]\n\u001b[1;32m--> 246\u001b[0m     positives, history \u001b[38;5;241m=\u001b[39m \u001b[43muser\u001b[49m\u001b[38;5;241;43m.\u001b[39;49m\u001b[43mpartition_preserved\u001b[49m\u001b[43m(\u001b[49m\u001b[38;5;28;43mself\u001b[39;49m\u001b[38;5;241;43m.\u001b[39;49m\u001b[43mn_pos\u001b[49m\u001b[43m)\u001b[49m\n\u001b[0;32m    247\u001b[0m     positives \u001b[38;5;241m=\u001b[39m [\n\u001b[0;32m    248\u001b[0m         \u001b[38;5;28mself\u001b[39m\u001b[38;5;241m.\u001b[39mdatamodule\u001b[38;5;241m.\u001b[39mcanonical_anime_mapping[anime] \u001b[38;5;28;01mfor\u001b[39;00m anime \u001b[38;5;129;01min\u001b[39;00m positives\n\u001b[0;32m    249\u001b[0m     ]\n\u001b[0;32m    250\u001b[0m     history \u001b[38;5;241m=\u001b[39m [\u001b[38;5;28mself\u001b[39m\u001b[38;5;241m.\u001b[39mdatamodule\u001b[38;5;241m.\u001b[39mcanonical_anime_mapping[anime] \u001b[38;5;28;01mfor\u001b[39;00m anime \u001b[38;5;129;01min\u001b[39;00m history]\n",
      "File \u001b[1;32mc:\\dev\\projects\\cmu\\CMU_10718\\src\\utils\\data\\data_classes.py:249\u001b[0m, in \u001b[0;36mUser.partition_preserved\u001b[1;34m(self, n)\u001b[0m\n\u001b[0;32m    244\u001b[0m \u001b[38;5;28;01mif\u001b[39;00m n \u001b[38;5;241m<\u001b[39m\u001b[38;5;241m=\u001b[39m \u001b[38;5;241m0\u001b[39m \u001b[38;5;129;01mor\u001b[39;00m n \u001b[38;5;241m>\u001b[39m \u001b[38;5;28mlen\u001b[39m(\u001b[38;5;28mself\u001b[39m\u001b[38;5;241m.\u001b[39mpreserved_cais):\n\u001b[0;32m    245\u001b[0m     \u001b[38;5;28;01mraise\u001b[39;00m \u001b[38;5;167;01mValueError\u001b[39;00m(\n\u001b[0;32m    246\u001b[0m         \u001b[38;5;124mf\u001b[39m\u001b[38;5;124m\"\u001b[39m\u001b[38;5;124mCannot sample \u001b[39m\u001b[38;5;132;01m{\u001b[39;00mn\u001b[38;5;132;01m}\u001b[39;00m\u001b[38;5;124m positive items from pool of size \u001b[39m\u001b[38;5;132;01m{\u001b[39;00m\u001b[38;5;28mlen\u001b[39m(\u001b[38;5;28mself\u001b[39m\u001b[38;5;241m.\u001b[39mpreserved_cais)\u001b[38;5;132;01m}\u001b[39;00m\u001b[38;5;124m \u001b[39m\u001b[38;5;124m\"\u001b[39m\n\u001b[0;32m    247\u001b[0m         \u001b[38;5;241m+\u001b[39m \u001b[38;5;124mf\u001b[39m\u001b[38;5;124m\"\u001b[39m\u001b[38;5;124mfor user \u001b[39m\u001b[38;5;132;01m{\u001b[39;00m\u001b[38;5;28mself\u001b[39m\u001b[38;5;241m.\u001b[39mid\u001b[38;5;132;01m}\u001b[39;00m\u001b[38;5;124m\"\u001b[39m\n\u001b[0;32m    248\u001b[0m     )\n\u001b[1;32m--> 249\u001b[0m perm \u001b[38;5;241m=\u001b[39m \u001b[38;5;28;43mself\u001b[39;49m\u001b[38;5;241;43m.\u001b[39;49m\u001b[43mrng\u001b[49m\u001b[38;5;241;43m.\u001b[39;49m\u001b[43mchoice\u001b[49m\u001b[43m(\u001b[49m\n\u001b[0;32m    250\u001b[0m \u001b[43m    \u001b[49m\u001b[38;5;28;43mself\u001b[39;49m\u001b[38;5;241;43m.\u001b[39;49m\u001b[43mpreserved_cais\u001b[49m\u001b[43m,\u001b[49m\u001b[43m \u001b[49m\u001b[38;5;28;43mlen\u001b[39;49m\u001b[43m(\u001b[49m\u001b[38;5;28;43mself\u001b[39;49m\u001b[38;5;241;43m.\u001b[39;49m\u001b[43mpreserved_cais\u001b[49m\u001b[43m)\u001b[49m\u001b[43m,\u001b[49m\u001b[43m \u001b[49m\u001b[43mreplace\u001b[49m\u001b[38;5;241;43m=\u001b[39;49m\u001b[38;5;28;43;01mFalse\u001b[39;49;00m\n\u001b[0;32m    251\u001b[0m \u001b[43m\u001b[49m\u001b[43m)\u001b[49m\n\u001b[0;32m    252\u001b[0m \u001b[38;5;28;01mreturn\u001b[39;00m perm[:n], perm[n:]\n",
      "\u001b[1;31mKeyboardInterrupt\u001b[0m: "
     ]
    }
   ],
   "source": [
    "auxiliary_args = {\n",
    "    \"n_users\": datamodule.max_user_count,\n",
    "    \"n_anime\": datamodule.max_anime_count,\n",
    "}\n",
    "model_config = model_config | auxiliary_args\n",
    "model = Models.from_string(args[\"model\"].upper())(datamodule=datamodule, **model_config)\n",
    "\n",
    "model.train()\n",
    "\n",
    "metrics = testbench.full_evaluation(model)\n",
    "with open(os.path.join(output_dir, \"output.txt\"), \"w\") as f:\n",
    "    for k, v in metrics.items():\n",
    "        if type(v) == np.ndarray:\n",
    "            continue\n",
    "        f.write(f\"{k}: {v}\\n\")"
   ]
  }
 ],
 "metadata": {
  "kernelspec": {
   "display_name": "cmu_10718",
   "language": "python",
   "name": "python3"
  },
  "language_info": {
   "codemirror_mode": {
    "name": "ipython",
    "version": 3
   },
   "file_extension": ".py",
   "mimetype": "text/x-python",
   "name": "python",
   "nbconvert_exporter": "python",
   "pygments_lexer": "ipython3",
   "version": "3.11.0"
  }
 },
 "nbformat": 4,
 "nbformat_minor": 2
}
