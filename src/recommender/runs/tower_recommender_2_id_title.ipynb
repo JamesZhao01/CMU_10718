{
 "cells": [
  {
   "cell_type": "code",
   "execution_count": 8,
   "metadata": {},
   "outputs": [
    {
     "name": "stdout",
     "output_type": "stream",
     "text": [
      "The autoreload extension is already loaded. To reload it, use:\n",
      "  %reload_ext autoreload\n"
     ]
    }
   ],
   "source": [
    "%load_ext autoreload\n",
    "%autoreload 2"
   ]
  },
  {
   "cell_type": "code",
   "execution_count": 9,
   "metadata": {},
   "outputs": [
    {
     "name": "stdout",
     "output_type": "stream",
     "text": [
      "jumping into src\n",
      "jumping out of src\n"
     ]
    }
   ],
   "source": [
    "import os, json\n",
    "import numpy as np\n",
    "\n",
    "if not os.getcwd().endswith(\"src\"):\n",
    "    os.chdir(\"src\")\n",
    "    print(\"jumping into src\")\n",
    "\n",
    "from utils.data.data_module import DataModule\n",
    "from utils.data.testbench import TestBench\n",
    "from recommender.run_pipeline import Models\n",
    "\n",
    "if os.getcwd().endswith(\"src\"):\n",
    "    os.chdir(\"..\")\n",
    "    print(\"jumping out of src\")\n",
    "\n",
    "args = {\n",
    "    \"output_dir\": \"models/popularity\",\n",
    "    \"dataset_config\": \"configs/datasets/masked_is_negative.json\",\n",
    "    \"model_config\": \"configs/twotower/2_user_id_anime_id_title_fresh.json\",\n",
    "    \"model\": \"tower\",\n",
    "    \"should_return_ids\": True,\n",
    "}\n",
    "dataset_config = {}\n",
    "model_config = {}\n",
    "output_dir = args[\"output_dir\"]\n",
    "if args[\"dataset_config\"]:\n",
    "    with open(args[\"dataset_config\"], \"r\") as f:\n",
    "        dataset_config_2 = json.load(f)\n",
    "        dataset_config.update(dataset_config_2)\n",
    "if args[\"model_config\"]:\n",
    "    with open(args[\"model_config\"], \"r\") as f:\n",
    "        model_config = json.load(f)\n",
    "\n",
    "os.makedirs(output_dir, exist_ok=True)\n",
    "os.environ[\"CUDA_LAUNCH_BLOCKING\"] = \"1\"\n",
    "os.environ[\"TORCH_USE_CUDA_DSA\"] = \"1\""
   ]
  },
  {
   "cell_type": "code",
   "execution_count": 10,
   "metadata": {},
   "outputs": [
    {
     "name": "stderr",
     "output_type": "stream",
     "text": [
      "Parsing animes...: 100%|██████████| 12294/12294 [00:00<00:00, 19828.60it/s]\n",
      "Parsing users...: 100%|██████████| 73515/73515 [00:39<00:00, 1871.48it/s]\n",
      "Resetting Train to k=0 ...: 100%|██████████| 48669/48669 [00:14<00:00, 3306.90it/s]"
     ]
    },
    {
     "name": "stdout",
     "output_type": "stream",
     "text": [
      "Number of Users: 54077, Hash[:8]: 9f0cd3, Hash: 9f0cd3119bd9ee7279856737c33aebb8\n",
      "Total Animes: 12294, Total Users: 54077\n"
     ]
    },
    {
     "name": "stderr",
     "output_type": "stream",
     "text": [
      "\n"
     ]
    }
   ],
   "source": [
    "datamodule = DataModule(**dataset_config)\n",
    "testbench = TestBench(\n",
    "    datamodule, should_return_ids=args.get(\"should_return_ids\", False)\n",
    ")"
   ]
  },
  {
   "cell_type": "code",
   "execution_count": null,
   "metadata": {},
   "outputs": [
    {
     "name": "stdout",
     "output_type": "stream",
     "text": [
      "Epoch 1 / 100\n"
     ]
    }
   ],
   "source": [
    "auxiliary_args = {\n",
    "    \"n_users\": datamodule.max_user_count,\n",
    "    \"n_anime\": datamodule.max_anime_count,\n",
    "}\n",
    "model_config = model_config | auxiliary_args\n",
    "model = Models.from_string(args[\"model\"].upper())(datamodule=datamodule, **model_config)\n",
    "\n",
    "model.train()\n",
    "\n",
    "metrics = testbench.full_evaluation(model)\n",
    "with open(os.path.join(output_dir, \"output.txt\"), \"w\") as f:\n",
    "    for k, v in metrics.items():\n",
    "        if type(v) == np.ndarray:\n",
    "            continue\n",
    "        f.write(f\"{k}: {v}\\n\")"
   ]
  },
  {
   "cell_type": "code",
   "execution_count": null,
   "metadata": {},
   "outputs": [
    {
     "name": "stdout",
     "output_type": "stream",
     "text": [
      "scores.shape=(5408, 12294)\n",
      "48669\n"
     ]
    }
   ],
   "source": [
    "scores = metrics[\"scores\"]\n",
    "shows = np.argsort(-scores, axis=1)\n",
    "print(f\"{scores.shape=}\")\n",
    "test_cuids = datamodule.test_cuids\n",
    "first = test_cuids[0]\n",
    "print(first)"
   ]
  },
  {
   "cell_type": "code",
   "execution_count": null,
   "metadata": {},
   "outputs": [
    {
     "data": {
      "text/plain": [
       "([tensor([0])],\n",
       " [tensor([2855, 4551,  760, 1087, 3978, 3560,  425, 3337,  449, 2620])],\n",
       " [tensor([ 1469,   596,  4644,  9903,   105,  7615,  5438,  4645,   287,  7656,\n",
       "          10739,  5982,  5852,  2715,  6476,  5459,  9709,  2710,  9693,  3762])])"
      ]
     },
     "execution_count": 47,
     "metadata": {},
     "output_type": "execute_result"
    }
   ],
   "source": [
    "model.dataset[0]"
   ]
  },
  {
   "cell_type": "code",
   "execution_count": null,
   "metadata": {},
   "outputs": [
    {
     "name": "stdout",
     "output_type": "stream",
     "text": [
      "Get positive recommendations\n",
      "Average score: -0.023083681240677834\n",
      "Average scores of positive: 0.2732205390930176\n",
      "Ranks: [  942  1053  1121  1182  1508  1638  1653  1738  1810  1882  1986  2258\n",
      "  2468  2603  2701  2722  2939  3039  3373  3445  3721  3749  3767  3851\n",
      "  4314  4431  4539  4561  4678  4865  5073  5397  5399  5450  5525  5787\n",
      "  6015  6149  6237  6379  6436  6847  7479  7493  7703  7724  8118  8174\n",
      "  8190  8866  8905  9056  9212  9428  9566  9730  9928  9956 10371 10379\n",
      " 10544 11243 11678 11712 11933 12157]\n"
     ]
    }
   ],
   "source": [
    "print(f\"Get positive recommendations\")\n",
    "positives_for_first = datamodule.canonical_user_mapping[first].preserved_cais\n",
    "print(f\"Average score: {scores[0].mean()}\")\n",
    "print(f\"Average scores of positive: {scores[0][positives_for_first].mean()}\")\n",
    "shows_in_preserved = np.isin(shows[0], positives_for_first)\n",
    "ranks = np.nonzero(shows_in_preserved)[0]\n",
    "print(f\"Ranks: {ranks}\")"
   ]
  },
  {
   "cell_type": "code",
   "execution_count": null,
   "metadata": {},
   "outputs": [
    {
     "name": "stdout",
     "output_type": "stream",
     "text": [
      "User 0\n",
      "[0] - [13.575464248657227]: Rockman.EXE Stream, [1] - [13.480500221252441]: Kumori Nochi Hare, [2] - [12.464479446411133]: Hwanggeum Cheolin, [3] - [11.939308166503906]: Himawari no You ni, [4] - [11.854948997497559]: Aniyome, User 1\n",
      "[0] - [13.505234718322754]: Nyamen: Tenkai Daiichi Joshi Koukou Bunka Matsuri Tokubetsu Eizou, [1] - [12.39642333984375]: Ashita no Joe 2 (Movie), [2] - [12.390143394470215]: Angelium, [3] - [12.329965591430664]: Kizuoibito, [4] - [12.233551979064941]: Sanrio Anime Sekai Meisaku Gekijou, User 2\n",
      "[0] - [11.632704734802246]: Ghost Messenger Movie, [1] - [10.786734580993652]: Tondera House no Daibouken, [2] - [10.354955673217773]: Urusei Yatsura Movie 6: Itsudatte My Darling, [3] - [10.296066284179688]: Cofun Gal no Coffy: Cofunderella, [4] - [10.26324462890625]: Soul Worker: Your Destiny Awaits, User 3\n",
      "[0] - [14.320096015930176]: Kaijuu no Ballad, [1] - [13.771485328674316]: Fuyu no Yoru no Ohanashi, [2] - [13.52220630645752]: Sansha Sanyou, [3] - [13.106348037719727]: Candy Boy Episode: EX01 - Mirai Yohouzu, [4] - [12.435722351074219]: Nice to See You, User 4\n",
      "[0] - [10.367541313171387]: Lady Georgie, [1] - [9.951247215270996]: Narutaru: Mukuro Naru Hoshi Tama Taru Ko, [2] - [9.804712295532227]: Bubblegum Crash, [3] - [9.743983268737793]: Mi-da-ra, [4] - [9.672224044799805]: Legend of Lemnear: Kyokuguro no Tsubasa Valkisas, "
     ]
    }
   ],
   "source": [
    "for i in range(5):\n",
    "    print(f\"User {i}\")\n",
    "    for j in range(5):\n",
    "        print(\n",
    "            f\"[{j}] - [{scores[i, shows[i,j]]}]: {datamodule.canonical_anime_mapping[shows[i, j]].name}, \",\n",
    "            end=\"\",\n",
    "        )\n",
    "    print"
   ]
  },
  {
   "cell_type": "code",
   "execution_count": 12,
   "metadata": {},
   "outputs": [
    {
     "name": "stdout",
     "output_type": "stream",
     "text": [
      "48669\n"
     ]
    }
   ],
   "source": []
  },
  {
   "cell_type": "code",
   "execution_count": 9,
   "metadata": {},
   "outputs": [
    {
     "name": "stdout",
     "output_type": "stream",
     "text": [
      "66\n"
     ]
    }
   ],
   "source": [
    "print(len(datamodule.canonical_user_mapping[first].preserved_cais))"
   ]
  },
  {
   "cell_type": "code",
   "execution_count": 15,
   "metadata": {},
   "outputs": [
    {
     "name": "stdout",
     "output_type": "stream",
     "text": [
      "np.isinf(scores[0]).sum()=np.int64(12294)\n",
      "len(scores[0])=12294\n"
     ]
    }
   ],
   "source": [
    "print(f\"{np.isinf(scores[0]).sum()=}\")\n",
    "print(f\"{len(scores[0])=}\")"
   ]
  }
 ],
 "metadata": {
  "kernelspec": {
   "display_name": "cmu_10718",
   "language": "python",
   "name": "python3"
  },
  "language_info": {
   "codemirror_mode": {
    "name": "ipython",
    "version": 3
   },
   "file_extension": ".py",
   "mimetype": "text/x-python",
   "name": "python",
   "nbconvert_exporter": "python",
   "pygments_lexer": "ipython3",
   "version": "3.11.0"
  }
 },
 "nbformat": 4,
 "nbformat_minor": 2
}
