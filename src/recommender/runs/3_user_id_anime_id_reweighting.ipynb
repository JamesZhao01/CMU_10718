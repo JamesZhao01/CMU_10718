{
 "cells": [
  {
   "cell_type": "code",
   "execution_count": 15,
   "metadata": {},
   "outputs": [
    {
     "name": "stdout",
     "output_type": "stream",
     "text": [
      "The autoreload extension is already loaded. To reload it, use:\n",
      "  %reload_ext autoreload\n"
     ]
    }
   ],
   "source": [
    "%load_ext autoreload\n",
    "%autoreload 2"
   ]
  },
  {
   "cell_type": "code",
   "execution_count": 19,
   "metadata": {},
   "outputs": [
    {
     "name": "stdout",
     "output_type": "stream",
     "text": [
      "jumping into src\n",
      "jumping out of src\n"
     ]
    }
   ],
   "source": [
    "import os, json\n",
    "import numpy as np\n",
    "\n",
    "if not os.getcwd().endswith(\"src\"):\n",
    "    os.chdir(\"src\")\n",
    "    print(\"jumping into src\")\n",
    "\n",
    "from utils.data.data_module import DataModule\n",
    "from utils.data.testbench import TestBench\n",
    "from recommender.run_pipeline import Models\n",
    "\n",
    "if os.getcwd().endswith(\"src\"):\n",
    "    os.chdir(\"..\")\n",
    "    print(\"jumping out of src\")\n",
    "\n",
    "args = {\n",
    "    \"output_dir\": \"models/popularity\",\n",
    "    \"dataset_config\": \"configs/datasets/id_dataset.json\",\n",
    "    \"model_config\": \"configs/twotower/3_user_id_anime_id_reweighting.json\",\n",
    "    \"model\": \"tower\",\n",
    "    \"should_return_ids\": True,\n",
    "}\n",
    "dataset_config = {}\n",
    "model_config = {}\n",
    "output_dir = args[\"output_dir\"]\n",
    "if args[\"dataset_config\"]:\n",
    "    with open(args[\"dataset_config\"], \"r\") as f:\n",
    "        dataset_config_2 = json.load(f)\n",
    "        dataset_config.update(dataset_config_2)\n",
    "if args[\"model_config\"]:\n",
    "    with open(args[\"model_config\"], \"r\") as f:\n",
    "        model_config = json.load(f)\n",
    "\n",
    "os.makedirs(output_dir, exist_ok=True)\n",
    "os.environ[\"CUDA_LAUNCH_BLOCKING\"] = \"1\"\n",
    "os.environ[\"TORCH_USE_CUDA_DSA\"] = \"1\""
   ]
  },
  {
   "cell_type": "code",
   "execution_count": 3,
   "metadata": {},
   "outputs": [
    {
     "name": "stderr",
     "output_type": "stream",
     "text": [
      "Parsing animes...: 100%|██████████| 12294/12294 [00:02<00:00, 5739.81it/s]\n",
      "Parsing users...: 100%|██████████| 73515/73515 [00:40<00:00, 1799.43it/s]\n",
      "Resetting Train to k=0 ...: 100%|██████████| 48669/48669 [00:13<00:00, 3547.13it/s]"
     ]
    },
    {
     "name": "stdout",
     "output_type": "stream",
     "text": [
      "Number of Users: 54077, Hash[:8]: 9f0cd3, Hash: 9f0cd3119bd9ee7279856737c33aebb8\n",
      "Total Animes: 12294, Total Users: 54077\n"
     ]
    },
    {
     "name": "stderr",
     "output_type": "stream",
     "text": [
      "\n"
     ]
    }
   ],
   "source": [
    "datamodule = DataModule(**dataset_config)\n",
    "testbench = TestBench(\n",
    "    datamodule, should_return_ids=args.get(\"should_return_ids\", False)\n",
    ")"
   ]
  },
  {
   "cell_type": "code",
   "execution_count": 20,
   "metadata": {},
   "outputs": [
    {
     "name": "stdout",
     "output_type": "stream",
     "text": [
      "Epoch 1 / 20\n",
      "[0] Loss: 0.6981. Time: 15.25 s / 305.06 s. ETA: 289.81 s\n",
      "Start Time: 2024-11-13 16:52:42\n",
      "End Time: 2024-11-13 16:52:44\n",
      "This model took 1.9063 seconds.\n",
      "Out of an optimal score of 1.0, you scored 0.0009.\n",
      "Your DEI score is 87397.9234.\n",
      "Your Pseudo-IOU score is 0.2172.\n",
      ">>0|0.6984124183654785|{\"runtime\": 1.9063220024108887, \"ndcg\": 0.0009443532173076013, \"diversity_score\": 87397.92341426293, \"pseudo_iou\": 0.2171782544378698}<<\n",
      "Epoch 2 / 20\n",
      "[1] Loss: 0.6974. Time: 35.59 s / 355.90 s. ETA: 320.31 s\n",
      "Start Time: 2024-11-13 16:53:03\n",
      "End Time: 2024-11-13 16:53:05\n",
      "This model took 1.9068 seconds.\n",
      "Out of an optimal score of 1.0, you scored 0.0011.\n",
      "Your DEI score is 87348.9405.\n",
      "Your Pseudo-IOU score is 0.2169.\n",
      ">>1|0.6964989304542542|{\"runtime\": 1.9067797660827637, \"ndcg\": 0.0010525868991938133, \"diversity_score\": 87348.94049619531, \"pseudo_iou\": 0.21688239644970414}<<\n",
      "Epoch 3 / 20\n",
      "[2] Loss: 0.6925. Time: 56.49 s / 376.58 s. ETA: 320.09 s\n",
      "Start Time: 2024-11-13 16:53:24\n",
      "End Time: 2024-11-13 16:53:26\n",
      "This model took 2.4173 seconds.\n",
      "Out of an optimal score of 1.0, you scored 0.0027.\n",
      "Your DEI score is 84721.1606.\n",
      "Your Pseudo-IOU score is 0.2094.\n",
      ">>2|0.6891870498657227|{\"runtime\": 2.4173102378845215, \"ndcg\": 0.0027429272893729675, \"diversity_score\": 84721.16063955845, \"pseudo_iou\": 0.209375}<<\n",
      "Epoch 4 / 20\n",
      "[3] Loss: 0.6573. Time: 78.27 s / 391.34 s. ETA: 313.07 s\n",
      "Start Time: 2024-11-13 16:53:45\n",
      "End Time: 2024-11-13 16:53:47\n",
      "This model took 1.9300 seconds.\n",
      "Out of an optimal score of 1.0, you scored 0.0495.\n",
      "Your DEI score is 44226.6011.\n",
      "Your Pseudo-IOU score is 0.1014.\n",
      ">>3|0.6394960284233093|{\"runtime\": 1.9299564361572266, \"ndcg\": 0.049471433868457516, \"diversity_score\": 44226.60106901647, \"pseudo_iou\": 0.10142381656804733}<<\n",
      "Epoch 5 / 20\n",
      "[4] Loss: 0.5335. Time: 98.73 s / 394.93 s. ETA: 296.19 s\n",
      "Start Time: 2024-11-13 16:54:06\n",
      "End Time: 2024-11-13 16:54:08\n",
      "This model took 1.9811 seconds.\n",
      "Out of an optimal score of 1.0, you scored 0.0895.\n",
      "Your DEI score is 2472.9727.\n",
      "Your Pseudo-IOU score is 0.0036.\n",
      ">>4|0.49468088150024414|{\"runtime\": 1.9810750484466553, \"ndcg\": 0.0894724679413602, \"diversity_score\": 2472.972654067476, \"pseudo_iou\": 0.0036427514792899407}<<\n",
      "Epoch 6 / 20\n",
      "[5] Loss: 0.3679. Time: 119.91 s / 399.71 s. ETA: 279.80 s\n",
      "Start Time: 2024-11-13 16:54:27\n",
      "End Time: 2024-11-13 16:54:29\n",
      "This model took 1.9092 seconds.\n",
      "Out of an optimal score of 1.0, you scored 0.0964.\n",
      "Your DEI score is 1437.1163.\n",
      "Your Pseudo-IOU score is 0.0021.\n",
      ">>5|0.34510281682014465|{\"runtime\": 1.9092340469360352, \"ndcg\": 0.09640672023980695, \"diversity_score\": 1437.1162662516947, \"pseudo_iou\": 0.0020710059171597634}<<\n",
      "Epoch 7 / 20\n",
      "[6] Loss: 0.2645. Time: 140.05 s / 400.16 s. ETA: 260.10 s\n",
      "Start Time: 2024-11-13 16:54:47\n",
      "End Time: 2024-11-13 16:54:49\n",
      "This model took 1.9106 seconds.\n",
      "Out of an optimal score of 1.0, you scored 0.0983.\n",
      "Your DEI score is 1373.1156.\n",
      "Your Pseudo-IOU score is 0.0020.\n",
      ">>6|0.26191094517707825|{\"runtime\": 1.910635232925415, \"ndcg\": 0.09829894968368072, \"diversity_score\": 1373.1156371970808, \"pseudo_iou\": 0.001978550295857988}<<\n",
      "Epoch 8 / 20\n",
      "[7] Loss: 0.2145. Time: 160.31 s / 400.79 s. ETA: 240.47 s\n",
      "Start Time: 2024-11-13 16:55:07\n",
      "End Time: 2024-11-13 16:55:09\n",
      "This model took 1.9051 seconds.\n",
      "Out of an optimal score of 1.0, you scored 0.0998.\n",
      "Your DEI score is 1371.7786.\n",
      "Your Pseudo-IOU score is 0.0020.\n",
      ">>7|0.21285049617290497|{\"runtime\": 1.9050676822662354, \"ndcg\": 0.09977520854197061, \"diversity_score\": 1371.7785605783863, \"pseudo_iou\": 0.001978550295857988}<<\n",
      "Epoch 9 / 20\n",
      "[8] Loss: 0.1875. Time: 180.68 s / 401.51 s. ETA: 220.83 s\n",
      "Start Time: 2024-11-13 16:55:28\n",
      "End Time: 2024-11-13 16:55:30\n",
      "This model took 1.9164 seconds.\n",
      "Out of an optimal score of 1.0, you scored 0.1010.\n",
      "Your DEI score is 1399.9940.\n",
      "Your Pseudo-IOU score is 0.0020.\n",
      ">>8|0.18712545931339264|{\"runtime\": 1.9164369106292725, \"ndcg\": 0.1010070035026113, \"diversity_score\": 1399.9940359563243, \"pseudo_iou\": 0.0020155325443786984}<<\n",
      "Epoch 10 / 20\n",
      "[9] Loss: 0.1704. Time: 200.78 s / 401.57 s. ETA: 200.78 s\n",
      "Start Time: 2024-11-13 16:55:48\n",
      "End Time: 2024-11-13 16:55:50\n",
      "This model took 2.0285 seconds.\n",
      "Out of an optimal score of 1.0, you scored 0.1013.\n",
      "Your DEI score is 1348.4100.\n",
      "Your Pseudo-IOU score is 0.0019.\n",
      ">>9|0.1714189201593399|{\"runtime\": 2.028501510620117, \"ndcg\": 0.10132983967191549, \"diversity_score\": 1348.4100040265257, \"pseudo_iou\": 0.001941568047337278}<<\n",
      "Epoch 11 / 20\n",
      "[10] Loss: 0.1583. Time: 221.38 s / 402.50 s. ETA: 181.13 s\n",
      "Start Time: 2024-11-13 16:56:09\n",
      "End Time: 2024-11-13 16:56:10\n",
      "This model took 1.9142 seconds.\n",
      "Out of an optimal score of 1.0, you scored 0.1017.\n",
      "Your DEI score is 1384.1436.\n",
      "Your Pseudo-IOU score is 0.0020.\n",
      ">>10|0.1599387377500534|{\"runtime\": 1.9142489433288574, \"ndcg\": 0.10174625032279236, \"diversity_score\": 1384.1435606596854, \"pseudo_iou\": 0.001997041420118343}<<\n",
      "Epoch 12 / 20\n",
      "[11] Loss: 0.1495. Time: 242.19 s / 403.65 s. ETA: 161.46 s\n",
      "Start Time: 2024-11-13 16:56:30\n",
      "End Time: 2024-11-13 16:56:32\n",
      "This model took 2.4494 seconds.\n",
      "Out of an optimal score of 1.0, you scored 0.1021.\n",
      "Your DEI score is 1398.6113.\n",
      "Your Pseudo-IOU score is 0.0020.\n",
      ">>11|0.14936555922031403|{\"runtime\": 2.449411153793335, \"ndcg\": 0.10205748173807255, \"diversity_score\": 1398.6112862746545, \"pseudo_iou\": 0.0020155325443786984}<<\n",
      "Epoch 13 / 20\n"
     ]
    },
    {
     "ename": "KeyboardInterrupt",
     "evalue": "",
     "output_type": "error",
     "traceback": [
      "\u001b[0;31m---------------------------------------------------------------------------\u001b[0m",
      "\u001b[0;31mKeyboardInterrupt\u001b[0m                         Traceback (most recent call last)",
      "Cell \u001b[0;32mIn[20], line 8\u001b[0m\n\u001b[1;32m      5\u001b[0m model_config \u001b[38;5;241m=\u001b[39m model_config \u001b[38;5;241m|\u001b[39m auxiliary_args\n\u001b[1;32m      6\u001b[0m model \u001b[38;5;241m=\u001b[39m Models\u001b[38;5;241m.\u001b[39mfrom_string(args[\u001b[38;5;124m\"\u001b[39m\u001b[38;5;124mmodel\u001b[39m\u001b[38;5;124m\"\u001b[39m]\u001b[38;5;241m.\u001b[39mupper())(datamodule\u001b[38;5;241m=\u001b[39mdatamodule, \u001b[38;5;241m*\u001b[39m\u001b[38;5;241m*\u001b[39mmodel_config)\n\u001b[0;32m----> 8\u001b[0m \u001b[43mmodel\u001b[49m\u001b[38;5;241;43m.\u001b[39;49m\u001b[43mtrain\u001b[49m\u001b[43m(\u001b[49m\u001b[43m)\u001b[49m\n\u001b[1;32m     10\u001b[0m metrics \u001b[38;5;241m=\u001b[39m testbench\u001b[38;5;241m.\u001b[39mfull_evaluation(model)\n\u001b[1;32m     11\u001b[0m \u001b[38;5;28;01mwith\u001b[39;00m \u001b[38;5;28mopen\u001b[39m(os\u001b[38;5;241m.\u001b[39mpath\u001b[38;5;241m.\u001b[39mjoin(output_dir, \u001b[38;5;124m\"\u001b[39m\u001b[38;5;124moutput.txt\u001b[39m\u001b[38;5;124m\"\u001b[39m), \u001b[38;5;124m\"\u001b[39m\u001b[38;5;124mw\u001b[39m\u001b[38;5;124m\"\u001b[39m) \u001b[38;5;28;01mas\u001b[39;00m f:\n",
      "File \u001b[0;32m/data/user_data/jjzhao2/CMU_10718/src/recommender/tower_recommender.py:176\u001b[0m, in \u001b[0;36mTowerRecommender.train\u001b[0;34m(self, *args, **kwargs)\u001b[0m\n\u001b[1;32m    170\u001b[0m     batch_iterator \u001b[38;5;241m=\u001b[39m tqdm\u001b[38;5;241m.\u001b[39mtqdm(\n\u001b[1;32m    171\u001b[0m         batch_iterator,\n\u001b[1;32m    172\u001b[0m         total\u001b[38;5;241m=\u001b[39m(\u001b[38;5;28mlen\u001b[39m(\u001b[38;5;28mself\u001b[39m\u001b[38;5;241m.\u001b[39mdataloader\u001b[38;5;241m.\u001b[39mdataset) \u001b[38;5;241m+\u001b[39m \u001b[38;5;28mself\u001b[39m\u001b[38;5;241m.\u001b[39mbatch_size \u001b[38;5;241m-\u001b[39m \u001b[38;5;241m1\u001b[39m)\n\u001b[1;32m    173\u001b[0m         \u001b[38;5;241m/\u001b[39m\u001b[38;5;241m/\u001b[39m \u001b[38;5;28mself\u001b[39m\u001b[38;5;241m.\u001b[39mbatch_size,\n\u001b[1;32m    174\u001b[0m     )\n\u001b[1;32m    175\u001b[0m epoch_loss, n \u001b[38;5;241m=\u001b[39m \u001b[38;5;241m0\u001b[39m, \u001b[38;5;241m0\u001b[39m\n\u001b[0;32m--> 176\u001b[0m \u001b[43m\u001b[49m\u001b[38;5;28;43;01mfor\u001b[39;49;00m\u001b[43m \u001b[49m\u001b[43mbatch_idx\u001b[49m\u001b[43m,\u001b[49m\u001b[43m \u001b[49m\u001b[43m(\u001b[49m\u001b[43muser\u001b[49m\u001b[43m,\u001b[49m\u001b[43m \u001b[49m\u001b[43mpositive\u001b[49m\u001b[43m,\u001b[49m\u001b[43m \u001b[49m\u001b[43mnegative\u001b[49m\u001b[43m)\u001b[49m\u001b[43m \u001b[49m\u001b[38;5;129;43;01min\u001b[39;49;00m\u001b[43m \u001b[49m\u001b[43mbatch_iterator\u001b[49m\u001b[43m:\u001b[49m\n\u001b[1;32m    177\u001b[0m \u001b[43m    \u001b[49m\u001b[43mbatch_size\u001b[49m\u001b[43m \u001b[49m\u001b[38;5;241;43m=\u001b[39;49m\u001b[43m \u001b[49m\u001b[38;5;28;43mlen\u001b[39;49m\u001b[43m(\u001b[49m\u001b[43muser\u001b[49m\u001b[43m)\u001b[49m\n\u001b[1;32m    178\u001b[0m \u001b[43m    \u001b[49m\u001b[43muser\u001b[49m\u001b[43m \u001b[49m\u001b[38;5;241;43m=\u001b[39;49m\u001b[43m \u001b[49m\u001b[43mrecursive_to_device\u001b[49m\u001b[43m(\u001b[49m\u001b[43muser\u001b[49m\u001b[43m,\u001b[49m\u001b[43m \u001b[49m\u001b[38;5;28;43mself\u001b[39;49m\u001b[38;5;241;43m.\u001b[39;49m\u001b[43mdevice\u001b[49m\u001b[43m)\u001b[49m\n",
      "File \u001b[0;32m~/miniconda3/envs/cmu_10718/lib/python3.11/site-packages/torch/utils/data/dataloader.py:701\u001b[0m, in \u001b[0;36m_BaseDataLoaderIter.__next__\u001b[0;34m(self)\u001b[0m\n\u001b[1;32m    698\u001b[0m \u001b[38;5;28;01mif\u001b[39;00m \u001b[38;5;28mself\u001b[39m\u001b[38;5;241m.\u001b[39m_sampler_iter \u001b[38;5;129;01mis\u001b[39;00m \u001b[38;5;28;01mNone\u001b[39;00m:\n\u001b[1;32m    699\u001b[0m     \u001b[38;5;66;03m# TODO(https://github.com/pytorch/pytorch/issues/76750)\u001b[39;00m\n\u001b[1;32m    700\u001b[0m     \u001b[38;5;28mself\u001b[39m\u001b[38;5;241m.\u001b[39m_reset()  \u001b[38;5;66;03m# type: ignore[call-arg]\u001b[39;00m\n\u001b[0;32m--> 701\u001b[0m data \u001b[38;5;241m=\u001b[39m \u001b[38;5;28;43mself\u001b[39;49m\u001b[38;5;241;43m.\u001b[39;49m\u001b[43m_next_data\u001b[49m\u001b[43m(\u001b[49m\u001b[43m)\u001b[49m\n\u001b[1;32m    702\u001b[0m \u001b[38;5;28mself\u001b[39m\u001b[38;5;241m.\u001b[39m_num_yielded \u001b[38;5;241m+\u001b[39m\u001b[38;5;241m=\u001b[39m \u001b[38;5;241m1\u001b[39m\n\u001b[1;32m    703\u001b[0m \u001b[38;5;28;01mif\u001b[39;00m (\n\u001b[1;32m    704\u001b[0m     \u001b[38;5;28mself\u001b[39m\u001b[38;5;241m.\u001b[39m_dataset_kind \u001b[38;5;241m==\u001b[39m _DatasetKind\u001b[38;5;241m.\u001b[39mIterable\n\u001b[1;32m    705\u001b[0m     \u001b[38;5;129;01mand\u001b[39;00m \u001b[38;5;28mself\u001b[39m\u001b[38;5;241m.\u001b[39m_IterableDataset_len_called \u001b[38;5;129;01mis\u001b[39;00m \u001b[38;5;129;01mnot\u001b[39;00m \u001b[38;5;28;01mNone\u001b[39;00m\n\u001b[1;32m    706\u001b[0m     \u001b[38;5;129;01mand\u001b[39;00m \u001b[38;5;28mself\u001b[39m\u001b[38;5;241m.\u001b[39m_num_yielded \u001b[38;5;241m>\u001b[39m \u001b[38;5;28mself\u001b[39m\u001b[38;5;241m.\u001b[39m_IterableDataset_len_called\n\u001b[1;32m    707\u001b[0m ):\n",
      "File \u001b[0;32m~/miniconda3/envs/cmu_10718/lib/python3.11/site-packages/torch/utils/data/dataloader.py:757\u001b[0m, in \u001b[0;36m_SingleProcessDataLoaderIter._next_data\u001b[0;34m(self)\u001b[0m\n\u001b[1;32m    755\u001b[0m \u001b[38;5;28;01mdef\u001b[39;00m \u001b[38;5;21m_next_data\u001b[39m(\u001b[38;5;28mself\u001b[39m):\n\u001b[1;32m    756\u001b[0m     index \u001b[38;5;241m=\u001b[39m \u001b[38;5;28mself\u001b[39m\u001b[38;5;241m.\u001b[39m_next_index()  \u001b[38;5;66;03m# may raise StopIteration\u001b[39;00m\n\u001b[0;32m--> 757\u001b[0m     data \u001b[38;5;241m=\u001b[39m \u001b[38;5;28;43mself\u001b[39;49m\u001b[38;5;241;43m.\u001b[39;49m\u001b[43m_dataset_fetcher\u001b[49m\u001b[38;5;241;43m.\u001b[39;49m\u001b[43mfetch\u001b[49m\u001b[43m(\u001b[49m\u001b[43mindex\u001b[49m\u001b[43m)\u001b[49m  \u001b[38;5;66;03m# may raise StopIteration\u001b[39;00m\n\u001b[1;32m    758\u001b[0m     \u001b[38;5;28;01mif\u001b[39;00m \u001b[38;5;28mself\u001b[39m\u001b[38;5;241m.\u001b[39m_pin_memory:\n\u001b[1;32m    759\u001b[0m         data \u001b[38;5;241m=\u001b[39m _utils\u001b[38;5;241m.\u001b[39mpin_memory\u001b[38;5;241m.\u001b[39mpin_memory(data, \u001b[38;5;28mself\u001b[39m\u001b[38;5;241m.\u001b[39m_pin_memory_device)\n",
      "File \u001b[0;32m~/miniconda3/envs/cmu_10718/lib/python3.11/site-packages/torch/utils/data/_utils/fetch.py:52\u001b[0m, in \u001b[0;36m_MapDatasetFetcher.fetch\u001b[0;34m(self, possibly_batched_index)\u001b[0m\n\u001b[1;32m     50\u001b[0m         data \u001b[38;5;241m=\u001b[39m \u001b[38;5;28mself\u001b[39m\u001b[38;5;241m.\u001b[39mdataset\u001b[38;5;241m.\u001b[39m__getitems__(possibly_batched_index)\n\u001b[1;32m     51\u001b[0m     \u001b[38;5;28;01melse\u001b[39;00m:\n\u001b[0;32m---> 52\u001b[0m         data \u001b[38;5;241m=\u001b[39m \u001b[43m[\u001b[49m\u001b[38;5;28;43mself\u001b[39;49m\u001b[38;5;241;43m.\u001b[39;49m\u001b[43mdataset\u001b[49m\u001b[43m[\u001b[49m\u001b[43midx\u001b[49m\u001b[43m]\u001b[49m\u001b[43m \u001b[49m\u001b[38;5;28;43;01mfor\u001b[39;49;00m\u001b[43m \u001b[49m\u001b[43midx\u001b[49m\u001b[43m \u001b[49m\u001b[38;5;129;43;01min\u001b[39;49;00m\u001b[43m \u001b[49m\u001b[43mpossibly_batched_index\u001b[49m\u001b[43m]\u001b[49m\n\u001b[1;32m     53\u001b[0m \u001b[38;5;28;01melse\u001b[39;00m:\n\u001b[1;32m     54\u001b[0m     data \u001b[38;5;241m=\u001b[39m \u001b[38;5;28mself\u001b[39m\u001b[38;5;241m.\u001b[39mdataset[possibly_batched_index]\n",
      "File \u001b[0;32m~/miniconda3/envs/cmu_10718/lib/python3.11/site-packages/torch/utils/data/_utils/fetch.py:52\u001b[0m, in \u001b[0;36m<listcomp>\u001b[0;34m(.0)\u001b[0m\n\u001b[1;32m     50\u001b[0m         data \u001b[38;5;241m=\u001b[39m \u001b[38;5;28mself\u001b[39m\u001b[38;5;241m.\u001b[39mdataset\u001b[38;5;241m.\u001b[39m__getitems__(possibly_batched_index)\n\u001b[1;32m     51\u001b[0m     \u001b[38;5;28;01melse\u001b[39;00m:\n\u001b[0;32m---> 52\u001b[0m         data \u001b[38;5;241m=\u001b[39m [\u001b[38;5;28;43mself\u001b[39;49m\u001b[38;5;241;43m.\u001b[39;49m\u001b[43mdataset\u001b[49m\u001b[43m[\u001b[49m\u001b[43midx\u001b[49m\u001b[43m]\u001b[49m \u001b[38;5;28;01mfor\u001b[39;00m idx \u001b[38;5;129;01min\u001b[39;00m possibly_batched_index]\n\u001b[1;32m     53\u001b[0m \u001b[38;5;28;01melse\u001b[39;00m:\n\u001b[1;32m     54\u001b[0m     data \u001b[38;5;241m=\u001b[39m \u001b[38;5;28mself\u001b[39m\u001b[38;5;241m.\u001b[39mdataset[possibly_batched_index]\n",
      "File \u001b[0;32m/data/user_data/jjzhao2/CMU_10718/src/recommender/tower_recommender.py:382\u001b[0m, in \u001b[0;36mDatasetWrapper.__getitem__\u001b[0;34m(self, idx)\u001b[0m\n\u001b[1;32m    380\u001b[0m \u001b[38;5;28;01mdef\u001b[39;00m \u001b[38;5;21m__getitem__\u001b[39m(\u001b[38;5;28mself\u001b[39m, idx):\n\u001b[1;32m    381\u001b[0m     user \u001b[38;5;241m=\u001b[39m \u001b[38;5;28mself\u001b[39m\u001b[38;5;241m.\u001b[39mdatamodule\u001b[38;5;241m.\u001b[39mcanonical_user_mapping[idx]\n\u001b[0;32m--> 382\u001b[0m     positives, history \u001b[38;5;241m=\u001b[39m \u001b[43muser\u001b[49m\u001b[38;5;241;43m.\u001b[39;49m\u001b[43mpartition_preserved\u001b[49m\u001b[43m(\u001b[49m\u001b[38;5;28;43mself\u001b[39;49m\u001b[38;5;241;43m.\u001b[39;49m\u001b[43mn_pos\u001b[49m\u001b[43m)\u001b[49m\n\u001b[1;32m    383\u001b[0m     positives \u001b[38;5;241m=\u001b[39m [\n\u001b[1;32m    384\u001b[0m         \u001b[38;5;28mself\u001b[39m\u001b[38;5;241m.\u001b[39mdatamodule\u001b[38;5;241m.\u001b[39mcanonical_anime_mapping[anime] \u001b[38;5;28;01mfor\u001b[39;00m anime \u001b[38;5;129;01min\u001b[39;00m positives\n\u001b[1;32m    385\u001b[0m     ]\n\u001b[1;32m    386\u001b[0m     history \u001b[38;5;241m=\u001b[39m [\u001b[38;5;28mself\u001b[39m\u001b[38;5;241m.\u001b[39mdatamodule\u001b[38;5;241m.\u001b[39mcanonical_anime_mapping[anime] \u001b[38;5;28;01mfor\u001b[39;00m anime \u001b[38;5;129;01min\u001b[39;00m history]\n",
      "File \u001b[0;32m/data/user_data/jjzhao2/CMU_10718/src/utils/data/data_classes.py:249\u001b[0m, in \u001b[0;36mUser.partition_preserved\u001b[0;34m(self, n)\u001b[0m\n\u001b[1;32m    244\u001b[0m \u001b[38;5;28;01mif\u001b[39;00m n \u001b[38;5;241m<\u001b[39m\u001b[38;5;241m=\u001b[39m \u001b[38;5;241m0\u001b[39m \u001b[38;5;129;01mor\u001b[39;00m n \u001b[38;5;241m>\u001b[39m \u001b[38;5;28mlen\u001b[39m(\u001b[38;5;28mself\u001b[39m\u001b[38;5;241m.\u001b[39mpreserved_cais):\n\u001b[1;32m    245\u001b[0m     \u001b[38;5;28;01mraise\u001b[39;00m \u001b[38;5;167;01mValueError\u001b[39;00m(\n\u001b[1;32m    246\u001b[0m         \u001b[38;5;124mf\u001b[39m\u001b[38;5;124m\"\u001b[39m\u001b[38;5;124mCannot sample \u001b[39m\u001b[38;5;132;01m{\u001b[39;00mn\u001b[38;5;132;01m}\u001b[39;00m\u001b[38;5;124m positive items from pool of size \u001b[39m\u001b[38;5;132;01m{\u001b[39;00m\u001b[38;5;28mlen\u001b[39m(\u001b[38;5;28mself\u001b[39m\u001b[38;5;241m.\u001b[39mpreserved_cais)\u001b[38;5;132;01m}\u001b[39;00m\u001b[38;5;124m \u001b[39m\u001b[38;5;124m\"\u001b[39m\n\u001b[1;32m    247\u001b[0m         \u001b[38;5;241m+\u001b[39m \u001b[38;5;124mf\u001b[39m\u001b[38;5;124m\"\u001b[39m\u001b[38;5;124mfor user \u001b[39m\u001b[38;5;132;01m{\u001b[39;00m\u001b[38;5;28mself\u001b[39m\u001b[38;5;241m.\u001b[39mid\u001b[38;5;132;01m}\u001b[39;00m\u001b[38;5;124m\"\u001b[39m\n\u001b[1;32m    248\u001b[0m     )\n\u001b[0;32m--> 249\u001b[0m perm \u001b[38;5;241m=\u001b[39m \u001b[38;5;28;43mself\u001b[39;49m\u001b[38;5;241;43m.\u001b[39;49m\u001b[43mrng\u001b[49m\u001b[38;5;241;43m.\u001b[39;49m\u001b[43mchoice\u001b[49m\u001b[43m(\u001b[49m\n\u001b[1;32m    250\u001b[0m \u001b[43m    \u001b[49m\u001b[38;5;28;43mself\u001b[39;49m\u001b[38;5;241;43m.\u001b[39;49m\u001b[43mpreserved_cais\u001b[49m\u001b[43m,\u001b[49m\u001b[43m \u001b[49m\u001b[38;5;28;43mlen\u001b[39;49m\u001b[43m(\u001b[49m\u001b[38;5;28;43mself\u001b[39;49m\u001b[38;5;241;43m.\u001b[39;49m\u001b[43mpreserved_cais\u001b[49m\u001b[43m)\u001b[49m\u001b[43m,\u001b[49m\u001b[43m \u001b[49m\u001b[43mreplace\u001b[49m\u001b[38;5;241;43m=\u001b[39;49m\u001b[38;5;28;43;01mFalse\u001b[39;49;00m\n\u001b[1;32m    251\u001b[0m \u001b[43m\u001b[49m\u001b[43m)\u001b[49m\n\u001b[1;32m    252\u001b[0m \u001b[38;5;28;01mreturn\u001b[39;00m perm[:n], perm[n:]\n",
      "File \u001b[0;32mnumpy/random/_generator.pyx:900\u001b[0m, in \u001b[0;36mnumpy.random._generator.Generator.choice\u001b[0;34m()\u001b[0m\n",
      "File \u001b[0;32m~/miniconda3/envs/cmu_10718/lib/python3.11/site-packages/numpy/_core/fromnumeric.py:3364\u001b[0m, in \u001b[0;36m_prod_dispatcher\u001b[0;34m(a, axis, dtype, out, keepdims, initial, where)\u001b[0m\n\u001b[1;32m   3350\u001b[0m \u001b[38;5;250m    \u001b[39m\u001b[38;5;124;03m\"\"\"\u001b[39;00m\n\u001b[1;32m   3351\u001b[0m \u001b[38;5;124;03m    Return the minimum of an array or minimum along an axis.\u001b[39;00m\n\u001b[1;32m   3352\u001b[0m \n\u001b[0;32m   (...)\u001b[0m\n\u001b[1;32m   3358\u001b[0m \u001b[38;5;124;03m    ndarray.min : equivalent method\u001b[39;00m\n\u001b[1;32m   3359\u001b[0m \u001b[38;5;124;03m    \"\"\"\u001b[39;00m\n\u001b[1;32m   3360\u001b[0m     \u001b[38;5;28;01mreturn\u001b[39;00m _wrapreduction(a, np\u001b[38;5;241m.\u001b[39mminimum, \u001b[38;5;124m'\u001b[39m\u001b[38;5;124mmin\u001b[39m\u001b[38;5;124m'\u001b[39m, axis, \u001b[38;5;28;01mNone\u001b[39;00m, out,\n\u001b[1;32m   3361\u001b[0m                           keepdims\u001b[38;5;241m=\u001b[39mkeepdims, initial\u001b[38;5;241m=\u001b[39minitial, where\u001b[38;5;241m=\u001b[39mwhere)\n\u001b[0;32m-> 3364\u001b[0m \u001b[38;5;28;01mdef\u001b[39;00m \u001b[38;5;21m_prod_dispatcher\u001b[39m(a, axis\u001b[38;5;241m=\u001b[39m\u001b[38;5;28;01mNone\u001b[39;00m, dtype\u001b[38;5;241m=\u001b[39m\u001b[38;5;28;01mNone\u001b[39;00m, out\u001b[38;5;241m=\u001b[39m\u001b[38;5;28;01mNone\u001b[39;00m, keepdims\u001b[38;5;241m=\u001b[39m\u001b[38;5;28;01mNone\u001b[39;00m,\n\u001b[1;32m   3365\u001b[0m                      initial\u001b[38;5;241m=\u001b[39m\u001b[38;5;28;01mNone\u001b[39;00m, where\u001b[38;5;241m=\u001b[39m\u001b[38;5;28;01mNone\u001b[39;00m):\n\u001b[1;32m   3366\u001b[0m     \u001b[38;5;28;01mreturn\u001b[39;00m (a, out)\n\u001b[1;32m   3369\u001b[0m \u001b[38;5;129m@array_function_dispatch\u001b[39m(_prod_dispatcher)\n\u001b[1;32m   3370\u001b[0m \u001b[38;5;28;01mdef\u001b[39;00m \u001b[38;5;21mprod\u001b[39m(a, axis\u001b[38;5;241m=\u001b[39m\u001b[38;5;28;01mNone\u001b[39;00m, dtype\u001b[38;5;241m=\u001b[39m\u001b[38;5;28;01mNone\u001b[39;00m, out\u001b[38;5;241m=\u001b[39m\u001b[38;5;28;01mNone\u001b[39;00m, keepdims\u001b[38;5;241m=\u001b[39mnp\u001b[38;5;241m.\u001b[39m_NoValue,\n\u001b[1;32m   3371\u001b[0m          initial\u001b[38;5;241m=\u001b[39mnp\u001b[38;5;241m.\u001b[39m_NoValue, where\u001b[38;5;241m=\u001b[39mnp\u001b[38;5;241m.\u001b[39m_NoValue):\n",
      "\u001b[0;31mKeyboardInterrupt\u001b[0m: "
     ]
    }
   ],
   "source": [
    "auxiliary_args = {\n",
    "    \"n_users\": datamodule.max_user_count,\n",
    "    \"n_anime\": datamodule.max_anime_count,\n",
    "}\n",
    "model_config = model_config | auxiliary_args\n",
    "model = Models.from_string(args[\"model\"].upper())(datamodule=datamodule, **model_config)\n",
    "\n",
    "model.train()\n",
    "\n",
    "metrics = testbench.full_evaluation(model)\n",
    "with open(os.path.join(output_dir, \"output.txt\"), \"w\") as f:\n",
    "    for k, v in metrics.items():\n",
    "        if type(v) == np.ndarray:\n",
    "            continue\n",
    "        f.write(f\"{k}: {v}\\n\")"
   ]
  }
 ],
 "metadata": {
  "kernelspec": {
   "display_name": "cmu_10718",
   "language": "python",
   "name": "python3"
  },
  "language_info": {
   "codemirror_mode": {
    "name": "ipython",
    "version": 3
   },
   "file_extension": ".py",
   "mimetype": "text/x-python",
   "name": "python",
   "nbconvert_exporter": "python",
   "pygments_lexer": "ipython3",
   "version": "3.11.0"
  }
 },
 "nbformat": 4,
 "nbformat_minor": 2
}
