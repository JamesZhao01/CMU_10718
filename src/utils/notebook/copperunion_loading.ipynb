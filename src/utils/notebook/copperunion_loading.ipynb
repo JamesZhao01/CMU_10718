{
 "cells": [
  {
   "cell_type": "code",
   "execution_count": 1,
   "metadata": {},
   "outputs": [],
   "source": [
    "import pandas as pd\n",
    "import os\n",
    "import tqdm\n",
    "import numpy as np"
   ]
  },
  {
   "cell_type": "code",
   "execution_count": 2,
   "metadata": {},
   "outputs": [
    {
     "data": {
      "text/html": [
       "<div>\n",
       "<style scoped>\n",
       "    .dataframe tbody tr th:only-of-type {\n",
       "        vertical-align: middle;\n",
       "    }\n",
       "\n",
       "    .dataframe tbody tr th {\n",
       "        vertical-align: top;\n",
       "    }\n",
       "\n",
       "    .dataframe thead th {\n",
       "        text-align: right;\n",
       "    }\n",
       "</style>\n",
       "<table border=\"1\" class=\"dataframe\">\n",
       "  <thead>\n",
       "    <tr style=\"text-align: right;\">\n",
       "      <th></th>\n",
       "      <th>anime_id</th>\n",
       "      <th>name</th>\n",
       "      <th>genre</th>\n",
       "      <th>type</th>\n",
       "      <th>episodes</th>\n",
       "      <th>rating</th>\n",
       "      <th>members</th>\n",
       "    </tr>\n",
       "  </thead>\n",
       "  <tbody>\n",
       "    <tr>\n",
       "      <th>0</th>\n",
       "      <td>32281</td>\n",
       "      <td>Kimi no Na wa.</td>\n",
       "      <td>Drama, Romance, School, Supernatural</td>\n",
       "      <td>Movie</td>\n",
       "      <td>1</td>\n",
       "      <td>9.37</td>\n",
       "      <td>200630</td>\n",
       "    </tr>\n",
       "    <tr>\n",
       "      <th>1</th>\n",
       "      <td>5114</td>\n",
       "      <td>Fullmetal Alchemist: Brotherhood</td>\n",
       "      <td>Action, Adventure, Drama, Fantasy, Magic, Mili...</td>\n",
       "      <td>TV</td>\n",
       "      <td>64</td>\n",
       "      <td>9.26</td>\n",
       "      <td>793665</td>\n",
       "    </tr>\n",
       "    <tr>\n",
       "      <th>2</th>\n",
       "      <td>28977</td>\n",
       "      <td>Gintama°</td>\n",
       "      <td>Action, Comedy, Historical, Parody, Samurai, S...</td>\n",
       "      <td>TV</td>\n",
       "      <td>51</td>\n",
       "      <td>9.25</td>\n",
       "      <td>114262</td>\n",
       "    </tr>\n",
       "    <tr>\n",
       "      <th>3</th>\n",
       "      <td>9253</td>\n",
       "      <td>Steins;Gate</td>\n",
       "      <td>Sci-Fi, Thriller</td>\n",
       "      <td>TV</td>\n",
       "      <td>24</td>\n",
       "      <td>9.17</td>\n",
       "      <td>673572</td>\n",
       "    </tr>\n",
       "    <tr>\n",
       "      <th>4</th>\n",
       "      <td>9969</td>\n",
       "      <td>Gintama&amp;#039;</td>\n",
       "      <td>Action, Comedy, Historical, Parody, Samurai, S...</td>\n",
       "      <td>TV</td>\n",
       "      <td>51</td>\n",
       "      <td>9.16</td>\n",
       "      <td>151266</td>\n",
       "    </tr>\n",
       "  </tbody>\n",
       "</table>\n",
       "</div>"
      ],
      "text/plain": [
       "   anime_id                              name  \\\n",
       "0     32281                    Kimi no Na wa.   \n",
       "1      5114  Fullmetal Alchemist: Brotherhood   \n",
       "2     28977                          Gintama°   \n",
       "3      9253                       Steins;Gate   \n",
       "4      9969                     Gintama&#039;   \n",
       "\n",
       "                                               genre   type episodes  rating  \\\n",
       "0               Drama, Romance, School, Supernatural  Movie        1    9.37   \n",
       "1  Action, Adventure, Drama, Fantasy, Magic, Mili...     TV       64    9.26   \n",
       "2  Action, Comedy, Historical, Parody, Samurai, S...     TV       51    9.25   \n",
       "3                                   Sci-Fi, Thriller     TV       24    9.17   \n",
       "4  Action, Comedy, Historical, Parody, Samurai, S...     TV       51    9.16   \n",
       "\n",
       "   members  \n",
       "0   200630  \n",
       "1   793665  \n",
       "2   114262  \n",
       "3   673572  \n",
       "4   151266  "
      ]
     },
     "metadata": {},
     "output_type": "display_data"
    },
    {
     "data": {
      "text/html": [
       "<div>\n",
       "<style scoped>\n",
       "    .dataframe tbody tr th:only-of-type {\n",
       "        vertical-align: middle;\n",
       "    }\n",
       "\n",
       "    .dataframe tbody tr th {\n",
       "        vertical-align: top;\n",
       "    }\n",
       "\n",
       "    .dataframe thead th {\n",
       "        text-align: right;\n",
       "    }\n",
       "</style>\n",
       "<table border=\"1\" class=\"dataframe\">\n",
       "  <thead>\n",
       "    <tr style=\"text-align: right;\">\n",
       "      <th></th>\n",
       "      <th>user_id</th>\n",
       "      <th>anime_id</th>\n",
       "      <th>rating</th>\n",
       "    </tr>\n",
       "  </thead>\n",
       "  <tbody>\n",
       "    <tr>\n",
       "      <th>0</th>\n",
       "      <td>1</td>\n",
       "      <td>20</td>\n",
       "      <td>-1</td>\n",
       "    </tr>\n",
       "    <tr>\n",
       "      <th>1</th>\n",
       "      <td>1</td>\n",
       "      <td>24</td>\n",
       "      <td>-1</td>\n",
       "    </tr>\n",
       "    <tr>\n",
       "      <th>2</th>\n",
       "      <td>1</td>\n",
       "      <td>79</td>\n",
       "      <td>-1</td>\n",
       "    </tr>\n",
       "    <tr>\n",
       "      <th>3</th>\n",
       "      <td>1</td>\n",
       "      <td>226</td>\n",
       "      <td>-1</td>\n",
       "    </tr>\n",
       "    <tr>\n",
       "      <th>4</th>\n",
       "      <td>1</td>\n",
       "      <td>241</td>\n",
       "      <td>-1</td>\n",
       "    </tr>\n",
       "  </tbody>\n",
       "</table>\n",
       "</div>"
      ],
      "text/plain": [
       "   user_id  anime_id  rating\n",
       "0        1        20      -1\n",
       "1        1        24      -1\n",
       "2        1        79      -1\n",
       "3        1       226      -1\n",
       "4        1       241      -1"
      ]
     },
     "metadata": {},
     "output_type": "display_data"
    }
   ],
   "source": [
    "animes = pd.read_csv('../data/copperunion/anime.csv')\n",
    "ratings = pd.read_csv('../data/copperunion/rating.csv')\n",
    "display(animes.head())\n",
    "display(ratings.head())"
   ]
  },
  {
   "cell_type": "code",
   "execution_count": 3,
   "metadata": {},
   "outputs": [
    {
     "name": "stdout",
     "output_type": "stream",
     "text": [
      "n_users=73515 n_items=12294 len(ratings)=7813737\n",
      "len(anime_to_inc_id)=12294 max(anime_to_inc_id.values())=12293\n",
      "lacking_metadata_animes={np.int64(30913), np.int64(30924), np.int64(20261)}\n",
      "n_users=73515 len(ratings)=7813727\n"
     ]
    }
   ],
   "source": [
    "n_users = ratings[\"user_id\"].nunique()\n",
    "n_items = animes[\"anime_id\"].nunique()\n",
    "print(f\"{n_users=} {n_items=} {len(ratings)=}\")\n",
    "\n",
    "anime_to_inc_id = animes.reset_index().set_index('anime_id')[\"index\"].to_dict()\n",
    "inc_id_to_anime = {v:k for k,v in anime_to_inc_id.items()}\n",
    "print(f\"{len(anime_to_inc_id)=} {max(anime_to_inc_id.values())=}\")\n",
    "\n",
    "all_animes = set(animes[\"anime_id\"].unique())\n",
    "all_interacted_animes = set(ratings[\"anime_id\"].unique())\n",
    "lacking_metadata_animes = set(all_interacted_animes) - set(all_animes)\n",
    "print(f\"{lacking_metadata_animes=}\")\n",
    "\n",
    "ratings = ratings[~ratings[\"anime_id\"].isin(lacking_metadata_animes)]\n",
    "n_users = ratings[\"user_id\"].nunique()\n",
    "print(f\"{n_users=} {len(ratings)=}\")"
   ]
  },
  {
   "cell_type": "markdown",
   "metadata": {},
   "source": [
    "Find Anime-Anime Jaccard Similarity Matrix (12k x 12k)"
   ]
  },
  {
   "cell_type": "code",
   "execution_count": 18,
   "metadata": {},
   "outputs": [
    {
     "name": "stderr",
     "output_type": "stream",
     "text": [
      "  1%|          | 1/100 [00:00<00:33,  2.91it/s]"
     ]
    }
   ],
   "source": [
    "ratings_interactions = ratings[[\"user_id\", \"anime_id\"]]\n",
    "item_similarity_matrix = np.zeros((n_items, n_items))\n",
    "for anime_id, canonical_anime_id in tqdm.tqdm(sorted(anime_to_inc_id.items())[:100]):\n",
    "    filtered_interactions = ratings_interactions[\n",
    "        ratings_interactions[\"anime_id\"] == anime_id\n",
    "    ][\"user_id\"]\n",
    "    intersection = (\n",
    "        pd.merge(\n",
    "            filtered_interactions,\n",
    "            ratings_interactions,\n",
    "            left_on=\"user_id\",\n",
    "            right_on=\"user_id\",\n",
    "        )\n",
    "        .groupby(\"anime_id\")\n",
    "        .count()\n",
    "        .drop(anime_id, errors=\"ignore\")\n",
    "        .rename(columns={\"user_id\": \"intersection\"})\n",
    "    )\n",
    "    sum_counts = (\n",
    "        (len(filtered_interactions) + ratings_interactions.groupby(\"anime_id\").count())\n",
    "        .drop(anime_id, errors=\"ignore\")\n",
    "        .rename(columns={\"user_id\": \"sum_counts\"})\n",
    "        .join(\n",
    "            intersection, how=\"left\", lsuffix=\"_left\", rsuffix=\"_right\"\n",
    "        )\n",
    "        .fillna(0)\n",
    "    )\n",
    "    sum_counts[\"union\"] = sum_counts[\"sum_counts\"] - sum_counts[\"intersection\"]\n",
    "    sum_counts[\"jaccard\"] = sum_counts[\"intersection\"] / sum_counts[\"union\"]\n",
    "    row = np.zeros(n_items)\n",
    "    indices, entries = sum_counts.index.map(anime_to_inc_id), sum_counts[\"jaccard\"]\n",
    "    row[indices] = entries\n",
    "    item_similarity_matrix[canonical_anime_id] = row\n",
    "    if np.all(row == 0):\n",
    "        print(f\"{anime_id=} {canonical_anime_id=} All zeroes\")\n",
    "np.save(\"../data/copperunion/item_similarity_matrix.npy\", item_similarity_matrix)"
   ]
  },
  {
   "cell_type": "code",
   "execution_count": 14,
   "metadata": {},
   "outputs": [],
   "source": [
    "item_similarity_matrix = np.load(\"../data/copperunion/item_similarity_matrix.npy\")"
   ]
  },
  {
   "cell_type": "code",
   "execution_count": 17,
   "metadata": {},
   "outputs": [
    {
     "data": {
      "text/plain": [
       "99"
      ]
     },
     "execution_count": 17,
     "metadata": {},
     "output_type": "execute_result"
    }
   ],
   "source": [
    "all_zeros = np.logical_and.reduce(item_similarity_matrix == 0, axis=1)\n",
    "len(np.where(all_zeros == False)[0])"
   ]
  },
  {
   "cell_type": "code",
   "execution_count": null,
   "metadata": {},
   "outputs": [],
   "source": [
    "def inference(user_id, items, ratings, k):\n",
    "    items = [anime_to_inc_id[anime_id] for anime_id in items]\n",
    "    ratings_vector = np.zeros((n_items, 1))\n",
    "    ratings_vector[items,0] = ratings\n",
    "    scores = item_similarity_matrix @ ratings_vector\n",
    "    order = np.argsort(-scores)\n",
    "    filtered_order = order[~np.isin(order, items)]\n",
    "    return [inc_id_to_anime[v] for v in filtered_order[:k]]"
   ]
  }
 ],
 "metadata": {
  "kernelspec": {
   "display_name": "cmu_10718",
   "language": "python",
   "name": "python3"
  },
  "language_info": {
   "codemirror_mode": {
    "name": "ipython",
    "version": 3
   },
   "file_extension": ".py",
   "mimetype": "text/x-python",
   "name": "python",
   "nbconvert_exporter": "python",
   "pygments_lexer": "ipython3",
   "version": "3.11.0"
  }
 },
 "nbformat": 4,
 "nbformat_minor": 2
}
