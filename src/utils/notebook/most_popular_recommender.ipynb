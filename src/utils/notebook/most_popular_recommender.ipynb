{
 "cells": [
  {
   "cell_type": "markdown",
   "metadata": {},
   "source": [
    "# Most-Popular Recommender\n",
    "\n",
    "We have some criteria to certify \"popularity\"\n",
    "- Most Members\n",
    "- Most Rated\n",
    "\n",
    "We can try to recommend these shows (excluding ones the user has already seen)"
   ]
  }
 ],
 "metadata": {
  "language_info": {
   "name": "python"
  }
 },
 "nbformat": 4,
 "nbformat_minor": 2
}
