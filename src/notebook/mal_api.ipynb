{
 "cells": [
  {
   "cell_type": "code",
   "execution_count": null,
   "metadata": {},
   "outputs": [],
   "source": [
    "import os\n",
    "import pandas as pd\n",
    "import requests\n",
    "import time"
   ]
  },
  {
   "cell_type": "code",
   "execution_count": null,
   "metadata": {},
   "outputs": [],
   "source": [
    "path = 'C:\\Users\\msmu\\Desktop\\repos\\CMU_10718\\data\\copperunion\\anime.csv'\n",
    "\n",
    "animes = pd.read_csv(path)\n",
    "ids = list(animes['anime_id'])\n",
    "print(len(ids))\n",
    "print(type(ids[0]))"
   ]
  },
  {
   "cell_type": "code",
   "execution_count": null,
   "metadata": {},
   "outputs": [],
   "source": [
    "synopses = {}\n",
    "# Rate limit information here:\n",
    "# https://myanimelist.net/forum/?topicid=2142532\n",
    "# Basically, rate limits approx 300 every 6 minutes or so."
   ]
  },
  {
   "cell_type": "code",
   "execution_count": null,
   "metadata": {},
   "outputs": [
    {
     "name": "stdout",
     "output_type": "stream",
     "text": [
      "An error occurred: HTTPSConnectionPool(host='api.myanimelist.net', port=443): Max retries exceeded with url: /v2/anime/30230?fields=rank,mean,alternative_titles (Caused by ProxyError('Unable to connect to proxy', ConnectTimeoutError(<urllib3.connection.HTTPSConnection object at 0x000001D8D368FB50>, 'Connection to proxy.sandia.gov timed out. (connect timeout=None)')))\n"
     ]
    }
   ],
   "source": [
    "i = 0\n",
    "num_fails = 0\n",
    "fail_ids = []\n",
    "while i < len(ids):\n",
    "    id = ids[i]\n",
    "    url = f'https://api.myanimelist.net/v2/anime/{id}'\n",
    "    headers = {\"X-MAL-CLIENT-ID\": \"########\"}\n",
    "\n",
    "    # ?fields=id,title,main_picture,alternative_titles,start_date,end_date,\n",
    "    # synopsis,mean,rank,popularity,num_list_users,num_scoring_users,nsfw,\n",
    "    # created_at,updated_at,media_type,status,genres,my_list_status,num_episodes,\n",
    "    # start_season,broadcast,source,average_episode_duration,rating,pictures,\n",
    "    # background,related_anime,related_manga,recommendations,studios,statistics'\n",
    "\n",
    "    params = {\n",
    "        'fields': 'main_picture,alternative_titles,synopsis'\n",
    "    }\n",
    "    \n",
    "    try:\n",
    "        response = requests.get(url, headers=headers, params=params)\n",
    "        response.raise_for_status()\n",
    "        json_data = response.json()\n",
    "        synopses.update({id: json_data['synopsis']})\n",
    "        i += 1\n",
    "        num_fails = 0\n",
    "\n",
    "    except requests.exceptions.RequestException as e:\n",
    "        print(f\"An error occurred at {i} for id {id}: {e}\")\n",
    "        num_fails += 1\n",
    "        time.sleep(300)\n",
    "        if num_fails >= 2:\n",
    "            i += 1\n",
    "            fail_ids.append(id)\n",
    "            num_fails = 0"
   ]
  },
  {
   "cell_type": "code",
   "execution_count": null,
   "metadata": {},
   "outputs": [],
   "source": [
    "print(len(synopses))\n",
    "print(len(fail_ids))\n",
    "print(fail_ids)"
   ]
  },
  {
   "cell_type": "code",
   "execution_count": null,
   "metadata": {},
   "outputs": [],
   "source": [
    "df_synopsis = pd.DataFrame(list(synopses.items()), columns=['anime_id', 'synopsis'])\n",
    "\n",
    "# Convert anime_id to match the data type in df_anime, if necessary\n",
    "df_synopsis['anime_id'] = df_synopsis['anime_id'].astype(int)\n",
    "\n",
    "# Merge the two DataFrames on anime_id\n",
    "df_merged = pd.merge(animes, df_synopsis, on=\"anime_id\", how=\"left\")\n",
    "df_merged.to_csv(\"anime_with_synopsis.csv\")"
   ]
  },
  {
   "cell_type": "markdown",
   "metadata": {},
   "source": [
    "# Generate Embeddings"
   ]
  },
  {
   "cell_type": "code",
   "execution_count": null,
   "metadata": {},
   "outputs": [],
   "source": [
    "from sentence_transformers import SentenceTransformer\n",
    "model = SentenceTransformer('paraphrase-multilingual-mpnet-base-v2')\n",
    "# distiluse-base-multilingual-cased-v1\n",
    "# distiluse-base-multilingual-cased-v2\n",
    "# paraphrase-multilingual-MiniLM-L12-v2\n",
    "# paraphrase-multilingual-mpnet-base-v2\n",
    "\n",
    "# Sentences we want to encode. Example:\n",
    "sentence = ['This framework generates embeddings for each input sentence']\n",
    "\n",
    "# Sentences are encoded by calling model.encode()\n",
    "embedding = model.encode(sentence)"
   ]
  }
 ],
 "metadata": {
  "kernelspec": {
   "display_name": "cmu_10718",
   "language": "python",
   "name": "python3"
  },
  "language_info": {
   "codemirror_mode": {
    "name": "ipython",
    "version": 3
   },
   "file_extension": ".py",
   "mimetype": "text/x-python",
   "name": "python",
   "nbconvert_exporter": "python",
   "pygments_lexer": "ipython3",
   "version": "3.11.0"
  }
 },
 "nbformat": 4,
 "nbformat_minor": 2
}
