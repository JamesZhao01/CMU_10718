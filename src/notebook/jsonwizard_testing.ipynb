{
 "cells": [
  {
   "cell_type": "code",
   "execution_count": 1,
   "metadata": {},
   "outputs": [],
   "source": [
    "from dataclasses import dataclass\n",
    "from dataclass_wizard import JSONWizard"
   ]
  },
  {
   "cell_type": "code",
   "execution_count": 6,
   "metadata": {},
   "outputs": [
    {
     "name": "stdout",
     "output_type": "stream",
     "text": [
      "{\"innerVal\": {\"val\": 3}}\n"
     ]
    },
    {
     "data": {
      "text/plain": [
       "Outer(inner_val=Inner(val=3))"
      ]
     },
     "execution_count": 6,
     "metadata": {},
     "output_type": "execute_result"
    }
   ],
   "source": [
    "@dataclass\n",
    "class Inner(JSONWizard):\n",
    "    val: int\n",
    "\n",
    "    def __post_init__(self):\n",
    "        print(\"iner postinit\")\n",
    "\n",
    "\n",
    "@dataclass\n",
    "class Outer(JSONWizard):\n",
    "    inner_val: Inner\n",
    "\n",
    "\n",
    "json_repr = Outer(Inner(3)).to_json()\n",
    "print(json_repr)\n",
    "Outer.from_json(json_repr)"
   ]
  }
 ],
 "metadata": {
  "kernelspec": {
   "display_name": "cmu_10718",
   "language": "python",
   "name": "python3"
  },
  "language_info": {
   "codemirror_mode": {
    "name": "ipython",
    "version": 3
   },
   "file_extension": ".py",
   "mimetype": "text/x-python",
   "name": "python",
   "nbconvert_exporter": "python",
   "pygments_lexer": "ipython3",
   "version": "3.11.0"
  }
 },
 "nbformat": 4,
 "nbformat_minor": 2
}
