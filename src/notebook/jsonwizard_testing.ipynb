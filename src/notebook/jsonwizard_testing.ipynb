{
 "cells": [
  {
   "cell_type": "code",
   "execution_count": 6,
   "metadata": {},
   "outputs": [
    {
     "name": "stdout",
     "output_type": "stream",
     "text": [
      "iner postinit\n",
      "{<V.B: 2>, 3, <V.A: 1>}\n",
      "{\"innerVal\": {\"val\": 3, \"testSet\": [2, 3, 1]}}\n",
      "iner postinit\n"
     ]
    },
    {
     "data": {
      "text/plain": [
       "Outer(inner_val=Inner(val=3, test_set={1, 2, 3}))"
      ]
     },
     "execution_count": 6,
     "metadata": {},
     "output_type": "execute_result"
    }
   ],
   "source": [
    "from dataclasses import dataclass\n",
    "from dataclass_wizard import JSONWizard\n",
    "from dataclasses import field\n",
    "from enum import Enum\n",
    "\n",
    "\n",
    "class V(Enum):\n",
    "    A = 1\n",
    "    B = 2\n",
    "\n",
    "\n",
    "@dataclass\n",
    "class Inner(JSONWizard):\n",
    "    val: int\n",
    "    test_set: set = field(default_factory=lambda: {V.A, V.B, 3})\n",
    "\n",
    "    def __post_init__(self):\n",
    "        print(\"iner postinit\")\n",
    "\n",
    "\n",
    "@dataclass\n",
    "class Outer(JSONWizard):\n",
    "    inner_val: Inner\n",
    "\n",
    "\n",
    "obj = Outer(Inner(3))\n",
    "print(obj.inner_val.test_set)\n",
    "json_repr = obj.to_json()\n",
    "print(json_repr)\n",
    "Outer.from_json(json_repr)"
   ]
  }
 ],
 "metadata": {
  "kernelspec": {
   "display_name": "cmu_10718",
   "language": "python",
   "name": "python3"
  },
  "language_info": {
   "codemirror_mode": {
    "name": "ipython",
    "version": 3
   },
   "file_extension": ".py",
   "mimetype": "text/x-python",
   "name": "python",
   "nbconvert_exporter": "python",
   "pygments_lexer": "ipython3",
   "version": "3.11.0"
  }
 },
 "nbformat": 4,
 "nbformat_minor": 2
}
