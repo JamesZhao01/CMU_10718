{
 "cells": [
  {
   "cell_type": "code",
   "execution_count": 6,
   "metadata": {},
   "outputs": [],
   "source": [
    "from sklearn.metrics import ndcg_score\n",
    "import numpy as np"
   ]
  },
  {
   "cell_type": "code",
   "execution_count": 9,
   "metadata": {},
   "outputs": [
    {
     "name": "stdout",
     "output_type": "stream",
     "text": [
      "0.7341740173706042\n",
      "0.7341740173706042\n"
     ]
    }
   ],
   "source": [
    "pred = [[0.1, 0.2, 0.3, 0.4, 0.5]]\n",
    "truth = [[2, 1, 5, 4, 3]]\n",
    "print(ndcg_score(truth, pred, k=2))\n",
    "\n",
    "idcg = 5 / np.log(2) + 4 / np.log(3)\n",
    "dcg = 3 / np.log(2) + 4 / np.log(3)\n",
    "print(dcg / idcg)"
   ]
  }
 ],
 "metadata": {
  "kernelspec": {
   "display_name": "cmu_10718",
   "language": "python",
   "name": "python3"
  },
  "language_info": {
   "codemirror_mode": {
    "name": "ipython",
    "version": 3
   },
   "file_extension": ".py",
   "mimetype": "text/x-python",
   "name": "python",
   "nbconvert_exporter": "python",
   "pygments_lexer": "ipython3",
   "version": "3.11.0"
  }
 },
 "nbformat": 4,
 "nbformat_minor": 2
}
