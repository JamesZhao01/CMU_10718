{
 "cells": [
  {
   "cell_type": "markdown",
   "metadata": {},
   "source": [
    "# Most-Popular Recommender\n",
    "\n",
    "We have some criteria to certify \"popularity\"\n",
    "\n",
    "- Most Members\n",
    "- Most Rated\n",
    "\n",
    "We can try to recommend these shows (excluding ones the user has already seen) as the recommendations engine\n"
   ]
  },
  {
   "cell_type": "code",
   "execution_count": 1,
   "metadata": {},
   "outputs": [],
   "source": [
    "%load_ext autoreload\n",
    "%autoreload 2"
   ]
  },
  {
   "cell_type": "code",
   "execution_count": 2,
   "metadata": {},
   "outputs": [],
   "source": [
    "import os\n",
    "from collections import defaultdict\n",
    "\n",
    "import numpy as np\n",
    "import tqdm as tqdm\n",
    "\n",
    "from utils.evaluator import Evaluator"
   ]
  },
  {
   "cell_type": "code",
   "execution_count": 3,
   "metadata": {},
   "outputs": [
    {
     "name": "stdout",
     "output_type": "stream",
     "text": [
      "normalize_unrated=False\n"
     ]
    },
    {
     "name": "stderr",
     "output_type": "stream",
     "text": [
      "parsing animes...: 100%|██████████| 12294/12294 [00:00<00:00, 13510.09it/s]\n",
      "parsing users...: 100%|██████████| 73515/73515 [00:19<00:00, 3830.09it/s]"
     ]
    },
    {
     "name": "stdout",
     "output_type": "stream",
     "text": [
      "Total Animes: 12294\n",
      "Total Users: 54077\n"
     ]
    },
    {
     "name": "stderr",
     "output_type": "stream",
     "text": [
      "\n"
     ]
    }
   ],
   "source": [
    "data_path = \"../data/copperunion\"\n",
    "\n",
    "evaluator = Evaluator(data_path, normalize_unrated=False)\n",
    "cai_and_rating = [\n",
    "    (canonical_anime_id, anime.rating)\n",
    "    for canonical_anime_id, anime in evaluator.canonical_anime_mapping.items()\n",
    "]\n",
    "cai_and_membership = [\n",
    "    (canonical_anime_id, anime.membership_count)\n",
    "    for canonical_anime_id, anime in evaluator.canonical_anime_mapping.items()\n",
    "]"
   ]
  },
  {
   "cell_type": "code",
   "execution_count": 6,
   "metadata": {},
   "outputs": [],
   "source": [
    "cai_and_rating.sort(key=lambda x: -x[1])\n",
    "cai_and_membership.sort(key=lambda x: -x[1])\n",
    "rating_order = np.array([cai for cai, _ in cai_and_rating])\n",
    "membership_order = np.array([cai for cai, _ in cai_and_membership])"
   ]
  },
  {
   "cell_type": "code",
   "execution_count": 12,
   "metadata": {},
   "outputs": [
    {
     "name": "stdout",
     "output_type": "stream",
     "text": [
      "Rating Order\n"
     ]
    },
    {
     "name": "stderr",
     "output_type": "stream",
     "text": [
      "100%|██████████| 5409/5409 [00:00<00:00, 13706.95it/s]\n"
     ]
    },
    {
     "name": "stdout",
     "output_type": "stream",
     "text": [
      "This model took 0.3972 seconds.\n",
      "Out of an optimal score of 1.0, you scored 0.0085.\n",
      "Membership Order\n"
     ]
    },
    {
     "name": "stderr",
     "output_type": "stream",
     "text": [
      "100%|██████████| 5409/5409 [00:00<00:00, 13693.66it/s]\n"
     ]
    },
    {
     "name": "stdout",
     "output_type": "stream",
     "text": [
      "This model took 0.3980 seconds.\n",
      "Out of an optimal score of 1.0, you scored 0.0622.\n"
     ]
    }
   ],
   "source": [
    "def recommend(evaluator: Evaluator, ranked_items, items, k):\n",
    "    n_anime = evaluator.max_anime_count\n",
    "    mask = np.zeros(n_anime, dtype=bool)\n",
    "    mask[items] = True\n",
    "    chooseable_items = ranked_items[~mask]\n",
    "    return chooseable_items[:k]\n",
    "\n",
    "\n",
    "print(\"Rating Order\")\n",
    "user_history, k = evaluator.start_eval_test_set()\n",
    "k_recommended_shows = np.zeros((len(user_history), k), dtype=np.int32)\n",
    "for i, masked_history in tqdm.tqdm(enumerate(user_history), total=len(user_history)):\n",
    "    items = masked_history.nonzero()[0]\n",
    "    recommended = recommend(evaluator, rating_order, items, k)\n",
    "    k_recommended_shows[i] = recommended\n",
    "evaluator.end_eval_test_set(k_recommended_shows)\n",
    "\n",
    "print(\"Membership Order\")\n",
    "user_history, k = evaluator.start_eval_test_set()\n",
    "k_recommended_shows = np.zeros((len(user_history), k), dtype=np.int32)\n",
    "for i, masked_history in tqdm.tqdm(enumerate(user_history), total=len(user_history)):\n",
    "    items = masked_history.nonzero()[0]\n",
    "    recommended = recommend(evaluator, membership_order, items, k)\n",
    "    k_recommended_shows[i] = recommended\n",
    "evaluator.end_eval_test_set(k_recommended_shows)"
   ]
  }
 ],
 "metadata": {
  "kernelspec": {
   "display_name": "cmu_10718",
   "language": "python",
   "name": "python3"
  },
  "language_info": {
   "codemirror_mode": {
    "name": "ipython",
    "version": 3
   },
   "file_extension": ".py",
   "mimetype": "text/x-python",
   "name": "python",
   "nbconvert_exporter": "python",
   "pygments_lexer": "ipython3",
   "version": "3.11.0"
  }
 },
 "nbformat": 4,
 "nbformat_minor": 2
}
