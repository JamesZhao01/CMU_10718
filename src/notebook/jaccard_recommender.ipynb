{
 "cells": [
  {
   "cell_type": "markdown",
   "metadata": {},
   "source": [
    "# Jaccard-Similarity Based Recommender\n",
    "\n",
    "For this recommender, we assume we have user-lists for items $U_i$ and item-lists for users $I_u$\n",
    "\n",
    "Similarity between two items is defined as $\\textrm{sim}(i, j) \\doteq \\textrm{Jaccard}(U_i, U_j)$\n",
    "\n",
    "Similarity between two users is defined as $\\textrm{sim}(u, v) \\doteq \\textrm{Jaccard}(I_u, I_v)$\n",
    "\n",
    "Rating prediction for an item q is $\\hat{r}(u,q) = \\sum_{i \\in I_u} r(u,i) * \\frac{\\textrm{sim}(q, i)}{\\sum_{j \\in I_u} \\textrm{sim}(q,j)}$\n"
   ]
  },
  {
   "cell_type": "code",
   "execution_count": null,
   "metadata": {},
   "outputs": [],
   "source": [
    "%load_ext autoreload\n",
    "%autoreload 2"
   ]
  },
  {
   "cell_type": "code",
   "execution_count": 1,
   "metadata": {},
   "outputs": [],
   "source": [
    "import os\n",
    "from collections import defaultdict\n",
    "\n",
    "import numpy as np\n",
    "import tqdm as tqdm\n",
    "from scipy.sparse import csr_matrix, lil_matrix\n",
    "\n",
    "from utils.evaluator import Evaluator"
   ]
  },
  {
   "cell_type": "code",
   "execution_count": 2,
   "metadata": {},
   "outputs": [],
   "source": [
    "def build_matrix(evaluator: Evaluator) -> np.ndarray[float]:\n",
    "    n_anime = len(evaluator.anime_mapping)\n",
    "    n_users = len(evaluator.user_mapping)\n",
    "    user_id_to_canonical_id = {\n",
    "        k: i for i, (k, _) in enumerate(evaluator.user_mapping.items())\n",
    "    }\n",
    "    sim_matrix = np.zeros((n_anime, n_anime), dtype=np.float32)\n",
    "    # Sparse matrix, anime x user\n",
    "    # Intersection: anime @ anime.T\n",
    "    interaction_matrix = lil_matrix((n_anime, n_users), dtype=np.float32)\n",
    "    for user_id in tqdm.tqdm(evaluator.train_indices):\n",
    "        user = evaluator.user_mapping[user_id]\n",
    "        canonical_user_id = user_id_to_canonical_id[user_id]\n",
    "        interaction_matrix[user.preserved_canonical_ids, canonical_user_id] = 1\n",
    "    interaction_matrix = interaction_matrix.tocsr()\n",
    "    intersection = (interaction_matrix @ interaction_matrix.T).toarray()\n",
    "    sum_counts = np.array(interaction_matrix.sum(axis=1))\n",
    "    union = (sum_counts.reshape(-1, 1) + sum_counts.reshape(1, -1)) - intersection\n",
    "    sim_matrix = intersection / np.where(union == 0, 1, union)\n",
    "    return sim_matrix"
   ]
  },
  {
   "cell_type": "code",
   "execution_count": 3,
   "metadata": {},
   "outputs": [],
   "source": [
    "def recommend(\n",
    "    evaluator: Evaluator,\n",
    "    sim_matrix: np.ndarray,\n",
    "    items: list[int],\n",
    "    ratings: list[float],\n",
    "    k: int,\n",
    "    true_weighted_average=False,\n",
    "):\n",
    "    n_items = len(evaluator.anime_mapping)\n",
    "    ratings_vector = np.zeros((n_items, 1))\n",
    "    ratings_vector[items, 0] = ratings\n",
    "    if true_weighted_average:\n",
    "        sim_matrix = sim_matrix[:, items]\n",
    "        sim_matrx /= np.sum(sim_matrix, axis=1, keepdims=True)\n",
    "    scores = (sim_matrix @ ratings_vector).flatten()\n",
    "    scores[items] = -1\n",
    "    order = np.argsort(-scores).flatten()\n",
    "    return order[:k]\n",
    "\n",
    "\n",
    "def inference(\n",
    "    evaluator: Evaluator,\n",
    "    model_path: str,\n",
    "    experiment: str,\n",
    "    load=False,\n",
    "    true_weighted_average=False,\n",
    "):\n",
    "\n",
    "    output_dir = os.path.join(model_path, experiment)\n",
    "    os.makedirs(output_dir, exist_ok=True)\n",
    "    output_matrix_fp = os.path.join(output_dir, \"item_similarity_matrix.npy\")\n",
    "    if not load:\n",
    "        sim_matrix = build_matrix(evaluator)\n",
    "        np.save(output_matrix_fp, sim_matrix)\n",
    "    else:\n",
    "        sim_matrix = np.load(output_matrix_fp)\n",
    "    row_sums = sim_matrix.sum(axis=1)\n",
    "    row_sums = np.where(row_sums == 0, 1, row_sums)\n",
    "    sim_matrix /= row_sums[:, None]\n",
    "\n",
    "    # Perform recommendations\n",
    "    user_history, k = evaluator.start_eval_test_set()\n",
    "    k_recommended_shows = np.zeros((len(user_history), k), dtype=np.int32)\n",
    "    for i, masked_history in tqdm.tqdm(\n",
    "        enumerate(user_history), total=len(user_history)\n",
    "    ):\n",
    "        items = masked_history.nonzero()[0]\n",
    "        ratings = masked_history[items]\n",
    "        recommended = recommend(\n",
    "            evaluator, sim_matrix, items, ratings, k, true_weighted_average\n",
    "        )\n",
    "        k_recommended_shows[i] = recommended\n",
    "    evaluator.end_eval_test_set(k_recommended_shows)"
   ]
  },
  {
   "cell_type": "code",
   "execution_count": 6,
   "metadata": {},
   "outputs": [
    {
     "name": "stdout",
     "output_type": "stream",
     "text": [
      "normalize_unrated=False\n"
     ]
    },
    {
     "name": "stderr",
     "output_type": "stream",
     "text": [
      "parsing animes...: 100%|██████████| 12294/12294 [00:01<00:00, 12055.80it/s]\n",
      "parsing users...: 100%|██████████| 73515/73515 [00:20<00:00, 3544.72it/s]\n"
     ]
    },
    {
     "name": "stdout",
     "output_type": "stream",
     "text": [
      "Total Animes: 12294\n",
      "Total Users: 54077\n",
      "5409\n"
     ]
    }
   ],
   "source": [
    "data_path = \"../data/copperunion\"\n",
    "evaluator = Evaluator(data_path, normalize_unrated=False)\n",
    "print(len(evaluator.test_ids))"
   ]
  },
  {
   "cell_type": "code",
   "execution_count": 5,
   "metadata": {},
   "outputs": [
    {
     "name": "stdout",
     "output_type": "stream",
     "text": [
      "normalize_unrated=False\n"
     ]
    },
    {
     "name": "stderr",
     "output_type": "stream",
     "text": [
      "parsing animes...: 100%|██████████| 12294/12294 [00:00<00:00, 22722.70it/s]\n",
      "parsing users...: 100%|██████████| 73515/73515 [00:12<00:00, 5975.19it/s]\n"
     ]
    },
    {
     "name": "stdout",
     "output_type": "stream",
     "text": [
      "Total Animes: 12294\n",
      "Total Users: 54077\n"
     ]
    },
    {
     "name": "stderr",
     "output_type": "stream",
     "text": [
      "100%|██████████| 43261/43261 [00:04<00:00, 9192.07it/s] \n"
     ]
    },
    {
     "name": "stdout",
     "output_type": "stream",
     "text": [
      "Percentage Zeroes: 0.41\n"
     ]
    },
    {
     "name": "stderr",
     "output_type": "stream",
     "text": [
      "100%|██████████| 5409/5409 [29:32<00:00,  3.05it/s]\n"
     ]
    },
    {
     "name": "stdout",
     "output_type": "stream",
     "text": [
      "This model took 1772.2530 seconds.\n",
      "Out of an optimal score of 1.0, you scored 0.2032.\n"
     ]
    }
   ],
   "source": [
    "data_path = \"../data/copperunion\"\n",
    "model_path = \"../models/jaccard_knn\"\n",
    "experiment = \"no_imputation\"\n",
    "\n",
    "evaluator = Evaluator(data_path, normalize_unrated=False)\n",
    "inference(evaluator, model_path, experiment, load=False)"
   ]
  },
  {
   "cell_type": "code",
   "execution_count": 4,
   "metadata": {},
   "outputs": [
    {
     "name": "stdout",
     "output_type": "stream",
     "text": [
      "normalize_unrated=True\n"
     ]
    },
    {
     "name": "stderr",
     "output_type": "stream",
     "text": [
      "parsing animes...: 100%|██████████| 12294/12294 [00:00<00:00, 20884.42it/s]\n",
      "parsing users...: 100%|██████████| 73515/73515 [00:18<00:00, 3978.47it/s]\n"
     ]
    },
    {
     "name": "stdout",
     "output_type": "stream",
     "text": [
      "Total Animes: 12294\n",
      "Total Users: 54077\n"
     ]
    },
    {
     "name": "stderr",
     "output_type": "stream",
     "text": [
      "100%|██████████| 43261/43261 [00:04<00:00, 10038.65it/s]\n"
     ]
    },
    {
     "name": "stdout",
     "output_type": "stream",
     "text": [
      "Percentage Zeroes: 0.41\n"
     ]
    },
    {
     "name": "stderr",
     "output_type": "stream",
     "text": [
      "100%|██████████| 5409/5409 [28:15<00:00,  3.19it/s]\n"
     ]
    },
    {
     "name": "stdout",
     "output_type": "stream",
     "text": [
      "This model took 1695.9278 seconds.\n",
      "Out of an optimal score of 1.0, you scored 0.2284.\n"
     ]
    }
   ],
   "source": [
    "data_path = \"../data/copperunion\"\n",
    "model_path = \"../models/jaccard_knn\"\n",
    "experiment = \"imputation\"\n",
    "\n",
    "evaluator = Evaluator(data_path, normalize_unrated=True)\n",
    "inference(evaluator, model_path, experiment, load=False)"
   ]
  },
  {
   "cell_type": "code",
   "execution_count": 6,
   "metadata": {},
   "outputs": [
    {
     "name": "stdout",
     "output_type": "stream",
     "text": [
      "normalize_unrated=False\n"
     ]
    },
    {
     "name": "stderr",
     "output_type": "stream",
     "text": [
      "parsing animes...: 100%|██████████| 12294/12294 [00:00<00:00, 19064.81it/s]\n",
      "parsing users...: 100%|██████████| 73515/73515 [00:14<00:00, 5002.43it/s]\n"
     ]
    },
    {
     "name": "stdout",
     "output_type": "stream",
     "text": [
      "Total Animes: 12294\n",
      "Total Users: 61674\n"
     ]
    },
    {
     "name": "stderr",
     "output_type": "stream",
     "text": [
      "100%|██████████| 61674/61674 [00:04<00:00, 14016.84it/s]\n"
     ]
    },
    {
     "name": "stdout",
     "output_type": "stream",
     "text": [
      "Percentage Zeroes: 0.41\n"
     ]
    },
    {
     "name": "stderr",
     "output_type": "stream",
     "text": [
      "100%|██████████| 6168/6168 [15:30<00:00,  6.63it/s]\n"
     ]
    },
    {
     "name": "stdout",
     "output_type": "stream",
     "text": [
      "This model took 930.9927 seconds.\n",
      "Out of an optimal score of 1.0, you scored 0.2052.\n"
     ]
    }
   ],
   "source": [
    "data_path = \"../data/copperunion\"\n",
    "model_path = \"../models/jaccard_knn_10\"\n",
    "experiment = \"no_imputation\"\n",
    "\n",
    "evaluator = Evaluator(data_path, normalize_unrated=False, threshold_watch_history=10)\n",
    "inference(evaluator, model_path, experiment, load=False)"
   ]
  },
  {
   "cell_type": "code",
   "execution_count": 7,
   "metadata": {},
   "outputs": [
    {
     "name": "stdout",
     "output_type": "stream",
     "text": [
      "normalize_unrated=True\n"
     ]
    },
    {
     "name": "stderr",
     "output_type": "stream",
     "text": [
      "parsing animes...: 100%|██████████| 12294/12294 [00:00<00:00, 21727.35it/s]\n",
      "parsing users...: 100%|██████████| 73515/73515 [00:14<00:00, 4947.96it/s]\n"
     ]
    },
    {
     "name": "stdout",
     "output_type": "stream",
     "text": [
      "Total Animes: 12294\n",
      "Total Users: 61674\n"
     ]
    },
    {
     "name": "stderr",
     "output_type": "stream",
     "text": [
      "100%|██████████| 61674/61674 [00:04<00:00, 14446.55it/s]\n"
     ]
    },
    {
     "name": "stdout",
     "output_type": "stream",
     "text": [
      "Percentage Zeroes: 0.41\n"
     ]
    },
    {
     "name": "stderr",
     "output_type": "stream",
     "text": [
      "100%|██████████| 6168/6168 [15:24<00:00,  6.67it/s]\n"
     ]
    },
    {
     "name": "stdout",
     "output_type": "stream",
     "text": [
      "This model took 924.9411 seconds.\n",
      "Out of an optimal score of 1.0, you scored 0.2335.\n"
     ]
    }
   ],
   "source": [
    "data_path = \"../data/copperunion\"\n",
    "model_path = \"../models/jaccard_knn_10\"\n",
    "experiment = \"no_imputation\"\n",
    "\n",
    "evaluator = Evaluator(data_path, normalize_unrated=True, threshold_watch_history=10)\n",
    "inference(evaluator, model_path, experiment, load=False)"
   ]
  },
  {
   "cell_type": "code",
   "execution_count": 5,
   "metadata": {},
   "outputs": [
    {
     "name": "stdout",
     "output_type": "stream",
     "text": [
      "normalize_unrated=True\n"
     ]
    },
    {
     "name": "stderr",
     "output_type": "stream",
     "text": [
      "parsing animes...: 100%|██████████| 12294/12294 [00:00<00:00, 13801.28it/s]\n",
      "parsing users...: 100%|██████████| 73515/73515 [00:23<00:00, 3088.39it/s]\n"
     ]
    },
    {
     "name": "stdout",
     "output_type": "stream",
     "text": [
      "Total Animes: 12294\n",
      "Total Users: 24697\n"
     ]
    },
    {
     "name": "stderr",
     "output_type": "stream",
     "text": [
      "100%|██████████| 24697/24697 [00:05<00:00, 4870.91it/s]\n"
     ]
    },
    {
     "name": "stdout",
     "output_type": "stream",
     "text": [
      "Percentage Zeroes: 0.41\n"
     ]
    },
    {
     "name": "stderr",
     "output_type": "stream",
     "text": [
      "100%|██████████| 2471/2471 [20:11<00:00,  2.04it/s]\n"
     ]
    },
    {
     "name": "stdout",
     "output_type": "stream",
     "text": [
      "This model took 1211.6159 seconds.\n",
      "Out of an optimal score of 1.0, you scored 0.1859.\n"
     ]
    }
   ],
   "source": [
    "data_path = \"../data/copperunion\"\n",
    "model_path = \"../models/jaccard_knn_100\"\n",
    "experiment = \"imputation\"\n",
    "\n",
    "evaluator = Evaluator(data_path, normalize_unrated=True, threshold_watch_history=100)\n",
    "inference(evaluator, model_path, experiment, load=False)"
   ]
  },
  {
   "cell_type": "code",
   "execution_count": 6,
   "metadata": {},
   "outputs": [
    {
     "name": "stdout",
     "output_type": "stream",
     "text": [
      "normalize_unrated=False\n"
     ]
    },
    {
     "name": "stderr",
     "output_type": "stream",
     "text": [
      "parsing animes...: 100%|██████████| 12294/12294 [00:00<00:00, 12858.93it/s]\n",
      "parsing users...: 100%|██████████| 73515/73515 [00:23<00:00, 3189.46it/s]\n"
     ]
    },
    {
     "name": "stdout",
     "output_type": "stream",
     "text": [
      "Total Animes: 12294\n",
      "Total Users: 24697\n"
     ]
    },
    {
     "name": "stderr",
     "output_type": "stream",
     "text": [
      "100%|██████████| 24697/24697 [00:04<00:00, 5698.77it/s]\n"
     ]
    },
    {
     "name": "stdout",
     "output_type": "stream",
     "text": [
      "Percentage Zeroes: 0.41\n"
     ]
    },
    {
     "name": "stderr",
     "output_type": "stream",
     "text": [
      "100%|██████████| 2471/2471 [20:05<00:00,  2.05it/s]\n"
     ]
    },
    {
     "name": "stdout",
     "output_type": "stream",
     "text": [
      "This model took 1205.9595 seconds.\n",
      "Out of an optimal score of 1.0, you scored 0.1625.\n"
     ]
    }
   ],
   "source": [
    "data_path = \"../data/copperunion\"\n",
    "model_path = \"../models/jaccard_knn_100\"\n",
    "experiment = \"no_imputation\"\n",
    "\n",
    "evaluator = Evaluator(data_path, normalize_unrated=False, threshold_watch_history=100)\n",
    "inference(evaluator, model_path, experiment, load=False)"
   ]
  }
 ],
 "metadata": {
  "kernelspec": {
   "display_name": "cmu_10718",
   "language": "python",
   "name": "python3"
  },
  "language_info": {
   "codemirror_mode": {
    "name": "ipython",
    "version": 3
   },
   "file_extension": ".py",
   "mimetype": "text/x-python",
   "name": "python",
   "nbconvert_exporter": "python",
   "pygments_lexer": "ipython3",
   "version": "3.11.0"
  }
 },
 "nbformat": 4,
 "nbformat_minor": 2
}
