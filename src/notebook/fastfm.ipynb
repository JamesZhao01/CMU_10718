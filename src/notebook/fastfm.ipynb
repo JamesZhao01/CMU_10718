{
 "cells": [
  {
   "cell_type": "code",
   "execution_count": 31,
   "metadata": {},
   "outputs": [],
   "source": [
    "from utils.evaluator import Evaluator\n",
    "from fastFM import als\n",
    "import numpy as np\n",
    "import tqdm\n",
    "\n",
    "from scipy.sparse import csr_matrix"
   ]
  },
  {
   "cell_type": "code",
   "execution_count": 34,
   "metadata": {},
   "outputs": [
    {
     "name": "stdout",
     "output_type": "stream",
     "text": [
      "normalize_unrated=True\n"
     ]
    },
    {
     "name": "stderr",
     "output_type": "stream",
     "text": [
      "parsing animes...: 100%|██████████| 12294/12294 [00:00<00:00, 20229.96it/s]\n",
      "parsing users...: 100%|██████████| 73515/73515 [00:17<00:00, 4217.25it/s]\n"
     ]
    },
    {
     "name": "stdout",
     "output_type": "stream",
     "text": [
      "Total Animes: 12294\n",
      "Total Users: 54077\n"
     ]
    },
    {
     "name": "stderr",
     "output_type": "stream",
     "text": [
      "100%|██████████| 54077/54077 [00:00<00:00, 99640.60it/s] \n"
     ]
    }
   ],
   "source": [
    "def build_interaction_matrix(evaluator: Evaluator) -> np.ndarray[float]:\n",
    "    ratings = []\n",
    "    users = []\n",
    "    items = []\n",
    "    n_users, n_items = len(evaluator.user_mapping), len(evaluator.anime_mapping)\n",
    "    \n",
    "    user_id_to_canonical_id = {k: i for i, (k, _) in enumerate(evaluator.user_mapping.items())}\n",
    "    # Sparse matrix, anime x user\n",
    "    # Intersection: anime @ anime.T\n",
    "    for user_id in tqdm.tqdm(evaluator.train_indices):\n",
    "        user = evaluator.user_mapping[user_id]\n",
    "        canonical_user_id: int = user_id_to_canonical_id[user_id]\n",
    "        interacted_ids: np.ndarray = user.masked_watch_history\n",
    "        interacted_ratings: np.ndarray = user.masked_rating_history\n",
    "        \n",
    "        ratings.extend(interacted_ratings.tolist())\n",
    "        users.extend([canonical_user_id] * len(interacted_ratings))\n",
    "        items.extend(interacted_ids.tolist())\n",
    "        \n",
    "    interaction_matrix = csr_matrix((ratings, (users, items)), shape = (n_users, n_items))\n",
    "    return interaction_matrix, np.array(ratings)\n",
    "data_path = \"../data/copperunion\"\n",
    "evaluator = Evaluator(data_path, normalize_unrated = True)\n",
    "interaction_matrix, data = build_interaction_matrix(evaluator)"
   ]
  },
  {
   "cell_type": "code",
   "execution_count": 43,
   "metadata": {},
   "outputs": [
    {
     "name": "stdout",
     "output_type": "stream",
     "text": [
      "Shape of interaction_matrix: (54077, 12294)\n",
      "Shape of y_train: (7012923,)\n",
      "interaction_matrix.nnz=7012923\n",
      "Type of interaction_matrix: <class 'scipy.sparse._csr.csr_matrix'>\n",
      "Type of y_train: <class 'numpy.ndarray'>\n",
      "Any NaN values in y_train: False\n"
     ]
    }
   ],
   "source": [
    "from fastFM import als\n",
    "\n",
    "# Create the FastFM model\n",
    "non_zero_indices = interaction_matrix.nonzero()\n",
    "y_train = data[non_zero_indices[0]]\n",
    "\n",
    "print(\"Shape of interaction_matrix:\", interaction_matrix.shape)\n",
    "print(\"Shape of y_train:\", y_train.shape)\n",
    "print(f\"{interaction_matrix.nnz=}\")\n",
    "print(\"Type of interaction_matrix:\", type(interaction_matrix))\n",
    "print(\"Type of y_train:\", type(y_train))\n",
    "print(\"Any NaN values in y_train:\", np.any(np.isnan(y_train)))"
   ]
  },
  {
   "cell_type": "code",
   "execution_count": 46,
   "metadata": {},
   "outputs": [
    {
     "name": "stdout",
     "output_type": "stream",
     "text": [
      "Shape of interaction_matrix: (54077, 12294)\n",
      "Shape of y_train: (7012923,)\n",
      "interaction_matrix.nnz=7012923\n",
      "Type of interaction_matrix: <class 'scipy.sparse._csr.csr_matrix'>\n",
      "Type of y_train: <class 'numpy.ndarray'>\n",
      "Any NaN values in y_train: False\n",
      "Number of unique (user, item) pairs: 7012923\n",
      "Number of duplicate entries in interaction_matrix: 0\n"
     ]
    }
   ],
   "source": [
    "from fastFM import als\n",
    "\n",
    "# Create the FastFM model\n",
    "non_zero_indices = interaction_matrix.nonzero()\n",
    "y_train = data[non_zero_indices[0]]\n",
    "\n",
    "print(\"Shape of interaction_matrix:\", interaction_matrix.shape)\n",
    "print(\"Shape of y_train:\", y_train.shape)\n",
    "print(f\"{interaction_matrix.nnz=}\")\n",
    "print(\"Type of interaction_matrix:\", type(interaction_matrix))\n",
    "print(\"Type of y_train:\", type(y_train))\n",
    "print(\"Any NaN values in y_train:\", np.any(np.isnan(y_train)))\n",
    "unique_indices = set(zip(non_zero_indices[0], non_zero_indices[1]))\n",
    "print(\"Number of unique (user, item) pairs:\", len(unique_indices))\n",
    "print(\"Number of duplicate entries in interaction_matrix:\", interaction_matrix.nnz - len(unique_indices))\n"
   ]
  },
  {
   "cell_type": "code",
   "execution_count": 49,
   "metadata": {},
   "outputs": [
    {
     "ename": "TypeError",
     "evalue": "FMRegression.__init__() got an unexpected keyword argument 'verbose'",
     "output_type": "error",
     "traceback": [
      "\u001b[0;31m---------------------------------------------------------------------------\u001b[0m",
      "\u001b[0;31mTypeError\u001b[0m                                 Traceback (most recent call last)",
      "Cell \u001b[0;32mIn[49], line 1\u001b[0m\n\u001b[0;32m----> 1\u001b[0m fm \u001b[38;5;241m=\u001b[39m \u001b[43mals\u001b[49m\u001b[38;5;241;43m.\u001b[39;49m\u001b[43mFMRegression\u001b[49m\u001b[43m(\u001b[49m\u001b[43mn_iter\u001b[49m\u001b[38;5;241;43m=\u001b[39;49m\u001b[38;5;241;43m10000\u001b[39;49m\u001b[43m,\u001b[49m\u001b[43m \u001b[49m\u001b[43mrank\u001b[49m\u001b[38;5;241;43m=\u001b[39;49m\u001b[38;5;241;43m24\u001b[39;49m\u001b[43m,\u001b[49m\u001b[43m \u001b[49m\u001b[43ml2_reg\u001b[49m\u001b[38;5;241;43m=\u001b[39;49m\u001b[38;5;241;43m0.1\u001b[39;49m\u001b[43m,\u001b[49m\u001b[43m \u001b[49m\u001b[43mverbose\u001b[49m\u001b[38;5;241;43m=\u001b[39;49m\u001b[38;5;28;43;01mTrue\u001b[39;49;00m\u001b[43m)\u001b[49m\n\u001b[1;32m      2\u001b[0m fm\u001b[38;5;241m.\u001b[39mfit(interaction_matrix, y_train)\n",
      "\u001b[0;31mTypeError\u001b[0m: FMRegression.__init__() got an unexpected keyword argument 'verbose'"
     ]
    }
   ],
   "source": [
    "fm = als.FMRegression(n_iter=10000, rank=24, l2_reg=0.1, verbose=True)\n",
    "fm.fit(interaction_matrix, y_train)"
   ]
  }
 ],
 "metadata": {
  "kernelspec": {
   "display_name": "cmu_10718",
   "language": "python",
   "name": "python3"
  },
  "language_info": {
   "codemirror_mode": {
    "name": "ipython",
    "version": 3
   },
   "file_extension": ".py",
   "mimetype": "text/x-python",
   "name": "python",
   "nbconvert_exporter": "python",
   "pygments_lexer": "ipython3",
   "version": "3.11.0"
  }
 },
 "nbformat": 4,
 "nbformat_minor": 2
}
