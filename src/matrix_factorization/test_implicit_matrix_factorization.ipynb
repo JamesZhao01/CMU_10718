{
 "cells": [
  {
   "cell_type": "code",
   "execution_count": 2,
   "metadata": {},
   "outputs": [
    {
     "name": "stderr",
     "output_type": "stream",
     "text": [
      "c:\\Users\\James\\miniconda3\\envs\\cmu_10718\\Lib\\site-packages\\tqdm\\auto.py:21: TqdmWarning: IProgress not found. Please update jupyter and ipywidgets. See https://ipywidgets.readthedocs.io/en/stable/user_install.html\n",
      "  from .autonotebook import tqdm as notebook_tqdm\n"
     ]
    }
   ],
   "source": [
    "import implicit\n",
    "import numpy as np\n",
    "from scipy.sparse import csr_matrix"
   ]
  },
  {
   "cell_type": "code",
   "execution_count": 8,
   "metadata": {},
   "outputs": [
    {
     "name": "stderr",
     "output_type": "stream",
     "text": [
      "100%|██████████| 20/20 [00:00<00:00, 2294.98it/s]"
     ]
    },
    {
     "name": "stdout",
     "output_type": "stream",
     "text": [
      "(3, 20) (3, 20)\n"
     ]
    },
    {
     "name": "stderr",
     "output_type": "stream",
     "text": [
      "\n"
     ]
    },
    {
     "data": {
      "text/plain": [
       "array([[9.9007642e-01, 4.3813594e-05, 9.7189111e-01],\n",
       "       [6.7100380e-05, 9.4881463e-01, 4.4013868e-05],\n",
       "       [9.1090393e-01, 2.5472951e-05, 4.4911139e-02]], dtype=float32)"
      ]
     },
     "execution_count": 8,
     "metadata": {},
     "output_type": "execute_result"
    }
   ],
   "source": [
    "user_item_data = np.array(\n",
    "    [\n",
    "        [4, 0, 3],  # User 0's interactions\n",
    "        [0, 2, 0],  # User 1's interactions\n",
    "        [1, 0, 0],  # User 2's interactions\n",
    "    ]\n",
    ")\n",
    "user_item_matrix = csr_matrix(user_item_data)\n",
    "model = implicit.als.AlternatingLeastSquares(\n",
    "    factors=20, regularization=0.1, iterations=20, random_state=42\n",
    ")\n",
    "model.fit(user_item_matrix)\n",
    "print(model.user_factors.shape, model.item_factors.shape)\n",
    "model.user_factors @ model.item_factors.T"
   ]
  },
  {
   "cell_type": "code",
   "execution_count": 12,
   "metadata": {},
   "outputs": [
    {
     "name": "stdout",
     "output_type": "stream",
     "text": [
      "[[0. 0. 0. 0. 0. 0. 0. 0. 0. 0. 0. 0. 0. 0. 0. 0. 0. 0. 0. 0.]\n",
      " [0. 0. 0. 0. 0. 0. 0. 0. 0. 0. 0. 0. 0. 0. 0. 0. 0. 0. 0. 0.]\n",
      " [0. 0. 0. 0. 0. 0. 0. 0. 0. 0. 0. 0. 0. 0. 0. 0. 0. 0. 0. 0.]]\n"
     ]
    }
   ],
   "source": [
    "frozen_item_factors = model.item_factors.copy()\n",
    "\n",
    "new_user_item_data = np.array([[5, 5, 5]])\n",
    "new_user_item_matrix = csr_matrix(new_user_item_data)\n",
    "model.partial_fit_users(userids=[3], user_items=new_user_item_matrix)\n",
    "model.user_factors @ model.item_factors.T"
   ]
  }
 ],
 "metadata": {
  "kernelspec": {
   "display_name": "cmu_10718",
   "language": "python",
   "name": "python3"
  },
  "language_info": {
   "codemirror_mode": {
    "name": "ipython",
    "version": 3
   },
   "file_extension": ".py",
   "mimetype": "text/x-python",
   "name": "python",
   "nbconvert_exporter": "python",
   "pygments_lexer": "ipython3",
   "version": "3.11.0"
  }
 },
 "nbformat": 4,
 "nbformat_minor": 2
}
