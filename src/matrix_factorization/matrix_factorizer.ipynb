{
 "cells": [
  {
   "cell_type": "markdown",
   "metadata": {},
   "source": [
    "# Matrix Factorization Model\n",
    "\n",
    "Given some training users, perform matrix factorization to yield user and item embeddings.\n",
    "\n",
    "**With user-holdout**\n",
    "\n",
    "- After fitting the model, fit new user embeddings while **freezing** the item embeddings\n",
    "\n",
    "**With item-holdout**\n",
    "\n",
    "- After fitting the model, find the rank of the held-out items\n"
   ]
  }
 ],
 "metadata": {
  "language_info": {
   "name": "python"
  }
 },
 "nbformat": 4,
 "nbformat_minor": 2
}
