{
 "cells": [
  {
   "cell_type": "code",
   "execution_count": 15,
   "metadata": {},
   "outputs": [
    {
     "name": "stdout",
     "output_type": "stream",
     "text": [
      "The autoreload extension is already loaded. To reload it, use:\n",
      "  %reload_ext autoreload\n"
     ]
    }
   ],
   "source": [
    "%load_ext autoreload\n",
    "%autoreload 2"
   ]
  },
  {
   "cell_type": "code",
   "execution_count": 16,
   "metadata": {},
   "outputs": [],
   "source": [
    "import os\n",
    "import json\n",
    "import glob\n",
    "import itertools\n",
    "import operator\n",
    "\n",
    "if not os.getcwd().endswith(\"src\"):\n",
    "    os.chdir(\"src\")\n",
    "\n",
    "from log_processing.process_logs import rank_results_by_predicate\n",
    "\n",
    "if os.getcwd().endswith(\"src\"):\n",
    "    os.chdir(\"..\")"
   ]
  },
  {
   "cell_type": "code",
   "execution_count": null,
   "metadata": {},
   "outputs": [],
   "source": [
    "paths = [\n",
    "    \"models/sweep/a4_focal/base_512_focal\",\n",
    "    \"models/sweep/a4_temperature/base_512_temperature\",\n",
    "    \"models/sweep/a4_base/base_256\",\n",
    "    \"models/sweep/a4_base/base_512\",\n",
    "    \"models/sweep/a4_base/base_512_200\",\n",
    "    \"models/sweep/a4_brier/base_512_brier\",\n",
    "]\n",
    "sweep_configs = [\n",
    "    \"configs/sweep_configs/a4_focal/base_512_focal_sweep.json\",\n",
    "    \"configs/sweep_configs/a4_temperature/base_512_temperature_sweep.json\",\n",
    "    \"configs/sweep_configs/a4_base/base_256_sweep.json\",\n",
    "    \"configs/sweep_configs/a4_base/base_512_sweep.json\",\n",
    "    \"configs/sweep_configs/a4_base/base_512_200_sweep.json\",\n",
    "    \"configs/sweep_configs/a4_brier/base_512_brier_sweep.json\",\n",
    "]\n",
    "iterables = []\n",
    "for sweep_config in sweep_configs:\n",
    "    with open(sweep_config, \"r\") as f:\n",
    "        sweep_config = json.load(f)\n",
    "    keys = list(sweep_config.keys())\n",
    "    values = list(sweep_config.values())\n",
    "    iteration = list(itertools.product(*values))\n",
    "    iterables.append(iteration)"
   ]
  },
  {
   "cell_type": "code",
   "execution_count": 27,
   "metadata": {},
   "outputs": [
    {
     "name": "stdout",
     "output_type": "stream",
     "text": [
      "a4_base/base_512 idx=0 criterion_value=0.3482 line['positive_scores']['ece']=0.5100\n",
      "a4_base/base_512_200 idx=0 criterion_value=0.3467 line['positive_scores']['ece']=0.5090\n",
      "a4_temperature/base_512_temperature idx=0 criterion_value=0.3459 line['positive_scores']['ece']=0.4842\n",
      "a4_temperature/base_512_temperature idx=1 criterion_value=0.3405 line['positive_scores']['ece']=0.4582\n",
      "a4_focal/base_512_focal idx=3 criterion_value=0.3246 line['positive_scores']['ece']=0.5758\n",
      "a4_temperature/base_512_temperature idx=2 criterion_value=0.3216 line['positive_scores']['ece']=0.4309\n",
      "a4_focal/base_512_focal idx=1 criterion_value=0.3131 line['positive_scores']['ece']=0.7340\n",
      "a4_focal/base_512_focal idx=2 criterion_value=0.3127 line['positive_scores']['ece']=0.5936\n",
      "a4_focal/base_512_focal idx=0 criterion_value=0.3020 line['positive_scores']['ece']=0.7368\n",
      "a4_focal/base_512_focal idx=7 criterion_value=0.2874 line['positive_scores']['ece']=0.5274\n",
      "a4_focal/base_512_focal idx=5 criterion_value=0.2778 line['positive_scores']['ece']=0.7059\n",
      "a4_focal/base_512_focal idx=6 criterion_value=0.2742 line['positive_scores']['ece']=0.5433\n",
      "a4_focal/base_512_focal idx=4 criterion_value=0.2676 line['positive_scores']['ece']=0.7116\n",
      "a4_temperature/base_512_temperature idx=3 criterion_value=0.2642 line['positive_scores']['ece']=0.4218\n",
      "a4_base/base_256 idx=0 criterion_value=0.2310 line['positive_scores']['ece']=0.0858\n"
     ]
    }
   ],
   "source": [
    "criterion = operator.itemgetter(\"ndcg\")\n",
    "results = rank_results_by_predicate(\n",
    "    paths=paths, j=-1, criterion=criterion, asc=False, read_metric_file_instead=True\n",
    ")\n",
    "\n",
    "for path, idx, hyperparameters, lines, line, criterion_value in results:\n",
    "    idx = int(idx)\n",
    "    config_idx = paths.index(path)\n",
    "    sweep_iterable = iterables[config_idx]\n",
    "    sweep_set = sweep_iterable[int(idx)]\n",
    "\n",
    "    print_path = \"/\".join(path.split(\"/\")[-2:])\n",
    "    print(\n",
    "        f\"{print_path} {idx=} {criterion_value=:0.4f} {line['positive_scores']['ece']=:0.4f}\"\n",
    "    )"
   ]
  },
  {
   "cell_type": "code",
   "execution_count": 36,
   "metadata": {},
   "outputs": [
    {
     "name": "stdout",
     "output_type": "stream",
     "text": [
      "a4_base/base_256 idx=0 ndcg= 0.23100667873712608 ece=0.0276 pos_ece=0.0858\n",
      "\t[0.0,0.1] ece=0.0003 [0.1,0.5] ece=0.2630 [0.5,0.9] ece=0.7277 [0.9,1.0] ece=0.9862 \n",
      "a4_temperature/base_512_temperature idx=3 ndcg= 0.2641719234173251 ece=0.0019 pos_ece=0.4218\n",
      "\t[0.0,0.1] ece=0.0003 [0.1,0.5] ece=0.2399 [0.5,0.9] ece=0.7051 [0.9,1.0] ece=0.9615 \n",
      "a4_temperature/base_512_temperature idx=2 ndcg= 0.321592061532106 ece=0.0023 pos_ece=0.4309\n",
      "\t[0.0,0.1] ece=0.0003 [0.1,0.5] ece=0.2310 [0.5,0.9] ece=0.6941 [0.9,1.0] ece=0.9442 \n",
      "a4_temperature/base_512_temperature idx=1 ndcg= 0.3404928479736013 ece=0.0024 pos_ece=0.4582\n",
      "\t[0.0,0.1] ece=0.0003 [0.1,0.5] ece=0.2279 [0.5,0.9] ece=0.6898 [0.9,1.0] ece=0.9327 \n",
      "a4_temperature/base_512_temperature idx=0 ndcg= 0.34588396911773767 ece=0.0024 pos_ece=0.4842\n",
      "\t[0.0,0.1] ece=0.0004 [0.1,0.5] ece=0.2234 [0.5,0.9] ece=0.6822 [0.9,1.0] ece=0.9228 \n",
      "a4_base/base_512_200 idx=0 ndcg= 0.3466766555608838 ece=0.0024 pos_ece=0.5090\n",
      "\t[0.0,0.1] ece=0.0004 [0.1,0.5] ece=0.2219 [0.5,0.9] ece=0.6805 [0.9,1.0] ece=0.9137 \n",
      "a4_base/base_512 idx=0 ndcg= 0.34817558231078266 ece=0.0024 pos_ece=0.5100\n",
      "\t[0.0,0.1] ece=0.0004 [0.1,0.5] ece=0.2225 [0.5,0.9] ece=0.6805 [0.9,1.0] ece=0.9144 \n",
      "a4_focal/base_512_focal idx=7 ndcg= 0.28736475082690655 ece=0.0035 pos_ece=0.5274\n",
      "\t[0.0,0.1] ece=0.0004 [0.1,0.5] ece=0.2238 [0.5,0.9] ece=0.6774 [0.9,1.0] ece=0.8871 \n",
      "a4_focal/base_512_focal idx=6 ndcg= 0.27416650105409285 ece=0.0036 pos_ece=0.5433\n",
      "\t[0.0,0.1] ece=0.0004 [0.1,0.5] ece=0.2246 [0.5,0.9] ece=0.6763 [0.9,1.0] ece=0.8795 \n",
      "a4_focal/base_512_focal idx=3 ndcg= 0.32462230800756825 ece=0.0027 pos_ece=0.5758\n",
      "\t[0.0,0.1] ece=0.0004 [0.1,0.5] ece=0.2161 [0.5,0.9] ece=0.6657 [0.9,1.0] ece=0.8699 \n",
      "a4_focal/base_512_focal idx=2 ndcg= 0.31272470160907695 ece=0.0027 pos_ece=0.5936\n",
      "\t[0.0,0.1] ece=0.0004 [0.1,0.5] ece=0.2148 [0.5,0.9] ece=0.6663 [0.9,1.0] ece=0.8565 \n",
      "a4_focal/base_512_focal idx=5 ndcg= 0.27777983446824106 ece=0.0015 pos_ece=0.7059\n",
      "\t[0.0,0.1] ece=0.0005 [0.1,0.5] ece=0.1764 [0.5,0.9] ece=0.6180 [0.9,1.0] ece=0.7895 \n",
      "a4_focal/base_512_focal idx=4 ndcg= 0.2676430796004531 ece=0.0016 pos_ece=0.7116\n",
      "\t[0.0,0.1] ece=0.0005 [0.1,0.5] ece=0.1835 [0.5,0.9] ece=0.6209 [0.9,1.0] ece=0.7904 \n",
      "a4_focal/base_512_focal idx=1 ndcg= 0.3130893670390136 ece=0.0012 pos_ece=0.7340\n",
      "\t[0.0,0.1] ece=0.0005 [0.1,0.5] ece=0.1628 [0.5,0.9] ece=0.6108 [0.9,1.0] ece=0.7455 \n",
      "a4_focal/base_512_focal idx=0 ndcg= 0.3020002296407738 ece=0.0013 pos_ece=0.7368\n",
      "\t[0.0,0.1] ece=0.0005 [0.1,0.5] ece=0.1718 [0.5,0.9] ece=0.6045 [0.9,1.0] ece=0.7414 \n"
     ]
    }
   ],
   "source": [
    "criterion = lambda x: x[\"positive_scores\"][\"ece\"]\n",
    "results = rank_results_by_predicate(\n",
    "    paths=paths, j=-1, criterion=criterion, asc=True, read_metric_file_instead=True\n",
    ")\n",
    "\n",
    "for path, idx, hyperparameters, lines, line, criterion_value in results:\n",
    "    idx = int(idx)\n",
    "    config_idx = paths.index(path)\n",
    "    sweep_iterable = iterables[config_idx]\n",
    "    sweep_set = sweep_iterable[int(idx)]\n",
    "\n",
    "    print_path = \"/\".join(path.split(\"/\")[-2:])\n",
    "    print(\n",
    "        f\"{print_path} {idx=} \"\n",
    "        + f\"ndcg= {line['ndcg']} \"\n",
    "        + f\"ece={line['calibration_scores']['ece']:0.4f} \"\n",
    "        + f\"pos_ece={line['positive_scores']['ece']:0.4f}\\n\"\n",
    "        + f\"\\t[0.0,0.1] ece={line['piecewise_scores'][0]['ece']:0.4f} \"\n",
    "        + f\"[0.1,0.5] ece={line['piecewise_scores'][1]['ece']:0.4f} \"\n",
    "        + f\"[0.5,0.9] ece={line['piecewise_scores'][2]['ece']:0.4f} \"\n",
    "        + f\"[0.9,1.0] ece={line['piecewise_scores'][3]['ece']:0.4f} \"\n",
    "    )"
   ]
  },
  {
   "cell_type": "code",
   "execution_count": 38,
   "metadata": {},
   "outputs": [
    {
     "name": "stdout",
     "output_type": "stream",
     "text": [
      "a4_focal/base_512_focal idx=0 ndcg= 0.3020002296407738 ece=0.0013 pos_ece=0.7368\n",
      "\t[0.0,0.1] ece=0.0005 [0.1,0.5] ece=0.1718 [0.5,0.9] ece=0.6045 [0.9,1.0] ece=0.7414 \n",
      "a4_focal/base_512_focal idx=1 ndcg= 0.3130893670390136 ece=0.0012 pos_ece=0.7340\n",
      "\t[0.0,0.1] ece=0.0005 [0.1,0.5] ece=0.1628 [0.5,0.9] ece=0.6108 [0.9,1.0] ece=0.7455 \n",
      "a4_focal/base_512_focal idx=5 ndcg= 0.27777983446824106 ece=0.0015 pos_ece=0.7059\n",
      "\t[0.0,0.1] ece=0.0005 [0.1,0.5] ece=0.1764 [0.5,0.9] ece=0.6180 [0.9,1.0] ece=0.7895 \n",
      "a4_focal/base_512_focal idx=4 ndcg= 0.2676430796004531 ece=0.0016 pos_ece=0.7116\n",
      "\t[0.0,0.1] ece=0.0005 [0.1,0.5] ece=0.1835 [0.5,0.9] ece=0.6209 [0.9,1.0] ece=0.7904 \n",
      "a4_focal/base_512_focal idx=2 ndcg= 0.31272470160907695 ece=0.0027 pos_ece=0.5936\n",
      "\t[0.0,0.1] ece=0.0004 [0.1,0.5] ece=0.2148 [0.5,0.9] ece=0.6663 [0.9,1.0] ece=0.8565 \n",
      "a4_focal/base_512_focal idx=3 ndcg= 0.32462230800756825 ece=0.0027 pos_ece=0.5758\n",
      "\t[0.0,0.1] ece=0.0004 [0.1,0.5] ece=0.2161 [0.5,0.9] ece=0.6657 [0.9,1.0] ece=0.8699 \n",
      "a4_focal/base_512_focal idx=6 ndcg= 0.27416650105409285 ece=0.0036 pos_ece=0.5433\n",
      "\t[0.0,0.1] ece=0.0004 [0.1,0.5] ece=0.2246 [0.5,0.9] ece=0.6763 [0.9,1.0] ece=0.8795 \n",
      "a4_focal/base_512_focal idx=7 ndcg= 0.28736475082690655 ece=0.0035 pos_ece=0.5274\n",
      "\t[0.0,0.1] ece=0.0004 [0.1,0.5] ece=0.2238 [0.5,0.9] ece=0.6774 [0.9,1.0] ece=0.8871 \n",
      "a4_base/base_512_200 idx=0 ndcg= 0.3466766555608838 ece=0.0024 pos_ece=0.5090\n",
      "\t[0.0,0.1] ece=0.0004 [0.1,0.5] ece=0.2219 [0.5,0.9] ece=0.6805 [0.9,1.0] ece=0.9137 \n",
      "a4_base/base_512 idx=0 ndcg= 0.34817558231078266 ece=0.0024 pos_ece=0.5100\n",
      "\t[0.0,0.1] ece=0.0004 [0.1,0.5] ece=0.2225 [0.5,0.9] ece=0.6805 [0.9,1.0] ece=0.9144 \n",
      "a4_temperature/base_512_temperature idx=0 ndcg= 0.34588396911773767 ece=0.0024 pos_ece=0.4842\n",
      "\t[0.0,0.1] ece=0.0004 [0.1,0.5] ece=0.2234 [0.5,0.9] ece=0.6822 [0.9,1.0] ece=0.9228 \n",
      "a4_temperature/base_512_temperature idx=1 ndcg= 0.3404928479736013 ece=0.0024 pos_ece=0.4582\n",
      "\t[0.0,0.1] ece=0.0003 [0.1,0.5] ece=0.2279 [0.5,0.9] ece=0.6898 [0.9,1.0] ece=0.9327 \n",
      "a4_temperature/base_512_temperature idx=2 ndcg= 0.321592061532106 ece=0.0023 pos_ece=0.4309\n",
      "\t[0.0,0.1] ece=0.0003 [0.1,0.5] ece=0.2310 [0.5,0.9] ece=0.6941 [0.9,1.0] ece=0.9442 \n",
      "a4_temperature/base_512_temperature idx=3 ndcg= 0.2641719234173251 ece=0.0019 pos_ece=0.4218\n",
      "\t[0.0,0.1] ece=0.0003 [0.1,0.5] ece=0.2399 [0.5,0.9] ece=0.7051 [0.9,1.0] ece=0.9615 \n",
      "a4_base/base_256 idx=0 ndcg= 0.23100667873712608 ece=0.0276 pos_ece=0.0858\n",
      "\t[0.0,0.1] ece=0.0003 [0.1,0.5] ece=0.2630 [0.5,0.9] ece=0.7277 [0.9,1.0] ece=0.9862 \n"
     ]
    }
   ],
   "source": [
    "criterion = lambda x: x[\"piecewise_scores\"][3][\"ece\"]\n",
    "results = rank_results_by_predicate(\n",
    "    paths=paths, j=-1, criterion=criterion, asc=True, read_metric_file_instead=True\n",
    ")\n",
    "\n",
    "for path, idx, hyperparameters, lines, line, criterion_value in results:\n",
    "    idx = int(idx)\n",
    "    config_idx = paths.index(path)\n",
    "    sweep_iterable = iterables[config_idx]\n",
    "    sweep_set = sweep_iterable[int(idx)]\n",
    "\n",
    "    print_path = \"/\".join(path.split(\"/\")[-2:])\n",
    "    print(\n",
    "        f\"{print_path} {idx=} \"\n",
    "        + f\"ndcg= {line['ndcg']} \"\n",
    "        + f\"ece={line['calibration_scores']['ece']:0.4f} \"\n",
    "        + f\"pos_ece={line['positive_scores']['ece']:0.4f}\\n\"\n",
    "        + f\"\\t[0.0,0.1] ece={line['piecewise_scores'][0]['ece']:0.4f} \"\n",
    "        + f\"[0.1,0.5] ece={line['piecewise_scores'][1]['ece']:0.4f} \"\n",
    "        + f\"[0.5,0.9] ece={line['piecewise_scores'][2]['ece']:0.4f} \"\n",
    "        + f\"[0.9,1.0] ece={line['piecewise_scores'][3]['ece']:0.4f} \"\n",
    "    )"
   ]
  }
 ],
 "metadata": {
  "kernelspec": {
   "display_name": "cmu_10718",
   "language": "python",
   "name": "python3"
  },
  "language_info": {
   "codemirror_mode": {
    "name": "ipython",
    "version": 3
   },
   "file_extension": ".py",
   "mimetype": "text/x-python",
   "name": "python",
   "nbconvert_exporter": "python",
   "pygments_lexer": "ipython3",
   "version": "3.11.0"
  }
 },
 "nbformat": 4,
 "nbformat_minor": 2
}
