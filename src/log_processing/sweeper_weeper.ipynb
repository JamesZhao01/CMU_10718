{
 "cells": [
  {
   "cell_type": "code",
   "execution_count": 1,
   "metadata": {},
   "outputs": [
    {
     "name": "stdout",
     "output_type": "stream",
     "text": [
      "36\n"
     ]
    }
   ],
   "source": [
    "import os\n",
    "import json\n",
    "import glob\n",
    "import itertools\n",
    "\n",
    "if os.getcwd().endswith(\"src\"):\n",
    "    os.chdir(\"..\")\n",
    "\n",
    "sweep_config = \"configs/sweep_configs/sweep.json\"\n",
    "path = \"models/sweep\"\n",
    "\n",
    "with open(sweep_config, \"r\") as f:\n",
    "    config = json.load(f)\n",
    "\n",
    "keys, values = config.keys(), config.values()\n",
    "hyperparameter_settings = list(itertools.product(*values))\n",
    "\n",
    "print(f\"{len(hyperparameter_settings)}\")"
   ]
  },
  {
   "cell_type": "code",
   "execution_count": 2,
   "metadata": {},
   "outputs": [
    {
     "name": "stdout",
     "output_type": "stream",
     "text": [
      "Folder folder='2_user_id_anime_id_title' missing starting from index i=14\n",
      "Folder folder='2_custom' missing starting from index i=14\n"
     ]
    }
   ],
   "source": [
    "all_experiments = {}\n",
    "for folder in os.listdir(path):\n",
    "    path_folder = os.path.join(path, folder)\n",
    "    experiments = []\n",
    "    for i in range(len(hyperparameter_settings)):\n",
    "        if not os.path.exists(os.path.join(path_folder, f\"model_{i}.pt.log\")):\n",
    "            print(f\"Folder {folder=} missing starting from index {i=}\")\n",
    "            break\n",
    "        sweep_parameters = hyperparameter_settings[i]\n",
    "        with open(os.path.join(path_folder, f\"model_{i}.pt.log\")) as f:\n",
    "            log_file = f.read().strip()\n",
    "            lines = log_file.split(\"\\n\")\n",
    "            key = \"(hyperparameters)\"\n",
    "            idx_with_hyperparameter = [i for i, n in enumerate(lines) if n.startswith(key)]\n",
    "            last_idx = idx_with_hyperparameter[-1]\n",
    "            line_with_hyperparameters = lines[last_idx]\n",
    "            relevant_hyperparameters = json.loads(line_with_hyperparameters[len(key):])\n",
    "            \n",
    "            cur_line_idx = last_idx + 1\n",
    "            outputs = []\n",
    "            while cur_line_idx < len(lines) and (line := lines[cur_line_idx]).startswith(\">>\"):\n",
    "                contents = line[2:-2]\n",
    "                epoch, loss, metrics = contents.split(\"|\")\n",
    "                epoch, loss, metrics = int(epoch), float(loss), json.loads(metrics)\n",
    "                assert epoch == len(outputs)\n",
    "                outputs.append((epoch, loss, metrics))\n",
    "                cur_line_idx += 1\n",
    "        experiments.append([sweep_parameters, outputs])\n",
    "    all_experiments[folder] = experiments\n",
    "            "
   ]
  },
  {
   "cell_type": "code",
   "execution_count": 7,
   "metadata": {},
   "outputs": [
    {
     "name": "stdout",
     "output_type": "stream",
     "text": [
      "=== 1_user_embedder_base_512 ===\n",
      "best_ndcg=0.09522052000169692 best_i=25 best_sweep_parameters=(200, 0.01, 5)\n",
      "best_ndcg=0.09464787587210495 best_i=13 best_sweep_parameters=(50, 0.01, 5)\n",
      "best_ndcg=0.09323580072974788 best_i=12 best_sweep_parameters=(50, 0.01, 1)\n",
      "best_ndcg=0.09322916654295134 best_i=24 best_sweep_parameters=(200, 0.01, 1)\n",
      "best_ndcg=0.08863356070929279 best_i=30 best_sweep_parameters=(200, 0.005, 1)\n",
      "best_ndcg=0.08568558557035728 best_i=0 best_sweep_parameters=(10, 0.01, 1)\n",
      "best_ndcg=0.08065541335283255 best_i=18 best_sweep_parameters=(50, 0.005, 1)\n",
      "best_ndcg=0.08046870458990199 best_i=14 best_sweep_parameters=(50, 0.01, 10)\n",
      "best_ndcg=0.08007733971972934 best_i=19 best_sweep_parameters=(50, 0.005, 5)\n",
      "best_ndcg=0.0799381711898058 best_i=1 best_sweep_parameters=(10, 0.01, 5)\n",
      "\n",
      "=== 2_user_id_anime_id_title ===\n",
      "best_ndcg=0.06854937176454562 best_i=1 best_sweep_parameters=(10, 0.01, 5)\n",
      "best_ndcg=0.06750946842433218 best_i=12 best_sweep_parameters=(50, 0.01, 1)\n",
      "best_ndcg=0.06714174911715531 best_i=2 best_sweep_parameters=(10, 0.01, 10)\n",
      "best_ndcg=0.06685388167364166 best_i=0 best_sweep_parameters=(10, 0.01, 1)\n",
      "best_ndcg=0.06255838128593902 best_i=8 best_sweep_parameters=(10, 0.005, 10)\n",
      "best_ndcg=0.062151092630917074 best_i=7 best_sweep_parameters=(10, 0.005, 5)\n",
      "best_ndcg=0.054139294803051984 best_i=6 best_sweep_parameters=(10, 0.005, 1)\n",
      "best_ndcg=0.02744873024444452 best_i=13 best_sweep_parameters=(50, 0.01, 5)\n",
      "best_ndcg=0.0012969754043327664 best_i=5 best_sweep_parameters=(10, 0.001, 10)\n",
      "best_ndcg=0.0012356626978441377 best_i=4 best_sweep_parameters=(10, 0.001, 5)\n",
      "\n",
      "=== 1_user_embedder_base_256 ===\n",
      "best_ndcg=0.10266671484537172 best_i=24 best_sweep_parameters=(200, 0.01, 1)\n",
      "best_ndcg=0.09918474483616334 best_i=12 best_sweep_parameters=(50, 0.01, 1)\n",
      "best_ndcg=0.09122563957747365 best_i=30 best_sweep_parameters=(200, 0.005, 1)\n",
      "best_ndcg=0.08904472468442126 best_i=13 best_sweep_parameters=(50, 0.01, 5)\n",
      "best_ndcg=0.08770041771172986 best_i=25 best_sweep_parameters=(200, 0.01, 5)\n",
      "best_ndcg=0.08763901521686943 best_i=0 best_sweep_parameters=(10, 0.01, 1)\n",
      "best_ndcg=0.08376497081389508 best_i=18 best_sweep_parameters=(50, 0.005, 1)\n",
      "best_ndcg=0.07480260778143516 best_i=14 best_sweep_parameters=(50, 0.01, 10)\n",
      "best_ndcg=0.07474823930863418 best_i=19 best_sweep_parameters=(50, 0.005, 5)\n",
      "best_ndcg=0.07276110760202809 best_i=6 best_sweep_parameters=(10, 0.005, 1)\n",
      "\n",
      "=== 2_custom ===\n",
      "best_ndcg=0.06739894894563948 best_i=12 best_sweep_parameters=(50, 0.01, 1)\n",
      "best_ndcg=0.04690899331394307 best_i=0 best_sweep_parameters=(10, 0.01, 1)\n",
      "best_ndcg=0.04314789928431252 best_i=13 best_sweep_parameters=(50, 0.01, 5)\n",
      "best_ndcg=0.04176810489772912 best_i=2 best_sweep_parameters=(10, 0.01, 10)\n",
      "best_ndcg=0.036240878113674005 best_i=1 best_sweep_parameters=(10, 0.01, 5)\n",
      "best_ndcg=0.034574082965401265 best_i=8 best_sweep_parameters=(10, 0.005, 10)\n",
      "best_ndcg=0.03188159748439934 best_i=7 best_sweep_parameters=(10, 0.005, 5)\n",
      "best_ndcg=0.02433441086631316 best_i=4 best_sweep_parameters=(10, 0.001, 5)\n",
      "best_ndcg=0.02397427437917093 best_i=6 best_sweep_parameters=(10, 0.005, 1)\n",
      "best_ndcg=0.020130239541270824 best_i=5 best_sweep_parameters=(10, 0.001, 10)\n",
      "\n"
     ]
    }
   ],
   "source": [
    "from typing import List, Tuple\n",
    "\n",
    "\n",
    "def determine_best_hyperparameter_settings(experiments: List[Tuple[dict, List[Tuple[int, float, dict]]]]):\n",
    "    ranks = []\n",
    "    for i, (sweep_parameters, outputs) in enumerate(experiments):\n",
    "        max_ndcg = max([x[2][\"ndcg\"] for x in outputs])\n",
    "        ranks.append((max_ndcg, i, sweep_parameters))\n",
    "    ranks.sort(reverse=True)\n",
    "    for i in range(10):\n",
    "        best = ranks[i]\n",
    "        best_ndcg, best_i, best_sweep_parameters = best\n",
    "        print(f\"{best_ndcg=} {best_i=} {best_sweep_parameters=}\")\n",
    "for k, v in all_experiments.items():\n",
    "    print(f\"=== {k} ===\")\n",
    "    determine_best_hyperparameter_settings(v)\n",
    "    print()\n",
    "        "
   ]
  }
 ],
 "metadata": {
  "kernelspec": {
   "display_name": "cmu_10718",
   "language": "python",
   "name": "python3"
  },
  "language_info": {
   "codemirror_mode": {
    "name": "ipython",
    "version": 3
   },
   "file_extension": ".py",
   "mimetype": "text/x-python",
   "name": "python",
   "nbconvert_exporter": "python",
   "pygments_lexer": "ipython3",
   "version": "3.11.0"
  }
 },
 "nbformat": 4,
 "nbformat_minor": 2
}
