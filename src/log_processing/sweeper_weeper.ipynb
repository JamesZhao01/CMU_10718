{
 "cells": [
  {
   "cell_type": "code",
   "execution_count": 5,
   "metadata": {},
   "outputs": [
    {
     "name": "stdout",
     "output_type": "stream",
     "text": [
      "36\n"
     ]
    }
   ],
   "source": [
    "import os\n",
    "import json\n",
    "import glob\n",
    "import itertools\n",
    "\n",
    "if os.getcwd().endswith(\"src\"):\n",
    "    os.chdir(\"..\")\n",
    "\n",
    "sweep_config = \"configs/sweep_configs/sweep.json\"\n",
    "path = \"models/sweep\"\n",
    "\n",
    "with open(sweep_config, \"r\") as f:\n",
    "    config = json.load(f)\n",
    "\n",
    "keys, values = config.keys(), config.values()\n",
    "hyperparameter_settings = list(itertools.product(*values))\n",
    "\n",
    "print(f\"{len(hyperparameter_settings)}\")"
   ]
  },
  {
   "cell_type": "code",
   "execution_count": 2,
   "metadata": {},
   "outputs": [
    {
     "data": {
      "text/plain": [
       "'/data/user_data/jjzhao2/cmu/CMU_10718'"
      ]
     },
     "execution_count": 2,
     "metadata": {},
     "output_type": "execute_result"
    }
   ],
   "source": [
    "for folder in os.listdir(path):\n",
    "    path_folder = os.path.join(path, folder)\n",
    "    for i in range(len(hyperparameter_settings)):\n",
    "        with open(os.path.join(path_folder, f\"model_{i}.pt.log\")) as f:\n",
    "            log_file = f.read().strip()\n",
    "            lines = log_file.split(\"\\n\")\n",
    "            key = \"(hyperparameters)\"\n",
    "            idx_with_hyperparameter = [i for i, n in enumerate(lines) if n.startswith(key)]\n",
    "            last_idx = idx_with_hyperparameter[-1]\n",
    "            line_with_hyperparameters = lines[last_idx]\n",
    "            relevant_hyperparameters = json.loads(line_with_hyperparameters[len(key):])\n",
    "            \n",
    "            "
   ]
  }
 ],
 "metadata": {
  "kernelspec": {
   "display_name": "cmu_10718",
   "language": "python",
   "name": "python3"
  },
  "language_info": {
   "codemirror_mode": {
    "name": "ipython",
    "version": 3
   },
   "file_extension": ".py",
   "mimetype": "text/x-python",
   "name": "python",
   "nbconvert_exporter": "python",
   "pygments_lexer": "ipython3",
   "version": "3.11.0"
  }
 },
 "nbformat": 4,
 "nbformat_minor": 2
}
