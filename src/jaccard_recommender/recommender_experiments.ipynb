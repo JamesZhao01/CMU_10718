{
 "cells": [
  {
   "cell_type": "code",
   "execution_count": 4,
   "metadata": {},
   "outputs": [],
   "source": [
    "%load_ext autoreload\n",
    "%autoreload 2"
   ]
  },
  {
   "cell_type": "code",
   "execution_count": 14,
   "metadata": {},
   "outputs": [],
   "source": [
    "from itertools import product\n",
    "\n",
    "import tqdm\n",
    "import pandas as pd\n",
    "\n",
    "from jaccard_recommender.recommender import JaccardRecommender\n",
    "from IPython.display import clear_output"
   ]
  },
  {
   "cell_type": "code",
   "execution_count": 9,
   "metadata": {},
   "outputs": [
    {
     "name": "stderr",
     "output_type": "stream",
     "text": [
      "grid search...:   0%|          | 0/12 [00:00<?, ?it/s]"
     ]
    },
    {
     "name": "stdout",
     "output_type": "stream",
     "text": [
      "normalize_unrated=True thresholded_watch_history=10 true_weighted_average=True\n",
      "normalize_unrated=True\n"
     ]
    },
    {
     "name": "stderr",
     "output_type": "stream",
     "text": [
      "parsing animes...: 100%|██████████| 12294/12294 [00:00<00:00, 20609.21it/s]\n",
      "parsing users...: 100%|██████████| 73515/73515 [00:21<00:00, 3384.32it/s]\n"
     ]
    },
    {
     "name": "stdout",
     "output_type": "stream",
     "text": [
      "Total Animes: 12294\n",
      "Total Users: 61674\n"
     ]
    },
    {
     "name": "stderr",
     "output_type": "stream",
     "text": [
      "building interaction matrix...: 100%|██████████| 49339/49339 [00:06<00:00, 8016.93it/s]\n"
     ]
    },
    {
     "name": "stdout",
     "output_type": "stream",
     "text": [
      "Percentage Zeroes: 0.41\n",
      "(6168, 10)\n"
     ]
    },
    {
     "name": "stderr",
     "output_type": "stream",
     "text": [
      "grid search...:   8%|▊         | 1/12 [01:21<14:51, 81.06s/it]"
     ]
    },
    {
     "name": "stdout",
     "output_type": "stream",
     "text": [
      "This model took 37.2345 seconds.\n",
      "Out of an optimal score of 1.0, you scored 0.0013.\n",
      "normalize_unrated=True thresholded_watch_history=10 true_weighted_average=False\n",
      "normalize_unrated=True\n"
     ]
    },
    {
     "name": "stderr",
     "output_type": "stream",
     "text": [
      "parsing animes...: 100%|██████████| 12294/12294 [00:00<00:00, 16708.57it/s]\n",
      "parsing users...: 100%|██████████| 73515/73515 [00:21<00:00, 3422.46it/s]\n"
     ]
    },
    {
     "name": "stdout",
     "output_type": "stream",
     "text": [
      "Total Animes: 12294\n",
      "Total Users: 61674\n"
     ]
    },
    {
     "name": "stderr",
     "output_type": "stream",
     "text": [
      "building interaction matrix...: 100%|██████████| 49339/49339 [00:05<00:00, 8584.88it/s]\n"
     ]
    },
    {
     "name": "stdout",
     "output_type": "stream",
     "text": [
      "Percentage Zeroes: 0.41\n",
      "(6168, 10)\n"
     ]
    },
    {
     "name": "stderr",
     "output_type": "stream",
     "text": [
      "grid search...:  17%|█▋        | 2/12 [02:31<12:28, 74.88s/it]"
     ]
    },
    {
     "name": "stdout",
     "output_type": "stream",
     "text": [
      "This model took 24.2080 seconds.\n",
      "Out of an optimal score of 1.0, you scored 0.2323.\n",
      "normalize_unrated=True thresholded_watch_history=20 true_weighted_average=True\n",
      "normalize_unrated=True\n"
     ]
    },
    {
     "name": "stderr",
     "output_type": "stream",
     "text": [
      "parsing animes...: 100%|██████████| 12294/12294 [00:00<00:00, 13937.17it/s]\n",
      "parsing users...: 100%|██████████| 73515/73515 [00:18<00:00, 4030.57it/s]\n"
     ]
    },
    {
     "name": "stdout",
     "output_type": "stream",
     "text": [
      "Total Animes: 12294\n",
      "Total Users: 54077\n"
     ]
    },
    {
     "name": "stderr",
     "output_type": "stream",
     "text": [
      "building interaction matrix...: 100%|██████████| 43261/43261 [00:04<00:00, 9450.48it/s]\n"
     ]
    },
    {
     "name": "stdout",
     "output_type": "stream",
     "text": [
      "Percentage Zeroes: 0.41\n",
      "(5409, 10)\n"
     ]
    },
    {
     "name": "stderr",
     "output_type": "stream",
     "text": [
      "grid search...:  25%|██▌       | 3/12 [03:46<11:13, 74.87s/it]"
     ]
    },
    {
     "name": "stdout",
     "output_type": "stream",
     "text": [
      "This model took 34.1781 seconds.\n",
      "Out of an optimal score of 1.0, you scored 0.0016.\n",
      "normalize_unrated=True thresholded_watch_history=20 true_weighted_average=False\n",
      "normalize_unrated=True\n"
     ]
    },
    {
     "name": "stderr",
     "output_type": "stream",
     "text": [
      "parsing animes...: 100%|██████████| 12294/12294 [00:00<00:00, 19523.72it/s]\n",
      "parsing users...: 100%|██████████| 73515/73515 [00:20<00:00, 3650.26it/s]\n"
     ]
    },
    {
     "name": "stdout",
     "output_type": "stream",
     "text": [
      "Total Animes: 12294\n",
      "Total Users: 54077\n"
     ]
    },
    {
     "name": "stderr",
     "output_type": "stream",
     "text": [
      "building interaction matrix...: 100%|██████████| 43261/43261 [00:05<00:00, 8150.12it/s]\n"
     ]
    },
    {
     "name": "stdout",
     "output_type": "stream",
     "text": [
      "Percentage Zeroes: 0.41\n",
      "(5409, 10)\n"
     ]
    },
    {
     "name": "stderr",
     "output_type": "stream",
     "text": [
      "grid search...:  33%|███▎      | 4/12 [04:55<09:39, 72.43s/it]"
     ]
    },
    {
     "name": "stdout",
     "output_type": "stream",
     "text": [
      "This model took 24.8589 seconds.\n",
      "Out of an optimal score of 1.0, you scored 0.2284.\n",
      "normalize_unrated=True thresholded_watch_history=100 true_weighted_average=True\n",
      "normalize_unrated=True\n"
     ]
    },
    {
     "name": "stderr",
     "output_type": "stream",
     "text": [
      "parsing animes...: 100%|██████████| 12294/12294 [00:00<00:00, 19586.23it/s]\n",
      "parsing users...: 100%|██████████| 73515/73515 [00:16<00:00, 4350.61it/s]\n"
     ]
    },
    {
     "name": "stdout",
     "output_type": "stream",
     "text": [
      "Total Animes: 12294\n",
      "Total Users: 24697\n"
     ]
    },
    {
     "name": "stderr",
     "output_type": "stream",
     "text": [
      "building interaction matrix...: 100%|██████████| 19757/19757 [00:04<00:00, 4488.05it/s]\n"
     ]
    },
    {
     "name": "stdout",
     "output_type": "stream",
     "text": [
      "Percentage Zeroes: 0.41\n",
      "(2471, 10)\n"
     ]
    },
    {
     "name": "stderr",
     "output_type": "stream",
     "text": [
      "grid search...:  42%|████▏     | 5/12 [05:49<07:41, 65.95s/it]"
     ]
    },
    {
     "name": "stdout",
     "output_type": "stream",
     "text": [
      "This model took 18.7735 seconds.\n",
      "Out of an optimal score of 1.0, you scored 0.0021.\n",
      "normalize_unrated=True thresholded_watch_history=100 true_weighted_average=False\n",
      "normalize_unrated=True\n"
     ]
    },
    {
     "name": "stderr",
     "output_type": "stream",
     "text": [
      "parsing animes...: 100%|██████████| 12294/12294 [00:00<00:00, 20615.14it/s]\n",
      "parsing users...: 100%|██████████| 73515/73515 [00:15<00:00, 4790.65it/s]\n"
     ]
    },
    {
     "name": "stdout",
     "output_type": "stream",
     "text": [
      "Total Animes: 12294\n",
      "Total Users: 24697\n"
     ]
    },
    {
     "name": "stderr",
     "output_type": "stream",
     "text": [
      "building interaction matrix...: 100%|██████████| 19757/19757 [00:03<00:00, 5579.29it/s]\n"
     ]
    },
    {
     "name": "stdout",
     "output_type": "stream",
     "text": [
      "Percentage Zeroes: 0.41\n",
      "(2471, 10)\n"
     ]
    },
    {
     "name": "stderr",
     "output_type": "stream",
     "text": [
      "grid search...:  50%|█████     | 6/12 [06:32<05:49, 58.22s/it]"
     ]
    },
    {
     "name": "stdout",
     "output_type": "stream",
     "text": [
      "This model took 11.2863 seconds.\n",
      "Out of an optimal score of 1.0, you scored 0.1849.\n",
      "normalize_unrated=False thresholded_watch_history=10 true_weighted_average=True\n",
      "normalize_unrated=False\n"
     ]
    },
    {
     "name": "stderr",
     "output_type": "stream",
     "text": [
      "parsing animes...: 100%|██████████| 12294/12294 [00:00<00:00, 22766.18it/s]\n",
      "parsing users...: 100%|██████████| 73515/73515 [00:28<00:00, 2556.86it/s]\n"
     ]
    },
    {
     "name": "stdout",
     "output_type": "stream",
     "text": [
      "Total Animes: 12294\n",
      "Total Users: 61674\n"
     ]
    },
    {
     "name": "stderr",
     "output_type": "stream",
     "text": [
      "building interaction matrix...: 100%|██████████| 49339/49339 [00:09<00:00, 5374.84it/s]\n"
     ]
    },
    {
     "name": "stdout",
     "output_type": "stream",
     "text": [
      "Percentage Zeroes: 0.41\n",
      "(6168, 10)\n"
     ]
    },
    {
     "name": "stderr",
     "output_type": "stream",
     "text": [
      "grid search...:  58%|█████▊    | 7/12 [08:18<06:09, 73.85s/it]"
     ]
    },
    {
     "name": "stdout",
     "output_type": "stream",
     "text": [
      "This model took 45.1419 seconds.\n",
      "Out of an optimal score of 1.0, you scored 0.0014.\n",
      "normalize_unrated=False thresholded_watch_history=10 true_weighted_average=False\n",
      "normalize_unrated=False\n"
     ]
    },
    {
     "name": "stderr",
     "output_type": "stream",
     "text": [
      "parsing animes...: 100%|██████████| 12294/12294 [00:01<00:00, 7450.70it/s]\n",
      "parsing users...: 100%|██████████| 73515/73515 [00:31<00:00, 2364.88it/s]\n"
     ]
    },
    {
     "name": "stdout",
     "output_type": "stream",
     "text": [
      "Total Animes: 12294\n",
      "Total Users: 61674\n"
     ]
    },
    {
     "name": "stderr",
     "output_type": "stream",
     "text": [
      "building interaction matrix...: 100%|██████████| 49339/49339 [00:10<00:00, 4832.08it/s]\n"
     ]
    },
    {
     "name": "stdout",
     "output_type": "stream",
     "text": [
      "Percentage Zeroes: 0.41\n",
      "(6168, 10)\n"
     ]
    },
    {
     "name": "stderr",
     "output_type": "stream",
     "text": [
      "grid search...:  67%|██████▋   | 8/12 [09:52<05:20, 80.12s/it]"
     ]
    },
    {
     "name": "stdout",
     "output_type": "stream",
     "text": [
      "This model took 29.6341 seconds.\n",
      "Out of an optimal score of 1.0, you scored 0.2041.\n",
      "normalize_unrated=False thresholded_watch_history=20 true_weighted_average=True\n",
      "normalize_unrated=False\n"
     ]
    },
    {
     "name": "stderr",
     "output_type": "stream",
     "text": [
      "parsing animes...: 100%|██████████| 12294/12294 [00:01<00:00, 9545.90it/s]\n",
      "parsing users...: 100%|██████████| 73515/73515 [00:19<00:00, 3730.73it/s]\n"
     ]
    },
    {
     "name": "stdout",
     "output_type": "stream",
     "text": [
      "Total Animes: 12294\n",
      "Total Users: 54077\n"
     ]
    },
    {
     "name": "stderr",
     "output_type": "stream",
     "text": [
      "building interaction matrix...: 100%|██████████| 43261/43261 [00:06<00:00, 7097.41it/s]\n"
     ]
    },
    {
     "name": "stdout",
     "output_type": "stream",
     "text": [
      "Percentage Zeroes: 0.41\n",
      "(5409, 10)\n"
     ]
    },
    {
     "name": "stderr",
     "output_type": "stream",
     "text": [
      "grid search...:  75%|███████▌  | 9/12 [11:10<03:58, 79.46s/it]"
     ]
    },
    {
     "name": "stdout",
     "output_type": "stream",
     "text": [
      "This model took 33.1497 seconds.\n",
      "Out of an optimal score of 1.0, you scored 0.0015.\n",
      "normalize_unrated=False thresholded_watch_history=20 true_weighted_average=False\n",
      "normalize_unrated=False\n"
     ]
    },
    {
     "name": "stderr",
     "output_type": "stream",
     "text": [
      "parsing animes...: 100%|██████████| 12294/12294 [00:00<00:00, 17728.61it/s]\n",
      "parsing users...: 100%|██████████| 73515/73515 [00:22<00:00, 3234.85it/s]\n"
     ]
    },
    {
     "name": "stdout",
     "output_type": "stream",
     "text": [
      "Total Animes: 12294\n",
      "Total Users: 54077\n"
     ]
    },
    {
     "name": "stderr",
     "output_type": "stream",
     "text": [
      "building interaction matrix...: 100%|██████████| 43261/43261 [00:07<00:00, 5689.31it/s]\n"
     ]
    },
    {
     "name": "stdout",
     "output_type": "stream",
     "text": [
      "Percentage Zeroes: 0.41\n",
      "(5409, 10)\n"
     ]
    },
    {
     "name": "stderr",
     "output_type": "stream",
     "text": [
      "grid search...:  83%|████████▎ | 10/12 [12:23<02:34, 77.35s/it]"
     ]
    },
    {
     "name": "stdout",
     "output_type": "stream",
     "text": [
      "This model took 24.0292 seconds.\n",
      "Out of an optimal score of 1.0, you scored 0.2032.\n",
      "normalize_unrated=False thresholded_watch_history=100 true_weighted_average=True\n",
      "normalize_unrated=False\n"
     ]
    },
    {
     "name": "stderr",
     "output_type": "stream",
     "text": [
      "parsing animes...: 100%|██████████| 12294/12294 [00:00<00:00, 17737.77it/s]\n",
      "parsing users...: 100%|██████████| 73515/73515 [00:21<00:00, 3379.16it/s]\n"
     ]
    },
    {
     "name": "stdout",
     "output_type": "stream",
     "text": [
      "Total Animes: 12294\n",
      "Total Users: 24697\n"
     ]
    },
    {
     "name": "stderr",
     "output_type": "stream",
     "text": [
      "building interaction matrix...: 100%|██████████| 19757/19757 [00:05<00:00, 3371.44it/s]\n"
     ]
    },
    {
     "name": "stdout",
     "output_type": "stream",
     "text": [
      "Percentage Zeroes: 0.41\n",
      "(2471, 10)\n"
     ]
    },
    {
     "name": "stderr",
     "output_type": "stream",
     "text": [
      "grid search...:  92%|█████████▏| 11/12 [13:25<01:12, 72.71s/it]"
     ]
    },
    {
     "name": "stdout",
     "output_type": "stream",
     "text": [
      "This model took 19.3563 seconds.\n",
      "Out of an optimal score of 1.0, you scored 0.0018.\n",
      "normalize_unrated=False thresholded_watch_history=100 true_weighted_average=False\n",
      "normalize_unrated=False\n"
     ]
    },
    {
     "name": "stderr",
     "output_type": "stream",
     "text": [
      "parsing animes...: 100%|██████████| 12294/12294 [00:00<00:00, 18769.44it/s]\n",
      "parsing users...: 100%|██████████| 73515/73515 [00:12<00:00, 5761.93it/s]\n"
     ]
    },
    {
     "name": "stdout",
     "output_type": "stream",
     "text": [
      "Total Animes: 12294\n",
      "Total Users: 24697\n"
     ]
    },
    {
     "name": "stderr",
     "output_type": "stream",
     "text": [
      "building interaction matrix...: 100%|██████████| 19757/19757 [00:03<00:00, 5220.71it/s]\n"
     ]
    },
    {
     "name": "stdout",
     "output_type": "stream",
     "text": [
      "Percentage Zeroes: 0.41\n",
      "(2471, 10)\n"
     ]
    },
    {
     "name": "stderr",
     "output_type": "stream",
     "text": [
      "grid search...: 100%|██████████| 12/12 [14:06<00:00, 70.52s/it]"
     ]
    },
    {
     "name": "stdout",
     "output_type": "stream",
     "text": [
      "This model took 10.2462 seconds.\n",
      "Out of an optimal score of 1.0, you scored 0.1622.\n"
     ]
    },
    {
     "name": "stderr",
     "output_type": "stream",
     "text": [
      "\n"
     ]
    },
    {
     "ename": "NameError",
     "evalue": "name 'clear_output' is not defined",
     "output_type": "error",
     "traceback": [
      "\u001b[0;31m---------------------------------------------------------------------------\u001b[0m",
      "\u001b[0;31mNameError\u001b[0m                                 Traceback (most recent call last)",
      "Cell \u001b[0;32mIn[9], line 22\u001b[0m\n\u001b[1;32m     17\u001b[0m     runtime, ndcg \u001b[38;5;241m=\u001b[39m recommender\u001b[38;5;241m.\u001b[39minference()\n\u001b[1;32m     18\u001b[0m     results[normalize_unrated, thresholded_watch_history, true_weighted_average] \u001b[38;5;241m=\u001b[39m (\n\u001b[1;32m     19\u001b[0m         runtime,\n\u001b[1;32m     20\u001b[0m         ndcg,\n\u001b[1;32m     21\u001b[0m     )\n\u001b[0;32m---> 22\u001b[0m \u001b[43mclear_output\u001b[49m()\n",
      "\u001b[0;31mNameError\u001b[0m: name 'clear_output' is not defined"
     ]
    }
   ],
   "source": [
    "data_path = \"../data/copperunion\"\n",
    "output_path = \"../models/jaccard_knn\"\n",
    "results = {}\n",
    "for normalize_unrated, thresholded_watch_history, true_weighted_average in tqdm.tqdm(\n",
    "    product([True, False], [10, 20, 100], [True, False]),\n",
    "    desc=\"grid search...\",\n",
    "    total=2 * 2 * 3,\n",
    "):\n",
    "    options = {\n",
    "        \"normalize_unrated\": normalize_unrated,\n",
    "        \"thresholded_watch_history\": thresholded_watch_history,\n",
    "        \"true_weighted_average\": true_weighted_average,\n",
    "    }\n",
    "    print(f\"{normalize_unrated=} {thresholded_watch_history=} {true_weighted_average=}\")\n",
    "    recommender = JaccardRecommender(data_path, output_path, **options)\n",
    "    recommender.build_matrix()\n",
    "    runtime, ndcg = recommender.inference()\n",
    "    results[normalize_unrated, thresholded_watch_history, true_weighted_average] = (\n",
    "        runtime,\n",
    "        ndcg,\n",
    "    )\n",
    "clear_output()"
   ]
  },
  {
   "cell_type": "code",
   "execution_count": 16,
   "metadata": {},
   "outputs": [
    {
     "data": {
      "text/html": [
       "<div>\n",
       "<style scoped>\n",
       "    .dataframe tbody tr th:only-of-type {\n",
       "        vertical-align: middle;\n",
       "    }\n",
       "\n",
       "    .dataframe tbody tr th {\n",
       "        vertical-align: top;\n",
       "    }\n",
       "\n",
       "    .dataframe thead th {\n",
       "        text-align: right;\n",
       "    }\n",
       "</style>\n",
       "<table border=\"1\" class=\"dataframe\">\n",
       "  <thead>\n",
       "    <tr style=\"text-align: right;\">\n",
       "      <th></th>\n",
       "      <th>normalize_unrated</th>\n",
       "      <th>thresholded_watch_history</th>\n",
       "      <th>true_weighted_average</th>\n",
       "      <th>runtime</th>\n",
       "      <th>ndcg @ 10</th>\n",
       "    </tr>\n",
       "  </thead>\n",
       "  <tbody>\n",
       "    <tr>\n",
       "      <th>0</th>\n",
       "      <td>True</td>\n",
       "      <td>10</td>\n",
       "      <td>True</td>\n",
       "      <td>37.234467</td>\n",
       "      <td>0.001336</td>\n",
       "    </tr>\n",
       "    <tr>\n",
       "      <th>1</th>\n",
       "      <td>True</td>\n",
       "      <td>10</td>\n",
       "      <td>False</td>\n",
       "      <td>24.208000</td>\n",
       "      <td>0.232263</td>\n",
       "    </tr>\n",
       "    <tr>\n",
       "      <th>2</th>\n",
       "      <td>True</td>\n",
       "      <td>20</td>\n",
       "      <td>True</td>\n",
       "      <td>34.178117</td>\n",
       "      <td>0.001621</td>\n",
       "    </tr>\n",
       "    <tr>\n",
       "      <th>3</th>\n",
       "      <td>True</td>\n",
       "      <td>20</td>\n",
       "      <td>False</td>\n",
       "      <td>24.858905</td>\n",
       "      <td>0.228416</td>\n",
       "    </tr>\n",
       "    <tr>\n",
       "      <th>4</th>\n",
       "      <td>True</td>\n",
       "      <td>100</td>\n",
       "      <td>True</td>\n",
       "      <td>18.773455</td>\n",
       "      <td>0.002093</td>\n",
       "    </tr>\n",
       "    <tr>\n",
       "      <th>5</th>\n",
       "      <td>True</td>\n",
       "      <td>100</td>\n",
       "      <td>False</td>\n",
       "      <td>11.286252</td>\n",
       "      <td>0.184946</td>\n",
       "    </tr>\n",
       "    <tr>\n",
       "      <th>6</th>\n",
       "      <td>False</td>\n",
       "      <td>10</td>\n",
       "      <td>True</td>\n",
       "      <td>45.141935</td>\n",
       "      <td>0.001396</td>\n",
       "    </tr>\n",
       "    <tr>\n",
       "      <th>7</th>\n",
       "      <td>False</td>\n",
       "      <td>10</td>\n",
       "      <td>False</td>\n",
       "      <td>29.634101</td>\n",
       "      <td>0.204085</td>\n",
       "    </tr>\n",
       "    <tr>\n",
       "      <th>8</th>\n",
       "      <td>False</td>\n",
       "      <td>20</td>\n",
       "      <td>True</td>\n",
       "      <td>33.149710</td>\n",
       "      <td>0.001523</td>\n",
       "    </tr>\n",
       "    <tr>\n",
       "      <th>9</th>\n",
       "      <td>False</td>\n",
       "      <td>20</td>\n",
       "      <td>False</td>\n",
       "      <td>24.029245</td>\n",
       "      <td>0.203184</td>\n",
       "    </tr>\n",
       "    <tr>\n",
       "      <th>10</th>\n",
       "      <td>False</td>\n",
       "      <td>100</td>\n",
       "      <td>True</td>\n",
       "      <td>19.356283</td>\n",
       "      <td>0.001771</td>\n",
       "    </tr>\n",
       "    <tr>\n",
       "      <th>11</th>\n",
       "      <td>False</td>\n",
       "      <td>100</td>\n",
       "      <td>False</td>\n",
       "      <td>10.246205</td>\n",
       "      <td>0.162208</td>\n",
       "    </tr>\n",
       "  </tbody>\n",
       "</table>\n",
       "</div>"
      ],
      "text/plain": [
       "    normalize_unrated  thresholded_watch_history  true_weighted_average  \\\n",
       "0                True                         10                   True   \n",
       "1                True                         10                  False   \n",
       "2                True                         20                   True   \n",
       "3                True                         20                  False   \n",
       "4                True                        100                   True   \n",
       "5                True                        100                  False   \n",
       "6               False                         10                   True   \n",
       "7               False                         10                  False   \n",
       "8               False                         20                   True   \n",
       "9               False                         20                  False   \n",
       "10              False                        100                   True   \n",
       "11              False                        100                  False   \n",
       "\n",
       "      runtime  ndcg @ 10  \n",
       "0   37.234467   0.001336  \n",
       "1   24.208000   0.232263  \n",
       "2   34.178117   0.001621  \n",
       "3   24.858905   0.228416  \n",
       "4   18.773455   0.002093  \n",
       "5   11.286252   0.184946  \n",
       "6   45.141935   0.001396  \n",
       "7   29.634101   0.204085  \n",
       "8   33.149710   0.001523  \n",
       "9   24.029245   0.203184  \n",
       "10  19.356283   0.001771  \n",
       "11  10.246205   0.162208  "
      ]
     },
     "metadata": {},
     "output_type": "display_data"
    }
   ],
   "source": [
    "data = [list(k) + list(v) for k, v in results.items()]\n",
    "df = pd.DataFrame(\n",
    "    data,\n",
    "    columns=[\n",
    "        \"normalize_unrated\",\n",
    "        \"thresholded_watch_history\",\n",
    "        \"true_weighted_average\",\n",
    "        \"runtime\",\n",
    "        \"ndcg @ 10\",\n",
    "    ],\n",
    ")\n",
    "display(df)"
   ]
  },
  {
   "cell_type": "code",
   "execution_count": null,
   "metadata": {},
   "outputs": [
    {
     "name": "stdout",
     "output_type": "stream",
     "text": [
      "normalize_unrated=False thresholded_watch_history=100 true_weighted_average=False\n"
     ]
    },
    {
     "name": "stderr",
     "output_type": "stream",
     "text": [
      "parsing animes...: 100%|██████████| 12294/12294 [00:00<00:00, 21009.47it/s]\n",
      "parsing users...: 100%|██████████| 73515/73515 [00:15<00:00, 4706.57it/s]\n"
     ]
    },
    {
     "name": "stdout",
     "output_type": "stream",
     "text": [
      "Total Animes: 12294\n",
      "Total Users: 54077\n"
     ]
    },
    {
     "name": "stderr",
     "output_type": "stream",
     "text": [
      "building interaction matrix...: 100%|██████████| 43261/43261 [00:03<00:00, 11111.90it/s]\n"
     ]
    },
    {
     "name": "stdout",
     "output_type": "stream",
     "text": [
      "Percentage Zeroes: 0.41\n",
      "10074\n",
      "2220\n",
      "12294\n",
      "float64\n"
     ]
    }
   ],
   "source": [
    "options = {\n",
    "    \"normalize_unrated\": True,\n",
    "    \"thresholded_watch_history\": 20,\n",
    "    \"true_weighted_average\": True,\n",
    "}\n",
    "recommender = JaccardRecommender(data_path, output_path, **options)\n",
    "recommender.build_matrix()\n",
    "runtime, ndcg = recommender.inference()\n",
    "print(runtime, ndcg)"
   ]
  }
 ],
 "metadata": {
  "kernelspec": {
   "display_name": "cmu_10718",
   "language": "python",
   "name": "python3"
  },
  "language_info": {
   "codemirror_mode": {
    "name": "ipython",
    "version": 3
   },
   "file_extension": ".py",
   "mimetype": "text/x-python",
   "name": "python",
   "nbconvert_exporter": "python",
   "pygments_lexer": "ipython3",
   "version": "3.11.0"
  }
 },
 "nbformat": 4,
 "nbformat_minor": 2
}
